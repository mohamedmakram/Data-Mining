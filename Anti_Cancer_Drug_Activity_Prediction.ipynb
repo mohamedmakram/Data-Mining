{
  "cells": [
    {
      "cell_type": "markdown",
      "metadata": {
        "id": "rRKOZx9cqzb0"
      },
      "source": [
        "\n",
        "In computer science, a graph is a data structure consisting of two components: nodes (vertices) and edges.\n",
        "\n",
        "A graph G can be defined as G = (V, E), where V is the set of nodes, and E are the edges between them.\n",
        "\n",
        "If there are directional dependencies between nodes then edges are directed. If not, edges are undirected.\n",
        "\n",
        "###What is the experimental protocol used and how was it carried out?: \n",
        "\n",
        "is to feature extract edges and nodes and labels from the original data and after finding out that the data is imbalanced, performing up-sampling and use GNN predict whether it's positive or not\n",
        "\n",
        "## How did we tune hyper-parameters in the template? What is the search space\n",
        "\n",
        "\n",
        "by choosing different message passing mechanisms (GGNN,RGCN,RGAT, RGIN, GNN-Edge-MLP, GNN-FiLM)\n",
        "or changing batch size (16, 64) or number or epochs (5, 15)\n",
        "\n",
        "### what is the criteria to determine good/bad hyper-parameters?\n",
        "\n",
        "if the accuracy on the validation set goes well then changing that hyperparameter is a good attitude and one of the reason to create a validation set is to tune hyper-parameters\n",
        "\n",
        "\n",
        "### Define the problem.\n",
        "\n",
        "the problem is a graph data that we try to understand and feature engineering it to get useful information that help us predict the positivity or negativity. a bioassay task for anticancer activity prediction, where each chemical compound is represented as a graph, with atoms representing nodes and bonds as edges.\n",
        "\n",
        "### What is the input: \n",
        "graph data\n",
        " \n",
        "### What is the output:\n",
        " classification output 0 or 1\n",
        " \n",
        "### What data mining function is required:\n",
        " graph analysis using neural network. with such a complicated \n",
        " data you need such a powerful tool to handle it \n",
        " \n",
        "###What could be the challenges: \n",
        "  to transform that graph to something neural network can understand and I have to understand first in order to conduct my analysis\n",
        "  \n",
        "### What is the impact:\n",
        "choosing A chemical compound that is positive against non-small cell lung cancer, or negative otherwise\n",
        "\n",
        "### What is an ideal solution:\n",
        "is to come up with a model with high accuracy because this is a sensitive field and you don't want to miss aroud with people's life so with a small miss take might cause us lives and company's money and reputation\n"
      ]
    },
    {
      "cell_type": "code",
      "execution_count": 6,
      "metadata": {
        "id": "2VCHvM1mndaE"
      },
      "outputs": [],
      "source": [
        "import numpy as np\n",
        "from tqdm.notebook import tqdm\n",
        "\n",
        "#this function split the samples with the $ sign then extract label\n",
        "def read_sdf(file):\n",
        "    with open(file, 'r') as rf:\n",
        "        content = rf.read()\n",
        "    samples = content.split('$$$$')\n",
        "    \n",
        "    def parse_sample(s):\n",
        "        lines = s.splitlines()\n",
        "        links = []\n",
        "        nodes = []\n",
        "        label = 0\n",
        "        for l in lines:\n",
        "            if l.strip() == '1.0':\n",
        "                label = 1\n",
        "            if l.strip() == '-1.0':\n",
        "                label = 0\n",
        "            if l.startswith('    '):   # extract nodes from the dataset\n",
        "                feature = l.split()\n",
        "                node = feature[3]\n",
        "                nodes.append(node)\n",
        "            elif l.startswith(' '):\n",
        "                lnk = l.split()\n",
        "                # edge: (from, to,) (1-based index)\n",
        "                if int(lnk[0]) - 1 < len(nodes):   # extract edges from the dataset\n",
        "                    links.append((\n",
        "                        int(lnk[0])-1, \n",
        "                        int(lnk[1])-1, # zero-based index\n",
        "                        # int(lnk[2]) ignore edge weight\n",
        "                    ))\n",
        "        return nodes, np.array(links), label\n",
        "    \n",
        "    return [parse_sample(s) for s in tqdm(samples) if len(s[0]) > 0]\n",
        "                "
      ]
    },
    {
      "cell_type": "markdown",
      "metadata": {
        "id": "8ra4TzaGv5VK"
      },
      "source": [
        "imbalance data"
      ]
    },
    {
      "cell_type": "code",
      "execution_count": 7,
      "metadata": {
        "colab": {
          "base_uri": "https://localhost:8080/",
          "height": 49,
          "referenced_widgets": [
            "63c6717b0ba143a5bc7e0239ef16b08f",
            "85410043fcd44f6c93d4045dc61743b0",
            "c47d3188971c4534a474ab51d68ae31b",
            "d17a9a54caad49dca2b7e020208b921f",
            "ef7503bf494c437e86d5542414ff9279",
            "4f7bf4aa24d941b6bdb0f6c226ae9886",
            "3f70be8ff0c6488b9dcc85ac49c8e8ab",
            "4337413347b943acb2381c91abd93fc5",
            "3dbe1f253535402584da24588a14667d",
            "609cf80f7e1c4a399caf205ec18d3b1a",
            "0d34b279235c4ad397a07c260770f6c3"
          ]
        },
        "id": "JrFfrdYUq5H6",
        "outputId": "e7364720-5206-4689-c173-b6f2c258d54b"
      },
      "outputs": [
        {
          "output_type": "display_data",
          "data": {
            "text/plain": [
              "  0%|          | 0/25024 [00:00<?, ?it/s]"
            ],
            "application/vnd.jupyter.widget-view+json": {
              "version_major": 2,
              "version_minor": 0,
              "model_id": "63c6717b0ba143a5bc7e0239ef16b08f"
            }
          },
          "metadata": {}
        }
      ],
      "source": [
        "from sklearn.model_selection import train_test_split\n",
        "\n",
        "training_set = read_sdf('train.sdf')\n",
        "training_set, validation_set = train_test_split(training_set, test_size=0.15,)"
      ]
    },
    {
      "cell_type": "code",
      "execution_count": 8,
      "metadata": {
        "colab": {
          "base_uri": "https://localhost:8080/"
        },
        "id": "qS8yu6wlv4tg",
        "outputId": "9d88c0c8-144b-4a90-8391-19878be2bdfc"
      },
      "outputs": [
        {
          "output_type": "stream",
          "name": "stderr",
          "text": [
            "/usr/local/lib/python3.7/dist-packages/ipykernel_launcher.py:1: VisibleDeprecationWarning: Creating an ndarray from ragged nested sequences (which is a list-or-tuple of lists-or-tuples-or ndarrays with different lengths or shapes) is deprecated. If you meant to do this, you must specify 'dtype=object' when creating the ndarray.\n",
            "  \"\"\"Entry point for launching an IPython kernel.\n"
          ]
        },
        {
          "output_type": "execute_result",
          "data": {
            "text/plain": [
              "(array([0, 1]), array([20232,  1038]))"
            ]
          },
          "metadata": {},
          "execution_count": 8
        }
      ],
      "source": [
        "np.unique(np.array(training_set)[:,2].astype('int'), return_counts = True)"
      ]
    },
    {
      "cell_type": "code",
      "execution_count": 9,
      "metadata": {
        "colab": {
          "base_uri": "https://localhost:8080/",
          "height": 49,
          "referenced_widgets": [
            "01f4259334684a718cbbfc38d2a29a46",
            "20436f57c8b848b185353fb1480642a7",
            "600651a54c2e414ea98d369b6fb01306",
            "fef27b9f35764b96bf13b86fff9df6da",
            "8b43e45bc67042deb8691dab503130c5",
            "13d9e7aa84d845bdbc92656441c4b2bd",
            "e020ce5f9ffc41aa8cc816bcd57761a9",
            "19e6dffca14342c8bbf72256caf16fff",
            "986f94115f544ccd8d1be44a8cfc2640",
            "29885712e01041ca86ffbc4cd6d9840d",
            "b17183cf532e47ceb7cb93f7e9bb4d75"
          ]
        },
        "id": "ywVuA1dhsKwl",
        "outputId": "a59145bd-88ba-43a6-d2cc-1f1bd209b030"
      },
      "outputs": [
        {
          "output_type": "display_data",
          "data": {
            "text/plain": [
              "  0%|          | 0/12326 [00:00<?, ?it/s]"
            ],
            "application/vnd.jupyter.widget-view+json": {
              "version_major": 2,
              "version_minor": 0,
              "model_id": "01f4259334684a718cbbfc38d2a29a46"
            }
          },
          "metadata": {}
        }
      ],
      "source": [
        "testing_set  = read_sdf('test_x.sdf')"
      ]
    },
    {
      "cell_type": "code",
      "execution_count": 10,
      "metadata": {
        "colab": {
          "base_uri": "https://localhost:8080/"
        },
        "id": "dOTQqBxWsNtj",
        "outputId": "94162289-8055-46cb-bf44-ebe83abb3fa5"
      },
      "outputs": [
        {
          "output_type": "stream",
          "name": "stdout",
          "text": [
            "(['Ga', 'O', 'O', 'O', 'O', 'O', 'O', 'C', 'C', 'C', 'C', 'C', 'C', 'C', 'C', 'C', 'C', 'C', 'C', 'C', 'C', 'C'], array([[ 0,  1],\n",
            "       [ 0,  2],\n",
            "       [ 0,  3],\n",
            "       [ 0,  4],\n",
            "       [ 0,  5],\n",
            "       [ 0,  6],\n",
            "       [ 1,  7],\n",
            "       [ 2,  8],\n",
            "       [ 3, 10],\n",
            "       [ 4,  9],\n",
            "       [ 5, 12],\n",
            "       [ 6, 11],\n",
            "       [ 7, 13],\n",
            "       [ 7, 16],\n",
            "       [ 8, 13],\n",
            "       [ 8, 19],\n",
            "       [ 9, 14],\n",
            "       [ 9, 21],\n",
            "       [10, 14],\n",
            "       [10, 17],\n",
            "       [11, 15],\n",
            "       [11, 18],\n",
            "       [12, 15],\n",
            "       [12, 20]]), 0)\n"
          ]
        }
      ],
      "source": [
        "print(training_set[1])"
      ]
    },
    {
      "cell_type": "code",
      "execution_count": 11,
      "metadata": {
        "id": "HxfNa4d1sQZa"
      },
      "outputs": [],
      "source": [
        "!pip install --quiet networkx\n",
        "import networkx as nx\n",
        "import matplotlib.pyplot as plt\n",
        "from matplotlib import cm\n",
        "# colors represent each chemical compound\n",
        "colors = cm.rainbow(np.linspace(0, 1, 50))"
      ]
    },
    {
      "cell_type": "code",
      "execution_count": 12,
      "metadata": {
        "id": "nxcvVvmCsTH4"
      },
      "outputs": [],
      "source": [
        "# using the data that we have extracted from the original data \n",
        "# to plot the graph's nodes and edges \n",
        "def visualize(sample):\n",
        "    G=nx.Graph()\n",
        "    nodes = sample[0]\n",
        "    edges = sample[1]\n",
        "    \n",
        "    labeldict={}\n",
        "    node_color=[]\n",
        "    for i,n in enumerate(nodes):\n",
        "        G.add_node(i)\n",
        "        labeldict[i]=n\n",
        "        node_color.append(colors[hash(n)%len(colors)])\n",
        "\n",
        "    # a list of nodes:\n",
        "    for e in edges:\n",
        "        G.add_edge(e[0], e[1])\n",
        "        \n",
        "    nx.draw(G, labels=labeldict, with_labels = True, node_color = node_color)\n",
        "    plt.show()\n",
        "    \n",
        "    return G"
      ]
    },
    {
      "cell_type": "code",
      "execution_count": 13,
      "metadata": {
        "colab": {
          "base_uri": "https://localhost:8080/",
          "height": 336
        },
        "id": "3PmfyjExsV0f",
        "outputId": "b7136e19-ef9c-4bde-de72-4c4a4858504e"
      },
      "outputs": [
        {
          "output_type": "display_data",
          "data": {
            "text/plain": [
              "<Figure size 432x288 with 1 Axes>"
            ],
            "image/png": "[encoded data removed]"
          },
          "metadata": {}
        },
        {
          "output_type": "execute_result",
          "data": {
            "text/plain": [
              "<networkx.classes.graph.Graph at 0x7ff9eb744750>"
            ]
          },
          "metadata": {},
          "execution_count": 13
        }
      ],
      "source": [
        "plt.clf()\n",
        "visualize(training_set[20])"
      ]
    },
    {
      "cell_type": "code",
      "execution_count": 14,
      "metadata": {
        "id": "w5gCG2AZsX40"
      },
      "outputs": [],
      "source": [
        "from tensorflow.keras.preprocessing.text import Tokenizer\n",
        "\n",
        "max_vocab = 500\n",
        "max_len = 100\n",
        "\n",
        "\n",
        "# build vocabulary from training set\n",
        "all_nodes = [s[0] for s in training_set]\n",
        "tokenizer = Tokenizer(num_words=max_vocab)\n",
        "tokenizer.fit_on_texts(all_nodes)"
      ]
    },
    {
      "cell_type": "code",
      "execution_count": 15,
      "metadata": {
        "id": "wGPtH4lBsbqW"
      },
      "outputs": [],
      "source": [
        "from tensorflow.keras.preprocessing.sequence import pad_sequences\n",
        "import random\n",
        "random.seed(0)\n",
        "\n",
        "def prepare_single_batch(samples):\n",
        "    sample_nodes = [s[0] for s in samples]\n",
        "    sample_nodes = tokenizer.texts_to_sequences(sample_nodes)\n",
        "    sample_nodes = pad_sequences(sample_nodes, padding='post')\n",
        "    max_nodes_len = np.shape(sample_nodes)[1]\n",
        "    edges = [s[1]+i*max_nodes_len for i,s in enumerate(samples)]\n",
        "    edges = [e for e in edges if len(e) > 0]\n",
        "    node_to_graph = [[i]*max_nodes_len for i in range(len(samples))]\n",
        "    \n",
        "    all_nodes = np.reshape(sample_nodes, -1)\n",
        "    all_edges = np.concatenate(edges)\n",
        "\n",
        "    node_to_graph = np.reshape(node_to_graph, -1)\n",
        "    return {\n",
        "        'data': all_nodes,\n",
        "        'edges': all_edges,\n",
        "        'node2grah': node_to_graph,\n",
        "    }, np.array([s[2] for s in samples])\n",
        "\n",
        "\n",
        "\n",
        "def gen_batch(dataset, batch_size=16, repeat=False, shuffle=True):\n",
        "    while True:\n",
        "        dataset = list(dataset)\n",
        "        if shuffle:\n",
        "            random.shuffle(dataset)\n",
        "        l = len(dataset)\n",
        "        for ndx in range(0, l, batch_size):\n",
        "            batch_samples = dataset[ndx:min(ndx + batch_size, l)]\n",
        "            yield prepare_single_batch(batch_samples)\n",
        "        if not repeat:\n",
        "            break\n"
      ]
    },
    {
      "cell_type": "code",
      "execution_count": 16,
      "metadata": {
        "colab": {
          "base_uri": "https://localhost:8080/"
        },
        "id": "Ue0WPdvusf9z",
        "outputId": "568b992d-a7e4-44ab-a422-a63d94145684"
      },
      "outputs": [
        {
          "output_type": "stream",
          "name": "stdout",
          "text": [
            "data\n",
            "[2 2 2 2 2 2 3 3 1 1 1 1 1 1 1 1 1 1 1 1 1 1 1 1 1 1 1 1 1 1 1 1 1 0 0 0 0\n",
            " 0 0 0 0 0 2 2 2 2 2 2 2 2 2 2 1 1 1 1 1 1 1 1 1 1 1 1 1 1 1 1 1 1 1 1 1 1\n",
            " 1 1 1 1 1 1 1 1 1 1 4 2 2 2 2 2 2 3 3 3 3 3 3 3 1 1 1 1 1 1 1 1 1 1 1 1 0\n",
            " 0 0 0 0 0 0 0 0 0 0 0 0 0 0 0 2 2 3 3 1 1 1 1 1 1 1 1 1 1 1 1 1 1 0 0 0 0\n",
            " 0 0 0 0 0 0 0 0 0 0 0 0 0 0 0 0 0 0 0 0]\n",
            "edges\n",
            "[[  0  18]\n",
            " [  1  19]\n",
            " [  2  20]\n",
            " [  3  21]\n",
            " [  4  29]\n",
            " [  5  28]\n",
            " [  6  29]\n",
            " [  6  30]\n",
            " [  7  28]\n",
            " [  7  31]\n",
            " [  8  10]\n",
            " [  8  14]\n",
            " [  8  16]\n",
            " [  9  11]\n",
            " [  9  15]\n",
            " [  9  17]\n",
            " [ 10  22]\n",
            " [ 10  24]\n",
            " [ 11  23]\n",
            " [ 11  25]\n",
            " [ 12  14]\n",
            " [ 12  26]\n",
            " [ 12  28]\n",
            " [ 13  15]\n",
            " [ 13  27]\n",
            " [ 13  29]\n",
            " [ 16  18]\n",
            " [ 17  19]\n",
            " [ 18  20]\n",
            " [ 19  21]\n",
            " [ 20  22]\n",
            " [ 21  23]\n",
            " [ 24  26]\n",
            " [ 25  27]\n",
            " [ 30  32]\n",
            " [ 31  32]\n",
            " [ 42  58]\n",
            " [ 42  71]\n",
            " [ 43  59]\n",
            " [ 43  70]\n",
            " [ 44  60]\n",
            " [ 44  67]\n",
            " [ 45  61]\n",
            " [ 45  66]\n",
            " [ 46  62]\n",
            " [ 46  68]\n",
            " [ 47  63]\n",
            " [ 47  69]\n",
            " [ 48  60]\n",
            " [ 49  61]\n",
            " [ 50  62]\n",
            " [ 51  63]\n",
            " [ 52  53]\n",
            " [ 52  55]\n",
            " [ 52  56]\n",
            " [ 52  64]\n",
            " [ 53  54]\n",
            " [ 53  57]\n",
            " [ 53  65]\n",
            " [ 54  58]\n",
            " [ 54  61]\n",
            " [ 55  59]\n",
            " [ 55  60]\n",
            " [ 56  58]\n",
            " [ 56  62]\n",
            " [ 57  59]\n",
            " [ 57  63]\n",
            " [ 66  75]\n",
            " [ 66  76]\n",
            " [ 66  77]\n",
            " [ 67  72]\n",
            " [ 67  73]\n",
            " [ 67  74]\n",
            " [ 68  78]\n",
            " [ 68  79]\n",
            " [ 68  80]\n",
            " [ 69  81]\n",
            " [ 69  82]\n",
            " [ 69  83]\n",
            " [ 84  87]\n",
            " [ 84  88]\n",
            " [ 84  97]\n",
            " [ 84 106]\n",
            " [ 85  94]\n",
            " [ 86  94]\n",
            " [ 89  95]\n",
            " [ 90  95]\n",
            " [ 91  98]\n",
            " [ 91  99]\n",
            " [ 91 102]\n",
            " [ 92 100]\n",
            " [ 92 103]\n",
            " [ 92 104]\n",
            " [ 93  99]\n",
            " [ 93 101]\n",
            " [ 94  98]\n",
            " [ 95 100]\n",
            " [ 96 100]\n",
            " [ 96 107]\n",
            " [ 97 105]\n",
            " [ 98 101]\n",
            " [ 99 109]\n",
            " [102 105]\n",
            " [103 107]\n",
            " [104 108]\n",
            " [106 108]\n",
            " [126 130]\n",
            " [126 142]\n",
            " [127 131]\n",
            " [127 143]\n",
            " [128 137]\n",
            " [128 140]\n",
            " [129 139]\n",
            " [129 141]\n",
            " [130 131]\n",
            " [130 133]\n",
            " [131 134]\n",
            " [132 133]\n",
            " [132 135]\n",
            " [132 136]\n",
            " [134 135]\n",
            " [136 138]\n",
            " [137 138]\n",
            " [137 139]\n",
            " [140 141]]\n",
            "node2grah\n",
            "[0 0 0 0 0 0 0 0 0 0 0 0 0 0 0 0 0 0 0 0 0 0 0 0 0 0 0 0 0 0 0 0 0 0 0 0 0\n",
            " 0 0 0 0 0 1 1 1 1 1 1 1 1 1 1 1 1 1 1 1 1 1 1 1 1 1 1 1 1 1 1 1 1 1 1 1 1\n",
            " 1 1 1 1 1 1 1 1 1 1 2 2 2 2 2 2 2 2 2 2 2 2 2 2 2 2 2 2 2 2 2 2 2 2 2 2 2\n",
            " 2 2 2 2 2 2 2 2 2 2 2 2 2 2 2 3 3 3 3 3 3 3 3 3 3 3 3 3 3 3 3 3 3 3 3 3 3\n",
            " 3 3 3 3 3 3 3 3 3 3 3 3 3 3 3 3 3 3 3 3]\n",
            "label [0 0 0 0]\n"
          ]
        }
      ],
      "source": [
        "# showing one batch:\n",
        "for train_batch in gen_batch(training_set, batch_size=4):\n",
        "    for k,v in train_batch[0].items():\n",
        "        print(k)\n",
        "        print(v)\n",
        "        pass\n",
        "    print('label', train_batch[1])\n",
        "    break"
      ]
    },
    {
      "cell_type": "code",
      "execution_count": 17,
      "metadata": {
        "id": "ztPIvWg9sgxu"
      },
      "outputs": [],
      "source": [
        "!pip install --quiet tf2_gnn\n",
        "\n",
        "# https://github.com/microsoft/tf2-gnn\n",
        "# https://github.com/microsoft/tf2-gnn/blob/master/tf2_gnn/layers/gnn.py\n",
        "\n",
        "from tf2_gnn.layers.gnn import GNN, GNNInput"
      ]
    },
    {
      "cell_type": "markdown",
      "metadata": {
        "id": "rX0wyR_txLao"
      },
      "source": [
        "## Trial 1\n",
        "thoughts and observations for trial 1: without upsampling and for \"message_calculation_class\", I have used GNN\n",
        "\n",
        " plan for trial 2: try to use different \"message_calculation_class\""
      ]
    },
    {
      "cell_type": "code",
      "execution_count": null,
      "metadata": {
        "colab": {
          "base_uri": "https://localhost:8080/"
        },
        "id": "UE5y6PuNsk4B",
        "outputId": "ab35586e-0172-4315-d963-8de8b11971c7"
      },
      "outputs": [
        {
          "name": "stdout",
          "output_type": "stream",
          "text": [
            "gnn_out KerasTensor(type_spec=TensorSpec(shape=(None, 32), dtype=tf.float32, name=None), name='gnn/StatefulPartitionedCall:0', description=\"created by layer 'gnn'\")\n",
            "mean: KerasTensor(type_spec=TensorSpec(shape=(None, 32), dtype=tf.float32, name=None), name='tf.math.segment_mean/SegmentMean:0', description=\"created by layer 'tf.math.segment_mean'\")\n",
            "pred: KerasTensor(type_spec=TensorSpec(shape=(None, 1), dtype=tf.float32, name=None), name='dense/Sigmoid:0', description=\"created by layer 'dense'\")\n",
            "Model: \"model\"\n",
            "__________________________________________________________________________________________________\n",
            " Layer (type)                   Output Shape         Param #     Connected to                     \n",
            "==================================================================================================\n",
            " input_3 (InputLayer)           [(None,)]            0           []                               \n",
            "                                                                                                  \n",
            " input_1 (InputLayer)           [(None,)]            0           []                               \n",
            "                                                                                                  \n",
            " tf.math.reduce_max (TFOpLambda  ()                  0           ['input_3[0][0]']                \n",
            " )                                                                                                \n",
            "                                                                                                  \n",
            " embedding (Embedding)          (None, 20)           10000       ['input_1[0][0]']                \n",
            "                                                                                                  \n",
            " input_2 (InputLayer)           [(None, 2)]          0           []                               \n",
            "                                                                                                  \n",
            " tf.__operators__.add (TFOpLamb  ()                  0           ['tf.math.reduce_max[0][0]']     \n",
            " da)                                                                                              \n",
            "                                                                                                  \n",
            " gnn (GNN)                      (None, 32)           22464       ['embedding[0][0]',              \n",
            "                                                                  'input_2[0][0]',                \n",
            "                                                                  'input_3[0][0]',                \n",
            "                                                                  'tf.__operators__.add[0][0]']   \n",
            "                                                                                                  \n",
            " tf.math.segment_mean (TFOpLamb  (None, 32)          0           ['gnn[0][0]',                    \n",
            " da)                                                              'input_3[0][0]']                \n",
            "                                                                                                  \n",
            " dense (Dense)                  (None, 1)            33          ['tf.math.segment_mean[0][0]']   \n",
            "                                                                                                  \n",
            "==================================================================================================\n",
            "Total params: 32,497\n",
            "Trainable params: 32,497\n",
            "Non-trainable params: 0\n",
            "__________________________________________________________________________________________________\n"
          ]
        }
      ],
      "source": [
        "import tensorflow as tf\n",
        "from tensorflow.math import segment_mean\n",
        "from tensorflow import keras\n",
        "from tensorflow.keras import Input, Model\n",
        "from tensorflow.keras.layers import Embedding, Dense\n",
        "from tensorflow.keras.optimizers import Adam\n",
        "\n",
        "data = keras.Input(batch_shape=(None,))\n",
        "\n",
        "# the first dim is different to the previous one. it is the total number of edges in this batch\n",
        "edge = keras.Input(batch_shape=(None, 2), dtype=tf.int32)\n",
        "node2graph = keras.Input(batch_shape=(None,), dtype=tf.int32)\n",
        "embeded = Embedding(tokenizer.num_words, 20)(data)\n",
        "\n",
        "# number of graphs (number of samples)\n",
        "num_graph = tf.reduce_max(node2graph)+1\n",
        "\n",
        "gnn_input = GNNInput(\n",
        "    node_features=embeded,\n",
        "    adjacency_lists=(edge,),\n",
        "    node_to_graph_map=node2graph, \n",
        "    num_graphs=num_graph,\n",
        ")\n",
        "\n",
        "# https://github.com/microsoft/tf2-gnn/blob/master/tf2_gnn/layers/gnn.py\n",
        "params = GNN.get_default_hyperparameters()\n",
        "params[\"hidden_dim\"] = 32\n",
        "#params(\"message_calculation_class\")\n",
        "gnn_layer = GNN(params)\n",
        "gnn_out = gnn_layer(gnn_input)\n",
        "\n",
        "print('gnn_out', gnn_out)\n",
        "\n",
        "# https://www.tensorflow.org/api_docs/python/tf/math/segment_mean\n",
        "avg = segment_mean(\n",
        "    data=gnn_out,\n",
        "    segment_ids=node2graph\n",
        ")\n",
        "print('mean:', avg)\n",
        "\n",
        "pred = Dense(1, activation='sigmoid')(avg)\n",
        "print('pred:', pred)\n",
        "\n",
        "model = Model(\n",
        "    inputs={\n",
        "        'data': data,\n",
        "        'edges': edge,\n",
        "        'node2grah': node2graph,\n",
        "    },\n",
        "    outputs=pred\n",
        ")\n",
        "model.summary()"
      ]
    },
    {
      "cell_type": "code",
      "execution_count": null,
      "metadata": {
        "id": "Rr2g5QzDtBAD"
      },
      "outputs": [],
      "source": [
        "model.compile(\n",
        "    loss='BinaryCrossentropy',\n",
        "    metrics=['AUC']\n",
        ")"
      ]
    },
    {
      "cell_type": "code",
      "execution_count": null,
      "metadata": {
        "colab": {
          "base_uri": "https://localhost:8080/"
        },
        "id": "uLNHP4kHjw9Y",
        "outputId": "53b7461d-0290-4511-dd74-82d85e78ff7e"
      },
      "outputs": [
        {
          "name": "stdout",
          "output_type": "stream",
          "text": [
            "<generator object gen_batch at 0x7fa5b5b629d0>\n"
          ]
        }
      ],
      "source": [
        "print(gen_batch(training_set))"
      ]
    },
    {
      "cell_type": "code",
      "execution_count": null,
      "metadata": {
        "colab": {
          "base_uri": "https://localhost:8080/"
        },
        "id": "dwCr5w8CtDf2",
        "outputId": "f3bf62b5-d8c2-432c-b1ea-289fb2094de9"
      },
      "outputs": [
        {
          "name": "stdout",
          "output_type": "stream",
          "text": [
            "Epoch 1/5\n"
          ]
        },
        {
          "name": "stderr",
          "output_type": "stream",
          "text": [
            "/usr/local/lib/python3.7/dist-packages/tensorflow/python/framework/indexed_slices.py:446: UserWarning: Converting sparse IndexedSlices(IndexedSlices(indices=Tensor(\"gradients/cond_3_grad/Identity_1:0\", shape=(None,), dtype=int32), values=Tensor(\"gradients/cond_3_grad/Identity:0\", shape=(None, 32), dtype=float32), dense_shape=Tensor(\"gradients/cond_3_grad/Identity_2:0\", shape=(2,), dtype=int32))) to a dense Tensor of unknown shape. This may consume a large amount of memory.\n",
            "  \"shape. This may consume a large amount of memory.\" % value)\n",
            "/usr/local/lib/python3.7/dist-packages/tensorflow/python/framework/indexed_slices.py:446: UserWarning: Converting sparse IndexedSlices(IndexedSlices(indices=Tensor(\"gradients/GatherV2_1_grad/Reshape_1:0\", shape=(None,), dtype=int32), values=Tensor(\"gradients/GatherV2_1_grad/Reshape:0\", shape=(None,), dtype=float32), dense_shape=Tensor(\"gradients/GatherV2_1_grad/Cast:0\", shape=(1,), dtype=int32))) to a dense Tensor of unknown shape. This may consume a large amount of memory.\n",
            "  \"shape. This may consume a large amount of memory.\" % value)\n",
            "/usr/local/lib/python3.7/dist-packages/tensorflow/python/framework/indexed_slices.py:446: UserWarning: Converting sparse IndexedSlices(IndexedSlices(indices=Tensor(\"gradients/GatherV2_grad/Reshape_1:0\", shape=(None,), dtype=int32), values=Tensor(\"gradients/GatherV2_grad/Reshape:0\", shape=(None,), dtype=float32), dense_shape=Tensor(\"gradients/GatherV2_grad/Cast:0\", shape=(1,), dtype=int32))) to a dense Tensor of unknown shape. This may consume a large amount of memory.\n",
            "  \"shape. This may consume a large amount of memory.\" % value)\n",
            "/usr/local/lib/python3.7/dist-packages/tensorflow/python/framework/indexed_slices.py:446: UserWarning: Converting sparse IndexedSlices(IndexedSlices(indices=Tensor(\"gradients/rgcn_2/embedding_lookup_grad/Reshape_1:0\", shape=(None,), dtype=int32), values=Tensor(\"gradients/rgcn_2/embedding_lookup_grad/Reshape:0\", shape=(None, 32), dtype=float32), dense_shape=Tensor(\"gradients/rgcn_2/embedding_lookup_grad/Cast:0\", shape=(2,), dtype=int32))) to a dense Tensor of unknown shape. This may consume a large amount of memory.\n",
            "  \"shape. This may consume a large amount of memory.\" % value)\n",
            "/usr/local/lib/python3.7/dist-packages/tensorflow/python/framework/indexed_slices.py:446: UserWarning: Converting sparse IndexedSlices(IndexedSlices(indices=Tensor(\"gradients/cond_1_grad/Identity_1:0\", shape=(None,), dtype=int32), values=Tensor(\"gradients/cond_1_grad/Identity:0\", shape=(None, 32), dtype=float32), dense_shape=Tensor(\"gradients/cond_1_grad/Identity_2:0\", shape=(2,), dtype=int32))) to a dense Tensor of unknown shape. This may consume a large amount of memory.\n",
            "  \"shape. This may consume a large amount of memory.\" % value)\n",
            "/usr/local/lib/python3.7/dist-packages/tensorflow/python/framework/indexed_slices.py:446: UserWarning: Converting sparse IndexedSlices(IndexedSlices(indices=Tensor(\"gradients/rgcn/embedding_lookup_grad/Reshape_1:0\", shape=(None,), dtype=int32), values=Tensor(\"gradients/rgcn/embedding_lookup_grad/Reshape:0\", shape=(None, 32), dtype=float32), dense_shape=Tensor(\"gradients/rgcn/embedding_lookup_grad/Cast:0\", shape=(2,), dtype=int32))) to a dense Tensor of unknown shape. This may consume a large amount of memory.\n",
            "  \"shape. This may consume a large amount of memory.\" % value)\n"
          ]
        },
        {
          "name": "stdout",
          "output_type": "stream",
          "text": [
            "1330/1330 [==============================] - 38s 26ms/step - loss: 0.2186 - auc: 0.5176 - val_loss: 0.1993 - val_auc: 0.6295\n",
            "Epoch 2/5\n",
            "1330/1330 [==============================] - 18s 14ms/step - loss: 0.1960 - auc: 0.6252 - val_loss: 0.2026 - val_auc: 0.6733\n",
            "Epoch 3/5\n",
            "1330/1330 [==============================] - 19s 14ms/step - loss: 0.1907 - auc: 0.6633 - val_loss: 0.1929 - val_auc: 0.6963\n",
            "Epoch 4/5\n",
            "1330/1330 [==============================] - 18s 14ms/step - loss: 0.1861 - auc: 0.6800 - val_loss: 0.2072 - val_auc: 0.6619\n",
            "Epoch 5/5\n",
            "1330/1330 [==============================] - 19s 14ms/step - loss: 0.1850 - auc: 0.6901 - val_loss: 0.1972 - val_auc: 0.6870\n"
          ]
        },
        {
          "data": {
            "text/plain": [
              "<keras.callbacks.History at 0x7fee7c9bb890>"
            ]
          },
          "execution_count": 18,
          "metadata": {},
          "output_type": "execute_result"
        }
      ],
      "source": [
        "import math\n",
        "\n",
        "batch_size = 16\n",
        "num_batchs = math.ceil(len(training_set) / batch_size)\n",
        "num_batchs_validation = math.ceil(len(validation_set) / batch_size)\n",
        "\n",
        "model.fit(\n",
        "    gen_batch(\n",
        "        training_set, batch_size=batch_size, repeat=True\n",
        "    ),\n",
        "    steps_per_epoch=num_batchs,\n",
        "    epochs=5,\n",
        "    validation_data=gen_batch(\n",
        "        validation_set, batch_size=16, repeat=True\n",
        "    ),\n",
        "    validation_steps=num_batchs_validation,\n",
        ")"
      ]
    },
    {
      "cell_type": "code",
      "execution_count": null,
      "metadata": {
        "id": "6cYZu0aTtGGR"
      },
      "outputs": [],
      "source": [
        "y_pred = model.predict(\n",
        "    gen_batch(testing_set, batch_size=16, shuffle=False)\n",
        ")\n",
        "y_pred = np.reshape(y_pred, -1)"
      ]
    },
    {
      "cell_type": "code",
      "execution_count": null,
      "metadata": {
        "id": "qS9IywGdtvHa"
      },
      "outputs": [],
      "source": [
        "import pandas as pd \n",
        "submission = pd.DataFrame({'label':y_pred})\n",
        "submission.index.name = 'id'\n",
        "submission.to_csv('sample_submission.csv')"
      ]
    },
    {
      "cell_type": "code",
      "execution_count": null,
      "metadata": {
        "id": "3KTmxnd6xGSe"
      },
      "outputs": [],
      "source": [
        ""
      ]
    },
    {
      "cell_type": "markdown",
      "metadata": {
        "id": "uut4J2y59yTy"
      },
      "source": [
        "## Trial 2:\n",
        "\n",
        "thoughts and observations for trial 1: without upsampling and for \"message_calculation_class\", I have used GNN. this model gave me score 0.68817 on kaggle\n",
        "\n",
        "plan for trial 2: try to use different \"message_calculation_class\", without upsampling"
      ]
    },
    {
      "cell_type": "code",
      "execution_count": null,
      "metadata": {
        "colab": {
          "base_uri": "https://localhost:8080/"
        },
        "id": "ZVNSTO6n-3d6",
        "outputId": "0f7f6afb-bc9d-4c70-b88d-6e7a8444ee87"
      },
      "outputs": [
        {
          "name": "stdout",
          "output_type": "stream",
          "text": [
            "gnn_out KerasTensor(type_spec=TensorSpec(shape=(None, 32), dtype=tf.float32, name=None), name='gnn_3/StatefulPartitionedCall:0', description=\"created by layer 'gnn_3'\")\n",
            "mean: KerasTensor(type_spec=TensorSpec(shape=(None, 32), dtype=tf.float32, name=None), name='tf.math.segment_mean_2/SegmentMean:0', description=\"created by layer 'tf.math.segment_mean_2'\")\n",
            "pred: KerasTensor(type_spec=TensorSpec(shape=(None, 1), dtype=tf.float32, name=None), name='dense_2/Sigmoid:0', description=\"created by layer 'dense_2'\")\n",
            "Model: \"model_2\"\n",
            "__________________________________________________________________________________________________\n",
            " Layer (type)                   Output Shape         Param #     Connected to                     \n",
            "==================================================================================================\n",
            " input_21 (InputLayer)          [(None,)]            0           []                               \n",
            "                                                                                                  \n",
            " input_19 (InputLayer)          [(None,)]            0           []                               \n",
            "                                                                                                  \n",
            " tf.math.reduce_max_6 (TFOpLamb  ()                  0           ['input_21[0][0]']               \n",
            " da)                                                                                              \n",
            "                                                                                                  \n",
            " embedding_6 (Embedding)        (None, 20)           10000       ['input_19[0][0]']               \n",
            "                                                                                                  \n",
            " input_20 (InputLayer)          [(None, 2)]          0           []                               \n",
            "                                                                                                  \n",
            " tf.__operators__.add_6 (TFOpLa  ()                  0           ['tf.math.reduce_max_6[0][0]']   \n",
            " mbda)                                                                                            \n",
            "                                                                                                  \n",
            " gnn_3 (GNN)                    (None, 32)           47808       ['embedding_6[0][0]',            \n",
            "                                                                  'input_20[0][0]',               \n",
            "                                                                  'input_21[0][0]',               \n",
            "                                                                  'tf.__operators__.add_6[0][0]'] \n",
            "                                                                                                  \n",
            " tf.math.segment_mean_2 (TFOpLa  (None, 32)          0           ['gnn_3[0][0]',                  \n",
            " mbda)                                                            'input_21[0][0]']               \n",
            "                                                                                                  \n",
            " dense_2 (Dense)                (None, 1)            33          ['tf.math.segment_mean_2[0][0]'] \n",
            "                                                                                                  \n",
            "==================================================================================================\n",
            "Total params: 57,841\n",
            "Trainable params: 57,841\n",
            "Non-trainable params: 0\n",
            "__________________________________________________________________________________________________\n"
          ]
        }
      ],
      "source": [
        "import tensorflow as tf\n",
        "from tensorflow.math import segment_mean\n",
        "from tensorflow import keras\n",
        "from tensorflow.keras import Input, Model\n",
        "from tensorflow.keras.layers import Embedding, Dense\n",
        "from tensorflow.keras.optimizers import Adam\n",
        "from tf2_gnn.layers.message_passing import GGNN\n",
        "\n",
        "data = keras.Input(batch_shape=(None,))\n",
        "\n",
        "# the first dim is different to the previous one. it is the total number of edges in this batch\n",
        "edge = keras.Input(batch_shape=(None, 2), dtype=tf.int32)\n",
        "node2graph = keras.Input(batch_shape=(None,), dtype=tf.int32)\n",
        "embeded = Embedding(tokenizer.num_words, 20)(data)\n",
        "\n",
        "# number of graphs (number of samples)\n",
        "num_graph = tf.reduce_max(node2graph)+1\n",
        "\n",
        "gnn_input = GNNInput(\n",
        "    node_features=embeded,\n",
        "    adjacency_lists=(edge,),\n",
        "    node_to_graph_map=node2graph, \n",
        "    num_graphs=num_graph,\n",
        ")\n",
        "\n",
        "# https://github.com/microsoft/tf2-gnn/blob/master/tf2_gnn/layers/gnn.py\n",
        "params = GNN.get_default_hyperparameters()\n",
        "params[\"hidden_dim\"] = 32\n",
        "#params(\"message_calculation_class\")\n",
        "params['message_calculation_class'] = 'GGNN'\n",
        "gnn_layer = GNN(params)\n",
        "gnn_out = gnn_layer(gnn_input)\n",
        "\n",
        "print('gnn_out', gnn_out)\n",
        "\n",
        "# https://www.tensorflow.org/api_docs/python/tf/math/segment_mean\n",
        "avg = segment_mean(\n",
        "    data=gnn_out,\n",
        "    segment_ids=node2graph\n",
        ")\n",
        "print('mean:', avg)\n",
        "\n",
        "pred = Dense(1, activation='sigmoid')(avg)\n",
        "print('pred:', pred)\n",
        "\n",
        "model = Model(\n",
        "    inputs={\n",
        "        'data': data,\n",
        "        'edges': edge,\n",
        "        'node2grah': node2graph,\n",
        "    },\n",
        "    outputs=pred\n",
        ")\n",
        "model.summary()"
      ]
    },
    {
      "cell_type": "code",
      "execution_count": null,
      "metadata": {
        "id": "xPcdE__tCadC"
      },
      "outputs": [],
      "source": [
        "model.compile(\n",
        "    loss='BinaryCrossentropy',\n",
        "    metrics=['AUC']\n",
        ")"
      ]
    },
    {
      "cell_type": "code",
      "execution_count": null,
      "metadata": {
        "colab": {
          "base_uri": "https://localhost:8080/"
        },
        "id": "DXans7azCagA",
        "outputId": "be6c9f95-7212-4782-9b6e-cd3bfa4f979b"
      },
      "outputs": [
        {
          "name": "stdout",
          "output_type": "stream",
          "text": [
            "Epoch 1/5\n"
          ]
        },
        {
          "name": "stderr",
          "output_type": "stream",
          "text": [
            "/usr/local/lib/python3.7/dist-packages/tensorflow/python/framework/indexed_slices.py:446: UserWarning: Converting sparse IndexedSlices(IndexedSlices(indices=Tensor(\"gradients/ggnn_3/embedding_lookup_grad/Reshape_1:0\", shape=(None,), dtype=int32), values=Tensor(\"gradients/ggnn_3/embedding_lookup_grad/Reshape:0\", shape=(None, 32), dtype=float32), dense_shape=Tensor(\"gradients/ggnn_3/embedding_lookup_grad/Cast:0\", shape=(2,), dtype=int32))) to a dense Tensor of unknown shape. This may consume a large amount of memory.\n",
            "  \"shape. This may consume a large amount of memory.\" % value)\n",
            "/usr/local/lib/python3.7/dist-packages/tensorflow/python/framework/indexed_slices.py:446: UserWarning: Converting sparse IndexedSlices(IndexedSlices(indices=Tensor(\"gradients/ggnn_2/embedding_lookup_grad/Reshape_1:0\", shape=(None,), dtype=int32), values=Tensor(\"gradients/ggnn_2/embedding_lookup_grad/Reshape:0\", shape=(None, 32), dtype=float32), dense_shape=Tensor(\"gradients/ggnn_2/embedding_lookup_grad/Cast:0\", shape=(2,), dtype=int32))) to a dense Tensor of unknown shape. This may consume a large amount of memory.\n",
            "  \"shape. This may consume a large amount of memory.\" % value)\n",
            "/usr/local/lib/python3.7/dist-packages/tensorflow/python/framework/indexed_slices.py:446: UserWarning: Converting sparse IndexedSlices(IndexedSlices(indices=Tensor(\"gradients/ggnn_1/embedding_lookup_grad/Reshape_1:0\", shape=(None,), dtype=int32), values=Tensor(\"gradients/ggnn_1/embedding_lookup_grad/Reshape:0\", shape=(None, 32), dtype=float32), dense_shape=Tensor(\"gradients/ggnn_1/embedding_lookup_grad/Cast:0\", shape=(2,), dtype=int32))) to a dense Tensor of unknown shape. This may consume a large amount of memory.\n",
            "  \"shape. This may consume a large amount of memory.\" % value)\n",
            "/usr/local/lib/python3.7/dist-packages/tensorflow/python/framework/indexed_slices.py:446: UserWarning: Converting sparse IndexedSlices(IndexedSlices(indices=Tensor(\"gradients/ggnn/embedding_lookup_grad/Reshape_1:0\", shape=(None,), dtype=int32), values=Tensor(\"gradients/ggnn/embedding_lookup_grad/Reshape:0\", shape=(None, 32), dtype=float32), dense_shape=Tensor(\"gradients/ggnn/embedding_lookup_grad/Cast:0\", shape=(2,), dtype=int32))) to a dense Tensor of unknown shape. This may consume a large amount of memory.\n",
            "  \"shape. This may consume a large amount of memory.\" % value)\n"
          ]
        },
        {
          "name": "stdout",
          "output_type": "stream",
          "text": [
            "1330/1330 [==============================] - 38s 25ms/step - loss: 0.1933 - auc: 0.6017 - val_loss: 0.1943 - val_auc: 0.6425\n",
            "Epoch 2/5\n",
            "1330/1330 [==============================] - 39s 30ms/step - loss: 0.1842 - auc: 0.6552 - val_loss: 0.1900 - val_auc: 0.6712\n",
            "Epoch 3/5\n",
            "1330/1330 [==============================] - 29s 22ms/step - loss: 0.1831 - auc: 0.6607 - val_loss: 0.1904 - val_auc: 0.6911\n",
            "Epoch 4/5\n",
            "1330/1330 [==============================] - 29s 22ms/step - loss: 0.1819 - auc: 0.6780 - val_loss: 0.1911 - val_auc: 0.6666\n",
            "Epoch 5/5\n",
            "1330/1330 [==============================] - 30s 23ms/step - loss: 0.1796 - auc: 0.6943 - val_loss: 0.1895 - val_auc: 0.6787\n"
          ]
        },
        {
          "data": {
            "text/plain": [
              "<keras.callbacks.History at 0x7fee78666f10>"
            ]
          },
          "execution_count": 33,
          "metadata": {},
          "output_type": "execute_result"
        }
      ],
      "source": [
        "import math\n",
        "\n",
        "batch_size = 16\n",
        "num_batchs = math.ceil(len(training_set) / batch_size)\n",
        "num_batchs_validation = math.ceil(len(validation_set) / batch_size)\n",
        "\n",
        "model.fit(\n",
        "    gen_batch(\n",
        "        training_set, batch_size=batch_size, repeat=True\n",
        "    ),\n",
        "    steps_per_epoch=num_batchs,\n",
        "    epochs=5,\n",
        "    validation_data=gen_batch(\n",
        "        validation_set, batch_size=16, repeat=True\n",
        "    ),\n",
        "    validation_steps=num_batchs_validation,\n",
        ")"
      ]
    },
    {
      "cell_type": "code",
      "execution_count": null,
      "metadata": {
        "id": "8rKFOCTZCaip"
      },
      "outputs": [],
      "source": [
        "y_pred = model.predict(\n",
        "    gen_batch(testing_set, batch_size=16, shuffle=False)\n",
        ")\n",
        "y_pred = np.reshape(y_pred, -1)"
      ]
    },
    {
      "cell_type": "code",
      "execution_count": null,
      "metadata": {
        "id": "EzIvBwMJCald"
      },
      "outputs": [],
      "source": [
        "import pandas as pd \n",
        "submission = pd.DataFrame({'label':y_pred})\n",
        "submission.index.name = 'id'\n",
        "submission.to_csv('sample_submission_GGNN.csv')"
      ]
    },
    {
      "cell_type": "code",
      "execution_count": null,
      "metadata": {
        "id": "51n05SSdCaoW"
      },
      "outputs": [],
      "source": [
        ""
      ]
    },
    {
      "cell_type": "markdown",
      "metadata": {
        "id": "qAYydP_BQ7MV"
      },
      "source": [
        "## Trial 3:\n",
        "\n",
        "thoughts and observations for trial 1: without upsampling and for \"message_calculation_class\", I have used GGNN. this model \n",
        "gave me higher from 0.68817 to 0.69699\n",
        "plan for trial 3: try to use different \"message_calculation_class\", without upsampling"
      ]
    },
    {
      "cell_type": "code",
      "execution_count": null,
      "metadata": {
        "colab": {
          "base_uri": "https://localhost:8080/"
        },
        "id": "JrJ_O-BrCarn",
        "outputId": "4ac00649-248f-463b-ac0f-786dfb33649d"
      },
      "outputs": [
        {
          "name": "stdout",
          "output_type": "stream",
          "text": [
            "gnn_out KerasTensor(type_spec=TensorSpec(shape=(None, 32), dtype=tf.float32, name=None), name='gnn_8/StatefulPartitionedCall:0', description=\"created by layer 'gnn_8'\")\n",
            "mean: KerasTensor(type_spec=TensorSpec(shape=(None, 32), dtype=tf.float32, name=None), name='tf.math.segment_mean_4/SegmentMean:0', description=\"created by layer 'tf.math.segment_mean_4'\")\n",
            "pred: KerasTensor(type_spec=TensorSpec(shape=(None, 1), dtype=tf.float32, name=None), name='dense_4/Sigmoid:0', description=\"created by layer 'dense_4'\")\n",
            "Model: \"model_4\"\n",
            "__________________________________________________________________________________________________\n",
            " Layer (type)                   Output Shape         Param #     Connected to                     \n",
            "==================================================================================================\n",
            " input_36 (InputLayer)          [(None,)]            0           []                               \n",
            "                                                                                                  \n",
            " input_34 (InputLayer)          [(None,)]            0           []                               \n",
            "                                                                                                  \n",
            " tf.math.reduce_max_11 (TFOpLam  ()                  0           ['input_36[0][0]']               \n",
            " bda)                                                                                             \n",
            "                                                                                                  \n",
            " embedding_11 (Embedding)       (None, 20)           10000       ['input_34[0][0]']               \n",
            "                                                                                                  \n",
            " input_35 (InputLayer)          [(None, 2)]          0           []                               \n",
            "                                                                                                  \n",
            " tf.__operators__.add_11 (TFOpL  ()                  0           ['tf.math.reduce_max_11[0][0]']  \n",
            " ambda)                                                                                           \n",
            "                                                                                                  \n",
            " gnn_8 (GNN)                    (None, 32)           22720       ['embedding_11[0][0]',           \n",
            "                                                                  'input_35[0][0]',               \n",
            "                                                                  'input_36[0][0]',               \n",
            "                                                                  'tf.__operators__.add_11[0][0]']\n",
            "                                                                                                  \n",
            " tf.math.segment_mean_4 (TFOpLa  (None, 32)          0           ['gnn_8[0][0]',                  \n",
            " mbda)                                                            'input_36[0][0]']               \n",
            "                                                                                                  \n",
            " dense_4 (Dense)                (None, 1)            33          ['tf.math.segment_mean_4[0][0]'] \n",
            "                                                                                                  \n",
            "==================================================================================================\n",
            "Total params: 32,753\n",
            "Trainable params: 32,753\n",
            "Non-trainable params: 0\n",
            "__________________________________________________________________________________________________\n"
          ]
        }
      ],
      "source": [
        "import tensorflow as tf\n",
        "from tensorflow.math import segment_mean\n",
        "from tensorflow import keras\n",
        "from tensorflow.keras import Input, Model\n",
        "from tensorflow.keras.layers import Embedding, Dense\n",
        "from tensorflow.keras.optimizers import Adam\n",
        "from tf2_gnn.layers.message_passing import GGNN\n",
        "\n",
        "data = keras.Input(batch_shape=(None,))\n",
        "\n",
        "# the first dim is different to the previous one. it is the total number of edges in this batch\n",
        "edge = keras.Input(batch_shape=(None, 2), dtype=tf.int32)\n",
        "node2graph = keras.Input(batch_shape=(None,), dtype=tf.int32)\n",
        "embeded = Embedding(tokenizer.num_words, 20)(data)\n",
        "\n",
        "# number of graphs (number of samples)\n",
        "num_graph = tf.reduce_max(node2graph)+1\n",
        "\n",
        "gnn_input = GNNInput(\n",
        "    node_features=embeded,\n",
        "    adjacency_lists=(edge,),\n",
        "    node_to_graph_map=node2graph, \n",
        "    num_graphs=num_graph,\n",
        ")\n",
        "\n",
        "# https://github.com/microsoft/tf2-gnn/blob/master/tf2_gnn/layers/gnn.py\n",
        "params = GNN.get_default_hyperparameters()\n",
        "params[\"hidden_dim\"] = 32\n",
        "#params(\"message_calculation_class\")\n",
        "params['message_calculation_class'] = 'RGAT'\n",
        "params['num_heads'] = 4\n",
        "gnn_layer = GNN(params)\n",
        "gnn_out = gnn_layer(gnn_input)\n",
        "\n",
        "print('gnn_out', gnn_out)\n",
        "\n",
        "# https://www.tensorflow.org/api_docs/python/tf/math/segment_mean\n",
        "avg = segment_mean(\n",
        "    data=gnn_out,\n",
        "    segment_ids=node2graph\n",
        ")\n",
        "print('mean:', avg)\n",
        "\n",
        "pred = Dense(1, activation='sigmoid')(avg)\n",
        "print('pred:', pred)\n",
        "\n",
        "model = Model(\n",
        "    inputs={\n",
        "        'data': data,\n",
        "        'edges': edge,\n",
        "        'node2grah': node2graph,\n",
        "    },\n",
        "    outputs=pred\n",
        ")\n",
        "model.summary()"
      ]
    },
    {
      "cell_type": "code",
      "execution_count": null,
      "metadata": {
        "id": "H8i2OevRCauh"
      },
      "outputs": [],
      "source": [
        "model.compile(\n",
        "    loss='BinaryCrossentropy',\n",
        "    metrics=['AUC']\n",
        ")"
      ]
    },
    {
      "cell_type": "code",
      "execution_count": null,
      "metadata": {
        "colab": {
          "base_uri": "https://localhost:8080/"
        },
        "id": "NBzYvtltCaxf",
        "outputId": "6fa9d8aa-36bd-4061-b702-68315827d00b"
      },
      "outputs": [
        {
          "name": "stdout",
          "output_type": "stream",
          "text": [
            "Epoch 1/5\n"
          ]
        },
        {
          "name": "stderr",
          "output_type": "stream",
          "text": [
            "/usr/local/lib/python3.7/dist-packages/tensorflow/python/framework/indexed_slices.py:446: UserWarning: Converting sparse IndexedSlices(IndexedSlices(indices=Tensor(\"gradients/GatherV2_1_grad/Reshape_1:0\", shape=(None,), dtype=int32), values=Tensor(\"gradients/GatherV2_1_grad/Reshape:0\", shape=(None,), dtype=float32), dense_shape=Tensor(\"gradients/GatherV2_1_grad/Cast:0\", shape=(1,), dtype=int32))) to a dense Tensor of unknown shape. This may consume a large amount of memory.\n",
            "  \"shape. This may consume a large amount of memory.\" % value)\n",
            "/usr/local/lib/python3.7/dist-packages/tensorflow/python/framework/indexed_slices.py:446: UserWarning: Converting sparse IndexedSlices(IndexedSlices(indices=Tensor(\"gradients/GatherV2_grad/Reshape_1:0\", shape=(None,), dtype=int32), values=Tensor(\"gradients/GatherV2_grad/Reshape:0\", shape=(None,), dtype=float32), dense_shape=Tensor(\"gradients/GatherV2_grad/Cast:0\", shape=(1,), dtype=int32))) to a dense Tensor of unknown shape. This may consume a large amount of memory.\n",
            "  \"shape. This may consume a large amount of memory.\" % value)\n",
            "/usr/local/lib/python3.7/dist-packages/tensorflow/python/framework/indexed_slices.py:446: UserWarning: Converting sparse IndexedSlices(IndexedSlices(indices=Tensor(\"gradients/cond_3_grad/Identity_1:0\", shape=(None,), dtype=int32), values=Tensor(\"gradients/cond_3_grad/Identity:0\", shape=(None, 32), dtype=float32), dense_shape=Tensor(\"gradients/cond_3_grad/Identity_2:0\", shape=(2,), dtype=int32))) to a dense Tensor of unknown shape. This may consume a large amount of memory.\n",
            "  \"shape. This may consume a large amount of memory.\" % value)\n",
            "/usr/local/lib/python3.7/dist-packages/tensorflow/python/framework/indexed_slices.py:446: UserWarning: Converting sparse IndexedSlices(IndexedSlices(indices=Tensor(\"gradients/concat_3:0\", shape=(None,), dtype=int32), values=Tensor(\"gradients/concat_2:0\", shape=(None, 32), dtype=float32), dense_shape=Tensor(\"gradients/rgat_2/embedding_lookup_grad/Cast:0\", shape=(2,), dtype=int32))) to a dense Tensor of unknown shape. This may consume a large amount of memory.\n",
            "  \"shape. This may consume a large amount of memory.\" % value)\n",
            "/usr/local/lib/python3.7/dist-packages/tensorflow/python/framework/indexed_slices.py:446: UserWarning: Converting sparse IndexedSlices(IndexedSlices(indices=Tensor(\"gradients/cond_1_grad/Identity_1:0\", shape=(None,), dtype=int32), values=Tensor(\"gradients/cond_1_grad/Identity:0\", shape=(None, 32), dtype=float32), dense_shape=Tensor(\"gradients/cond_1_grad/Identity_2:0\", shape=(2,), dtype=int32))) to a dense Tensor of unknown shape. This may consume a large amount of memory.\n",
            "  \"shape. This may consume a large amount of memory.\" % value)\n",
            "/usr/local/lib/python3.7/dist-packages/tensorflow/python/framework/indexed_slices.py:446: UserWarning: Converting sparse IndexedSlices(IndexedSlices(indices=Tensor(\"gradients/rgat/embedding_lookup_grad/Reshape_1:0\", shape=(None,), dtype=int32), values=Tensor(\"gradients/rgat/embedding_lookup_grad/Reshape:0\", shape=(None, 32), dtype=float32), dense_shape=Tensor(\"gradients/rgat/embedding_lookup_grad/Cast:0\", shape=(2,), dtype=int32))) to a dense Tensor of unknown shape. This may consume a large amount of memory.\n",
            "  \"shape. This may consume a large amount of memory.\" % value)\n",
            "/usr/local/lib/python3.7/dist-packages/tensorflow/python/framework/indexed_slices.py:446: UserWarning: Converting sparse IndexedSlices(IndexedSlices(indices=Tensor(\"gradients/rgat/embedding_lookup_1_grad/Reshape_1:0\", shape=(None,), dtype=int32), values=Tensor(\"gradients/rgat/embedding_lookup_1_grad/Reshape:0\", shape=(None, 32), dtype=float32), dense_shape=Tensor(\"gradients/rgat/embedding_lookup_1_grad/Cast:0\", shape=(2,), dtype=int32))) to a dense Tensor of unknown shape. This may consume a large amount of memory.\n",
            "  \"shape. This may consume a large amount of memory.\" % value)\n"
          ]
        },
        {
          "name": "stdout",
          "output_type": "stream",
          "text": [
            "1330/1330 [==============================] - 44s 27ms/step - loss: 0.2250 - auc: 0.4970 - val_loss: 0.2153 - val_auc: 0.5885\n",
            "Epoch 2/5\n",
            "1330/1330 [==============================] - 29s 22ms/step - loss: 0.1958 - auc: 0.6194 - val_loss: 0.1959 - val_auc: 0.6778\n",
            "Epoch 3/5\n",
            "1330/1330 [==============================] - 29s 22ms/step - loss: 0.1888 - auc: 0.6671 - val_loss: 0.1986 - val_auc: 0.6892\n",
            "Epoch 4/5\n",
            "1330/1330 [==============================] - 27s 21ms/step - loss: 0.1852 - auc: 0.6903 - val_loss: 0.1880 - val_auc: 0.7103\n",
            "Epoch 5/5\n",
            "1330/1330 [==============================] - 27s 20ms/step - loss: 0.1834 - auc: 0.6982 - val_loss: 0.1830 - val_auc: 0.7143\n"
          ]
        },
        {
          "data": {
            "text/plain": [
              "<keras.callbacks.History at 0x7fee73ee1ed0>"
            ]
          },
          "execution_count": 42,
          "metadata": {},
          "output_type": "execute_result"
        }
      ],
      "source": [
        "import math\n",
        "\n",
        "batch_size = 16\n",
        "num_batchs = math.ceil(len(training_set) / batch_size)\n",
        "num_batchs_validation = math.ceil(len(validation_set) / batch_size)\n",
        "\n",
        "model.fit(\n",
        "    gen_batch(\n",
        "        training_set, batch_size=batch_size, repeat=True\n",
        "    ),\n",
        "    steps_per_epoch=num_batchs,\n",
        "    epochs=5,\n",
        "    validation_data=gen_batch(\n",
        "        validation_set, batch_size=16, repeat=True\n",
        "    ),\n",
        "    validation_steps=num_batchs_validation,\n",
        ")"
      ]
    },
    {
      "cell_type": "code",
      "execution_count": null,
      "metadata": {
        "id": "Icg1w75sCa0x"
      },
      "outputs": [],
      "source": [
        "y_pred = model.predict(\n",
        "    gen_batch(testing_set, batch_size=16, shuffle=False)\n",
        ")\n",
        "y_pred = np.reshape(y_pred, -1)"
      ]
    },
    {
      "cell_type": "code",
      "execution_count": null,
      "metadata": {
        "id": "yaPH9lx7Ca3-"
      },
      "outputs": [],
      "source": [
        "import pandas as pd \n",
        "submission = pd.DataFrame({'label':y_pred})\n",
        "submission.index.name = 'id'\n",
        "submission.to_csv('sample_submission_RGAT.csv')"
      ]
    },
    {
      "cell_type": "code",
      "execution_count": null,
      "metadata": {
        "id": "08tKMvTOCa7Z"
      },
      "outputs": [],
      "source": [
        ""
      ]
    },
    {
      "cell_type": "markdown",
      "metadata": {
        "id": "qvTw5Yc9T3XP"
      },
      "source": [
        "## Trial 4\n",
        "thoughts and observations for trial 3: 0.71062, which is an improvement of your previous score of 0.69699\n",
        "\n",
        "plan for trial 4: try to use different \"message_calculation_class\", without upsampling"
      ]
    },
    {
      "cell_type": "code",
      "execution_count": null,
      "metadata": {
        "colab": {
          "base_uri": "https://localhost:8080/"
        },
        "id": "p0hhS9EOCa-a",
        "outputId": "1ee60e2e-2a4a-414a-c2dc-5c9227f264a5"
      },
      "outputs": [
        {
          "name": "stdout",
          "output_type": "stream",
          "text": [
            "gnn_out KerasTensor(type_spec=TensorSpec(shape=(None, 32), dtype=tf.float32, name=None), name='gnn_13/StatefulPartitionedCall:0', description=\"created by layer 'gnn_13'\")\n",
            "mean: KerasTensor(type_spec=TensorSpec(shape=(None, 32), dtype=tf.float32, name=None), name='tf.math.segment_mean_8/SegmentMean:0', description=\"created by layer 'tf.math.segment_mean_8'\")\n",
            "pred: KerasTensor(type_spec=TensorSpec(shape=(None, 1), dtype=tf.float32, name=None), name='dense_8/Sigmoid:0', description=\"created by layer 'dense_8'\")\n",
            "Model: \"model_8\"\n",
            "__________________________________________________________________________________________________\n",
            " Layer (type)                   Output Shape         Param #     Connected to                     \n",
            "==================================================================================================\n",
            " input_51 (InputLayer)          [(None,)]            0           []                               \n",
            "                                                                                                  \n",
            " input_49 (InputLayer)          [(None,)]            0           []                               \n",
            "                                                                                                  \n",
            " tf.math.reduce_max_16 (TFOpLam  ()                  0           ['input_51[0][0]']               \n",
            " bda)                                                                                             \n",
            "                                                                                                  \n",
            " embedding_16 (Embedding)       (None, 20)           10000       ['input_49[0][0]']               \n",
            "                                                                                                  \n",
            " input_50 (InputLayer)          [(None, 2)]          0           []                               \n",
            "                                                                                                  \n",
            " tf.__operators__.add_16 (TFOpL  ()                  0           ['tf.math.reduce_max_16[0][0]']  \n",
            " ambda)                                                                                           \n",
            "                                                                                                  \n",
            " gnn_13 (GNN)                   (None, 32)           26560       ['embedding_16[0][0]',           \n",
            "                                                                  'input_50[0][0]',               \n",
            "                                                                  'input_51[0][0]',               \n",
            "                                                                  'tf.__operators__.add_16[0][0]']\n",
            "                                                                                                  \n",
            " tf.math.segment_mean_8 (TFOpLa  (None, 32)          0           ['gnn_13[0][0]',                 \n",
            " mbda)                                                            'input_51[0][0]']               \n",
            "                                                                                                  \n",
            " dense_8 (Dense)                (None, 1)            33          ['tf.math.segment_mean_8[0][0]'] \n",
            "                                                                                                  \n",
            "==================================================================================================\n",
            "Total params: 36,593\n",
            "Trainable params: 36,593\n",
            "Non-trainable params: 0\n",
            "__________________________________________________________________________________________________\n"
          ]
        }
      ],
      "source": [
        "import tensorflow as tf\n",
        "from tensorflow.math import segment_mean\n",
        "from tensorflow import keras\n",
        "from tensorflow.keras import Input, Model\n",
        "from tensorflow.keras.layers import Embedding, Dense\n",
        "from tensorflow.keras.optimizers import Adam\n",
        "from tf2_gnn.layers.message_passing import GGNN\n",
        "\n",
        "data = keras.Input(batch_shape=(None,))\n",
        "\n",
        "# the first dim is different to the previous one. it is the total number of edges in this batch\n",
        "edge = keras.Input(batch_shape=(None, 2), dtype=tf.int32)\n",
        "node2graph = keras.Input(batch_shape=(None,), dtype=tf.int32)\n",
        "embeded = Embedding(tokenizer.num_words, 20)(data)\n",
        "\n",
        "# number of graphs (number of samples)\n",
        "num_graph = tf.reduce_max(node2graph)+1\n",
        "\n",
        "gnn_input = GNNInput(\n",
        "    node_features=embeded,\n",
        "    adjacency_lists=(edge,),\n",
        "    node_to_graph_map=node2graph, \n",
        "    num_graphs=num_graph,\n",
        ")\n",
        "\n",
        "# https://github.com/microsoft/tf2-gnn/blob/master/tf2_gnn/layers/gnn.py\n",
        "params = GNN.get_default_hyperparameters()\n",
        "params[\"hidden_dim\"] = 32\n",
        "#params(\"message_calculation_class\")\n",
        "params['message_calculation_class'] = 'RGIN'\n",
        "params['num_aggr_MLP_hidden_layers'] = 0\n",
        "gnn_layer = GNN(params)\n",
        "gnn_out = gnn_layer(gnn_input)\n",
        "\n",
        "print('gnn_out', gnn_out)\n",
        "\n",
        "# https://www.tensorflow.org/api_docs/python/tf/math/segment_mean\n",
        "avg = segment_mean(\n",
        "    data=gnn_out,\n",
        "    segment_ids=node2graph\n",
        ")\n",
        "print('mean:', avg)\n",
        "\n",
        "pred = Dense(1, activation='sigmoid')(avg)\n",
        "print('pred:', pred)\n",
        "\n",
        "model = Model(\n",
        "    inputs={\n",
        "        'data': data,\n",
        "        'edges': edge,\n",
        "        'node2grah': node2graph,\n",
        "    },\n",
        "    outputs=pred\n",
        ")\n",
        "model.summary()"
      ]
    },
    {
      "cell_type": "code",
      "execution_count": null,
      "metadata": {
        "id": "p-p3sPLbCbBB"
      },
      "outputs": [],
      "source": [
        "model.compile(\n",
        "    loss='BinaryCrossentropy',\n",
        "    metrics=['AUC']\n",
        ")"
      ]
    },
    {
      "cell_type": "code",
      "execution_count": null,
      "metadata": {
        "colab": {
          "base_uri": "https://localhost:8080/"
        },
        "id": "UDWa6kjpCbDv",
        "outputId": "891f4bb2-ed2c-4710-f4fb-92058ea1b1b9"
      },
      "outputs": [
        {
          "name": "stdout",
          "output_type": "stream",
          "text": [
            "Epoch 1/5\n"
          ]
        },
        {
          "name": "stderr",
          "output_type": "stream",
          "text": [
            "/usr/local/lib/python3.7/dist-packages/tensorflow/python/framework/indexed_slices.py:446: UserWarning: Converting sparse IndexedSlices(IndexedSlices(indices=Tensor(\"gradients/cond_3_grad/Identity_1:0\", shape=(None,), dtype=int32), values=Tensor(\"gradients/cond_3_grad/Identity:0\", shape=(None, 32), dtype=float32), dense_shape=Tensor(\"gradients/cond_3_grad/Identity_2:0\", shape=(2,), dtype=int32))) to a dense Tensor of unknown shape. This may consume a large amount of memory.\n",
            "  \"shape. This may consume a large amount of memory.\" % value)\n",
            "/usr/local/lib/python3.7/dist-packages/tensorflow/python/framework/indexed_slices.py:446: UserWarning: Converting sparse IndexedSlices(IndexedSlices(indices=Tensor(\"gradients/rgin_2/embedding_lookup_grad/Reshape_1:0\", shape=(None,), dtype=int32), values=Tensor(\"gradients/rgin_2/embedding_lookup_grad/Reshape:0\", shape=(None, 32), dtype=float32), dense_shape=Tensor(\"gradients/rgin_2/embedding_lookup_grad/Cast:0\", shape=(2,), dtype=int32))) to a dense Tensor of unknown shape. This may consume a large amount of memory.\n",
            "  \"shape. This may consume a large amount of memory.\" % value)\n",
            "/usr/local/lib/python3.7/dist-packages/tensorflow/python/framework/indexed_slices.py:446: UserWarning: Converting sparse IndexedSlices(IndexedSlices(indices=Tensor(\"gradients/cond_1_grad/Identity_1:0\", shape=(None,), dtype=int32), values=Tensor(\"gradients/cond_1_grad/Identity:0\", shape=(None, 32), dtype=float32), dense_shape=Tensor(\"gradients/cond_1_grad/Identity_2:0\", shape=(2,), dtype=int32))) to a dense Tensor of unknown shape. This may consume a large amount of memory.\n",
            "  \"shape. This may consume a large amount of memory.\" % value)\n",
            "/usr/local/lib/python3.7/dist-packages/tensorflow/python/framework/indexed_slices.py:446: UserWarning: Converting sparse IndexedSlices(IndexedSlices(indices=Tensor(\"gradients/rgin/embedding_lookup_grad/Reshape_1:0\", shape=(None,), dtype=int32), values=Tensor(\"gradients/rgin/embedding_lookup_grad/Reshape:0\", shape=(None, 32), dtype=float32), dense_shape=Tensor(\"gradients/rgin/embedding_lookup_grad/Cast:0\", shape=(2,), dtype=int32))) to a dense Tensor of unknown shape. This may consume a large amount of memory.\n",
            "  \"shape. This may consume a large amount of memory.\" % value)\n"
          ]
        },
        {
          "name": "stdout",
          "output_type": "stream",
          "text": [
            "1330/1330 [==============================] - 24s 15ms/step - loss: 0.2223 - auc: 0.5196 - val_loss: 0.2061 - val_auc: 0.6185\n",
            "Epoch 2/5\n",
            "1330/1330 [==============================] - 20s 15ms/step - loss: 0.1977 - auc: 0.6199 - val_loss: 0.2025 - val_auc: 0.6404\n",
            "Epoch 3/5\n",
            "1330/1330 [==============================] - 20s 15ms/step - loss: 0.1952 - auc: 0.6249 - val_loss: 0.1959 - val_auc: 0.6335\n",
            "Epoch 4/5\n",
            "1330/1330 [==============================] - 20s 15ms/step - loss: 0.1953 - auc: 0.6343 - val_loss: 0.2489 - val_auc: 0.5679\n",
            "Epoch 5/5\n",
            "1330/1330 [==============================] - 20s 15ms/step - loss: 0.1937 - auc: 0.6375 - val_loss: 0.1992 - val_auc: 0.6544\n"
          ]
        },
        {
          "data": {
            "text/plain": [
              "<keras.callbacks.History at 0x7fee6b2b0990>"
            ]
          },
          "execution_count": 57,
          "metadata": {},
          "output_type": "execute_result"
        }
      ],
      "source": [
        "import math\n",
        "\n",
        "batch_size = 16\n",
        "num_batchs = math.ceil(len(training_set) / batch_size)\n",
        "num_batchs_validation = math.ceil(len(validation_set) / batch_size)\n",
        "\n",
        "model.fit(\n",
        "    gen_batch(\n",
        "        training_set, batch_size=batch_size, repeat=True\n",
        "    ),\n",
        "    steps_per_epoch=num_batchs,\n",
        "    epochs=5,\n",
        "    validation_data=gen_batch(\n",
        "        validation_set, batch_size=16, repeat=True\n",
        "    ),\n",
        "    validation_steps=num_batchs_validation,\n",
        ")"
      ]
    },
    {
      "cell_type": "code",
      "execution_count": null,
      "metadata": {
        "id": "BuKTIF4jCbGw"
      },
      "outputs": [],
      "source": [
        "y_pred = model.predict(\n",
        "    gen_batch(testing_set, batch_size=16, shuffle=False)\n",
        ")\n",
        "y_pred = np.reshape(y_pred, -1)"
      ]
    },
    {
      "cell_type": "code",
      "execution_count": null,
      "metadata": {
        "id": "YyYRrXteCbKv"
      },
      "outputs": [],
      "source": [
        "import pandas as pd \n",
        "submission = pd.DataFrame({'label':y_pred})\n",
        "submission.index.name = 'id'\n",
        "submission.to_csv('sample_submission_RGIN.csv')"
      ]
    },
    {
      "cell_type": "markdown",
      "metadata": {
        "id": "ofIRUEp5lN91"
      },
      "source": [
        "## Trial 5:\n",
        "\n",
        "thoughts and observations for trial 3: 0.68003\n",
        ", which is worse than of your previous score of 0.71062\n",
        "\n",
        "plan for trial 5: try to use different \"message_calculation_class\", without upsampling"
      ]
    },
    {
      "cell_type": "code",
      "execution_count": null,
      "metadata": {
        "id": "50WkEPE-nnow"
      },
      "outputs": [],
      "source": [
        "from tf2_gnn.layers.message_passing import GNN_FiLM"
      ]
    },
    {
      "cell_type": "code",
      "execution_count": null,
      "metadata": {
        "colab": {
          "base_uri": "https://localhost:8080/"
        },
        "id": "v3xfwO6wCbN2",
        "outputId": "23ff32aa-fd5e-49f4-e825-12851f6c0393"
      },
      "outputs": [
        {
          "name": "stdout",
          "output_type": "stream",
          "text": [
            "gnn_out KerasTensor(type_spec=TensorSpec(shape=(None, 32), dtype=tf.float32, name=None), name='gnn_17/StatefulPartitionedCall:0', description=\"created by layer 'gnn_17'\")\n",
            "mean: KerasTensor(type_spec=TensorSpec(shape=(None, 32), dtype=tf.float32, name=None), name='tf.math.segment_mean_9/SegmentMean:0', description=\"created by layer 'tf.math.segment_mean_9'\")\n",
            "pred: KerasTensor(type_spec=TensorSpec(shape=(None, 1), dtype=tf.float32, name=None), name='dense_9/Sigmoid:0', description=\"created by layer 'dense_9'\")\n",
            "Model: \"model_9\"\n",
            "__________________________________________________________________________________________________\n",
            " Layer (type)                   Output Shape         Param #     Connected to                     \n",
            "==================================================================================================\n",
            " input_63 (InputLayer)          [(None,)]            0           []                               \n",
            "                                                                                                  \n",
            " input_61 (InputLayer)          [(None,)]            0           []                               \n",
            "                                                                                                  \n",
            " tf.math.reduce_max_20 (TFOpLam  ()                  0           ['input_63[0][0]']               \n",
            " bda)                                                                                             \n",
            "                                                                                                  \n",
            " embedding_20 (Embedding)       (None, 20)           10000       ['input_61[0][0]']               \n",
            "                                                                                                  \n",
            " input_62 (InputLayer)          [(None, 2)]          0           []                               \n",
            "                                                                                                  \n",
            " tf.__operators__.add_20 (TFOpL  ()                  0           ['tf.math.reduce_max_20[0][0]']  \n",
            " ambda)                                                                                           \n",
            "                                                                                                  \n",
            " gnn_17 (GNN)                   (None, 32)           30656       ['embedding_20[0][0]',           \n",
            "                                                                  'input_62[0][0]',               \n",
            "                                                                  'input_63[0][0]',               \n",
            "                                                                  'tf.__operators__.add_20[0][0]']\n",
            "                                                                                                  \n",
            " tf.math.segment_mean_9 (TFOpLa  (None, 32)          0           ['gnn_17[0][0]',                 \n",
            " mbda)                                                            'input_63[0][0]']               \n",
            "                                                                                                  \n",
            " dense_9 (Dense)                (None, 1)            33          ['tf.math.segment_mean_9[0][0]'] \n",
            "                                                                                                  \n",
            "==================================================================================================\n",
            "Total params: 40,689\n",
            "Trainable params: 40,689\n",
            "Non-trainable params: 0\n",
            "__________________________________________________________________________________________________\n"
          ]
        }
      ],
      "source": [
        "import tensorflow as tf\n",
        "from tensorflow.math import segment_mean\n",
        "from tensorflow import keras\n",
        "from tensorflow.keras import Input, Model\n",
        "from tensorflow.keras.layers import Embedding, Dense\n",
        "from tensorflow.keras.optimizers import Adam\n",
        "from tf2_gnn.layers.message_passing import GGNN\n",
        "\n",
        "data = keras.Input(batch_shape=(None,))\n",
        "\n",
        "# the first dim is different to the previous one. it is the total number of edges in this batch\n",
        "edge = keras.Input(batch_shape=(None, 2), dtype=tf.int32)\n",
        "node2graph = keras.Input(batch_shape=(None,), dtype=tf.int32)\n",
        "embeded = Embedding(tokenizer.num_words, 20)(data)\n",
        "\n",
        "# number of graphs (number of samples)\n",
        "num_graph = tf.reduce_max(node2graph)+1\n",
        "\n",
        "gnn_input = GNNInput(\n",
        "    node_features=embeded,\n",
        "    adjacency_lists=(edge,),\n",
        "    node_to_graph_map=node2graph, \n",
        "    num_graphs=num_graph,\n",
        ")\n",
        "\n",
        "# https://github.com/microsoft/tf2-gnn/blob/master/tf2_gnn/layers/gnn.py\n",
        "params = GNN.get_default_hyperparameters()\n",
        "params[\"hidden_dim\"] = 32\n",
        "#params(\"message_calculation_class\")\n",
        "params['message_calculation_class'] = 'GNN_FiLM'\n",
        "params['film_parameter_MLP_hidden_layers'] = 0\n",
        "gnn_layer = GNN(params)\n",
        "gnn_out = gnn_layer(gnn_input)\n",
        "\n",
        "print('gnn_out', gnn_out)\n",
        "\n",
        "# https://www.tensorflow.org/api_docs/python/tf/math/segment_mean\n",
        "avg = segment_mean(\n",
        "    data=gnn_out,\n",
        "    segment_ids=node2graph\n",
        ")\n",
        "print('mean:', avg)\n",
        "\n",
        "pred = Dense(1, activation='sigmoid')(avg)\n",
        "print('pred:', pred)\n",
        "\n",
        "model = Model(\n",
        "    inputs={\n",
        "        'data': data,\n",
        "        'edges': edge,\n",
        "        'node2grah': node2graph,\n",
        "    },\n",
        "    outputs=pred\n",
        ")\n",
        "model.summary()"
      ]
    },
    {
      "cell_type": "code",
      "execution_count": null,
      "metadata": {
        "id": "gs3Cno91oJ0W"
      },
      "outputs": [],
      "source": [
        "model.compile(\n",
        "    loss='BinaryCrossentropy',\n",
        "    metrics=['AUC']\n",
        ")"
      ]
    },
    {
      "cell_type": "code",
      "execution_count": null,
      "metadata": {
        "colab": {
          "base_uri": "https://localhost:8080/"
        },
        "id": "X4Hh96U_CbQ-",
        "outputId": "c5c76a50-2e9b-4aef-ee01-3886fb9c2f1e"
      },
      "outputs": [
        {
          "name": "stdout",
          "output_type": "stream",
          "text": [
            "Epoch 1/5\n"
          ]
        },
        {
          "name": "stderr",
          "output_type": "stream",
          "text": [
            "/usr/local/lib/python3.7/dist-packages/tensorflow/python/framework/indexed_slices.py:446: UserWarning: Converting sparse IndexedSlices(IndexedSlices(indices=Tensor(\"gradients/cond_3_grad/Identity_1:0\", shape=(None,), dtype=int32), values=Tensor(\"gradients/cond_3_grad/Identity:0\", shape=(None, 32), dtype=float32), dense_shape=Tensor(\"gradients/cond_3_grad/Identity_2:0\", shape=(2,), dtype=int32))) to a dense Tensor of unknown shape. This may consume a large amount of memory.\n",
            "  \"shape. This may consume a large amount of memory.\" % value)\n",
            "/usr/local/lib/python3.7/dist-packages/tensorflow/python/framework/indexed_slices.py:446: UserWarning: Converting sparse IndexedSlices(IndexedSlices(indices=Tensor(\"gradients/concat_3:0\", shape=(None,), dtype=int32), values=Tensor(\"gradients/concat_2:0\", shape=(None, 32), dtype=float32), dense_shape=Tensor(\"gradients/gnn__fi_lm_2/embedding_lookup_1_grad/Cast:0\", shape=(2,), dtype=int32))) to a dense Tensor of unknown shape. This may consume a large amount of memory.\n",
            "  \"shape. This may consume a large amount of memory.\" % value)\n",
            "/usr/local/lib/python3.7/dist-packages/tensorflow/python/framework/indexed_slices.py:446: UserWarning: Converting sparse IndexedSlices(IndexedSlices(indices=Tensor(\"gradients/cond_1_grad/Identity_1:0\", shape=(None,), dtype=int32), values=Tensor(\"gradients/cond_1_grad/Identity:0\", shape=(None, 32), dtype=float32), dense_shape=Tensor(\"gradients/cond_1_grad/Identity_2:0\", shape=(2,), dtype=int32))) to a dense Tensor of unknown shape. This may consume a large amount of memory.\n",
            "  \"shape. This may consume a large amount of memory.\" % value)\n",
            "/usr/local/lib/python3.7/dist-packages/tensorflow/python/framework/indexed_slices.py:446: UserWarning: Converting sparse IndexedSlices(IndexedSlices(indices=Tensor(\"gradients/gnn__fi_lm/embedding_lookup_1_grad/Reshape_1:0\", shape=(None,), dtype=int32), values=Tensor(\"gradients/gnn__fi_lm/embedding_lookup_1_grad/Reshape:0\", shape=(None, 32), dtype=float32), dense_shape=Tensor(\"gradients/gnn__fi_lm/embedding_lookup_1_grad/Cast:0\", shape=(2,), dtype=int32))) to a dense Tensor of unknown shape. This may consume a large amount of memory.\n",
            "  \"shape. This may consume a large amount of memory.\" % value)\n",
            "/usr/local/lib/python3.7/dist-packages/tensorflow/python/framework/indexed_slices.py:446: UserWarning: Converting sparse IndexedSlices(IndexedSlices(indices=Tensor(\"gradients/gnn__fi_lm/embedding_lookup_grad/Reshape_1:0\", shape=(None,), dtype=int32), values=Tensor(\"gradients/gnn__fi_lm/embedding_lookup_grad/Reshape:0\", shape=(None, 32), dtype=float32), dense_shape=Tensor(\"gradients/gnn__fi_lm/embedding_lookup_grad/Cast:0\", shape=(2,), dtype=int32))) to a dense Tensor of unknown shape. This may consume a large amount of memory.\n",
            "  \"shape. This may consume a large amount of memory.\" % value)\n"
          ]
        },
        {
          "name": "stdout",
          "output_type": "stream",
          "text": [
            "1330/1330 [==============================] - 84s 18ms/step - loss: 0.2167 - auc: 0.5242 - val_loss: 0.1973 - val_auc: 0.6398\n",
            "Epoch 2/5\n",
            "1330/1330 [==============================] - 23s 17ms/step - loss: 0.1886 - auc: 0.6671 - val_loss: 0.1842 - val_auc: 0.7430\n",
            "Epoch 3/5\n",
            "1330/1330 [==============================] - 23s 17ms/step - loss: 0.1818 - auc: 0.7168 - val_loss: 0.2006 - val_auc: 0.7353\n",
            "Epoch 4/5\n",
            "1330/1330 [==============================] - 23s 17ms/step - loss: 0.1814 - auc: 0.7209 - val_loss: 0.1826 - val_auc: 0.7498\n",
            "Epoch 5/5\n",
            "1330/1330 [==============================] - 23s 18ms/step - loss: 0.1839 - auc: 0.7165 - val_loss: 0.1856 - val_auc: 0.7423\n"
          ]
        },
        {
          "data": {
            "text/plain": [
              "<keras.callbacks.History at 0x7fee69907350>"
            ]
          },
          "execution_count": 72,
          "metadata": {},
          "output_type": "execute_result"
        }
      ],
      "source": [
        "import math\n",
        "\n",
        "batch_size = 16\n",
        "num_batchs = math.ceil(len(training_set) / batch_size)\n",
        "num_batchs_validation = math.ceil(len(validation_set) / batch_size)\n",
        "\n",
        "model.fit(\n",
        "    gen_batch(\n",
        "        training_set, batch_size=batch_size, repeat=True\n",
        "    ),\n",
        "    steps_per_epoch=num_batchs,\n",
        "    epochs=5,\n",
        "    validation_data=gen_batch(\n",
        "        validation_set, batch_size=16, repeat=True\n",
        "    ),\n",
        "    validation_steps=num_batchs_validation,\n",
        ")"
      ]
    },
    {
      "cell_type": "code",
      "execution_count": null,
      "metadata": {
        "id": "k3O4bUB6CbUY"
      },
      "outputs": [],
      "source": [
        "y_pred = model.predict(\n",
        "    gen_batch(testing_set, batch_size=16, shuffle=False)\n",
        ")\n",
        "y_pred = np.reshape(y_pred, -1)"
      ]
    },
    {
      "cell_type": "code",
      "execution_count": null,
      "metadata": {
        "id": "EeRibgo_CbXU"
      },
      "outputs": [],
      "source": [
        "import pandas as pd \n",
        "submission = pd.DataFrame({'label':y_pred})\n",
        "submission.index.name = 'id'\n",
        "submission.to_csv('sample_submission_GNN_FiLM.csv')"
      ]
    },
    {
      "cell_type": "code",
      "execution_count": null,
      "metadata": {
        "id": "1PNSe5I7CbaI"
      },
      "outputs": [],
      "source": [
        ""
      ]
    },
    {
      "cell_type": "markdown",
      "metadata": {
        "id": "9ah6lyAZp97Q"
      },
      "source": [
        "## Trial 6:\n",
        "\n",
        "thoughts and observations for trial 3: 0.76200, which is an improvement of my best previous score of 0.71062\n",
        "\n",
        "plan for trial 6: try to use different \"message_calculation_class\", without upsampling"
      ]
    },
    {
      "cell_type": "code",
      "execution_count": null,
      "metadata": {
        "colab": {
          "base_uri": "https://localhost:8080/"
        },
        "id": "NMmjXQ_xCbdU",
        "outputId": "2873f0f5-3e99-41d6-927e-fafcf12000b1"
      },
      "outputs": [
        {
          "name": "stdout",
          "output_type": "stream",
          "text": [
            "gnn_out KerasTensor(type_spec=TensorSpec(shape=(None, 32), dtype=tf.float32, name=None), name='gnn_18/StatefulPartitionedCall:0', description=\"created by layer 'gnn_18'\")\n",
            "mean: KerasTensor(type_spec=TensorSpec(shape=(None, 32), dtype=tf.float32, name=None), name='tf.math.segment_mean_10/SegmentMean:0', description=\"created by layer 'tf.math.segment_mean_10'\")\n",
            "pred: KerasTensor(type_spec=TensorSpec(shape=(None, 1), dtype=tf.float32, name=None), name='dense_10/Sigmoid:0', description=\"created by layer 'dense_10'\")\n",
            "Model: \"model_10\"\n",
            "__________________________________________________________________________________________________\n",
            " Layer (type)                   Output Shape         Param #     Connected to                     \n",
            "==================================================================================================\n",
            " input_66 (InputLayer)          [(None,)]            0           []                               \n",
            "                                                                                                  \n",
            " input_64 (InputLayer)          [(None,)]            0           []                               \n",
            "                                                                                                  \n",
            " tf.math.reduce_max_21 (TFOpLam  ()                  0           ['input_66[0][0]']               \n",
            " bda)                                                                                             \n",
            "                                                                                                  \n",
            " embedding_21 (Embedding)       (None, 20)           10000       ['input_64[0][0]']               \n",
            "                                                                                                  \n",
            " input_65 (InputLayer)          [(None, 2)]          0           []                               \n",
            "                                                                                                  \n",
            " tf.__operators__.add_21 (TFOpL  ()                  0           ['tf.math.reduce_max_21[0][0]']  \n",
            " ambda)                                                                                           \n",
            "                                                                                                  \n",
            " gnn_18 (GNN)                   (None, 32)           22464       ['embedding_21[0][0]',           \n",
            "                                                                  'input_65[0][0]',               \n",
            "                                                                  'input_66[0][0]',               \n",
            "                                                                  'tf.__operators__.add_21[0][0]']\n",
            "                                                                                                  \n",
            " tf.math.segment_mean_10 (TFOpL  (None, 32)          0           ['gnn_18[0][0]',                 \n",
            " ambda)                                                           'input_66[0][0]']               \n",
            "                                                                                                  \n",
            " dense_10 (Dense)               (None, 1)            33          ['tf.math.segment_mean_10[0][0]']\n",
            "                                                                                                  \n",
            "==================================================================================================\n",
            "Total params: 32,497\n",
            "Trainable params: 32,497\n",
            "Non-trainable params: 0\n",
            "__________________________________________________________________________________________________\n"
          ]
        }
      ],
      "source": [
        "import tensorflow as tf\n",
        "from tensorflow.math import segment_mean\n",
        "from tensorflow import keras\n",
        "from tensorflow.keras import Input, Model\n",
        "from tensorflow.keras.layers import Embedding, Dense\n",
        "from tensorflow.keras.optimizers import Adam\n",
        "from tf2_gnn.layers.message_passing import GGNN\n",
        "\n",
        "data = keras.Input(batch_shape=(None,))\n",
        "\n",
        "# the first dim is different to the previous one. it is the total number of edges in this batch\n",
        "edge = keras.Input(batch_shape=(None, 2), dtype=tf.int32)\n",
        "node2graph = keras.Input(batch_shape=(None,), dtype=tf.int32)\n",
        "embeded = Embedding(tokenizer.num_words, 20)(data)\n",
        "\n",
        "# number of graphs (number of samples)\n",
        "num_graph = tf.reduce_max(node2graph)+1\n",
        "\n",
        "gnn_input = GNNInput(\n",
        "    node_features=embeded,\n",
        "    adjacency_lists=(edge,),\n",
        "    node_to_graph_map=node2graph, \n",
        "    num_graphs=num_graph,\n",
        ")\n",
        "\n",
        "# https://github.com/microsoft/tf2-gnn/blob/master/tf2_gnn/layers/gnn.py\n",
        "params = GNN.get_default_hyperparameters()\n",
        "params[\"hidden_dim\"] = 32\n",
        "#params(\"message_calculation_class\")\n",
        "params['message_calculation_class'] = 'GNN_Edge_MLP'\n",
        "gnn_layer = GNN(params)\n",
        "gnn_out = gnn_layer(gnn_input)\n",
        "\n",
        "print('gnn_out', gnn_out)\n",
        "\n",
        "# https://www.tensorflow.org/api_docs/python/tf/math/segment_mean\n",
        "avg = segment_mean(\n",
        "    data=gnn_out,\n",
        "    segment_ids=node2graph\n",
        ")\n",
        "print('mean:', avg)\n",
        "\n",
        "pred = Dense(1, activation='sigmoid')(avg)\n",
        "print('pred:', pred)\n",
        "\n",
        "model = Model(\n",
        "    inputs={\n",
        "        'data': data,\n",
        "        'edges': edge,\n",
        "        'node2grah': node2graph,\n",
        "    },\n",
        "    outputs=pred\n",
        ")\n",
        "model.summary()"
      ]
    },
    {
      "cell_type": "code",
      "execution_count": null,
      "metadata": {
        "id": "Vu6q6jHFCbgk"
      },
      "outputs": [],
      "source": [
        "model.compile(\n",
        "    loss='BinaryCrossentropy',\n",
        "    metrics=['AUC']\n",
        ")"
      ]
    },
    {
      "cell_type": "code",
      "execution_count": null,
      "metadata": {
        "colab": {
          "base_uri": "https://localhost:8080/"
        },
        "id": "GJunIB7JCbjV",
        "outputId": "21843de0-b4b5-47bb-ad74-1fddba618825"
      },
      "outputs": [
        {
          "name": "stdout",
          "output_type": "stream",
          "text": [
            "Epoch 1/5\n"
          ]
        },
        {
          "name": "stderr",
          "output_type": "stream",
          "text": [
            "/usr/local/lib/python3.7/dist-packages/tensorflow/python/framework/indexed_slices.py:446: UserWarning: Converting sparse IndexedSlices(IndexedSlices(indices=Tensor(\"gradients/cond_3_grad/Identity_1:0\", shape=(None,), dtype=int32), values=Tensor(\"gradients/cond_3_grad/Identity:0\", shape=(None, 32), dtype=float32), dense_shape=Tensor(\"gradients/cond_3_grad/Identity_2:0\", shape=(2,), dtype=int32))) to a dense Tensor of unknown shape. This may consume a large amount of memory.\n",
            "  \"shape. This may consume a large amount of memory.\" % value)\n",
            "/usr/local/lib/python3.7/dist-packages/tensorflow/python/framework/indexed_slices.py:446: UserWarning: Converting sparse IndexedSlices(IndexedSlices(indices=Tensor(\"gradients/gnn__edge_mlp_2/embedding_lookup_grad/Reshape_1:0\", shape=(None,), dtype=int32), values=Tensor(\"gradients/gnn__edge_mlp_2/embedding_lookup_grad/Reshape:0\", shape=(None, 32), dtype=float32), dense_shape=Tensor(\"gradients/gnn__edge_mlp_2/embedding_lookup_grad/Cast:0\", shape=(2,), dtype=int32))) to a dense Tensor of unknown shape. This may consume a large amount of memory.\n",
            "  \"shape. This may consume a large amount of memory.\" % value)\n",
            "/usr/local/lib/python3.7/dist-packages/tensorflow/python/framework/indexed_slices.py:446: UserWarning: Converting sparse IndexedSlices(IndexedSlices(indices=Tensor(\"gradients/cond_1_grad/Identity_1:0\", shape=(None,), dtype=int32), values=Tensor(\"gradients/cond_1_grad/Identity:0\", shape=(None, 32), dtype=float32), dense_shape=Tensor(\"gradients/cond_1_grad/Identity_2:0\", shape=(2,), dtype=int32))) to a dense Tensor of unknown shape. This may consume a large amount of memory.\n",
            "  \"shape. This may consume a large amount of memory.\" % value)\n",
            "/usr/local/lib/python3.7/dist-packages/tensorflow/python/framework/indexed_slices.py:446: UserWarning: Converting sparse IndexedSlices(IndexedSlices(indices=Tensor(\"gradients/gnn__edge_mlp/embedding_lookup_grad/Reshape_1:0\", shape=(None,), dtype=int32), values=Tensor(\"gradients/gnn__edge_mlp/embedding_lookup_grad/Reshape:0\", shape=(None, 32), dtype=float32), dense_shape=Tensor(\"gradients/gnn__edge_mlp/embedding_lookup_grad/Cast:0\", shape=(2,), dtype=int32))) to a dense Tensor of unknown shape. This may consume a large amount of memory.\n",
            "  \"shape. This may consume a large amount of memory.\" % value)\n"
          ]
        },
        {
          "name": "stdout",
          "output_type": "stream",
          "text": [
            "1330/1330 [==============================] - 33s 22ms/step - loss: 0.2255 - auc: 0.5103 - val_loss: 0.2253 - val_auc: 0.5912\n",
            "Epoch 2/5\n",
            "1330/1330 [==============================] - 20s 15ms/step - loss: 0.1962 - auc: 0.6202 - val_loss: 0.1993 - val_auc: 0.6141\n",
            "Epoch 3/5\n",
            "1330/1330 [==============================] - 19s 14ms/step - loss: 0.1930 - auc: 0.6439 - val_loss: 0.1971 - val_auc: 0.6438\n",
            "Epoch 4/5\n",
            "1330/1330 [==============================] - 20s 15ms/step - loss: 0.1905 - auc: 0.6571 - val_loss: 0.1983 - val_auc: 0.6701\n",
            "Epoch 5/5\n",
            "1330/1330 [==============================] - 19s 14ms/step - loss: 0.1881 - auc: 0.6692 - val_loss: 0.1946 - val_auc: 0.6994\n"
          ]
        },
        {
          "data": {
            "text/plain": [
              "<keras.callbacks.History at 0x7fee6a25fd90>"
            ]
          },
          "execution_count": 77,
          "metadata": {},
          "output_type": "execute_result"
        }
      ],
      "source": [
        "import math\n",
        "\n",
        "batch_size = 16\n",
        "num_batchs = math.ceil(len(training_set) / batch_size)\n",
        "num_batchs_validation = math.ceil(len(validation_set) / batch_size)\n",
        "\n",
        "model.fit(\n",
        "    gen_batch(\n",
        "        training_set, batch_size=batch_size, repeat=True\n",
        "    ),\n",
        "    steps_per_epoch=num_batchs,\n",
        "    epochs=5,\n",
        "    validation_data=gen_batch(\n",
        "        validation_set, batch_size=16, repeat=True\n",
        "    ),\n",
        "    validation_steps=num_batchs_validation,\n",
        ")"
      ]
    },
    {
      "cell_type": "code",
      "execution_count": null,
      "metadata": {
        "id": "zQMuJBodCbmb"
      },
      "outputs": [],
      "source": [
        "y_pred = model.predict(\n",
        "    gen_batch(testing_set, batch_size=16, shuffle=False)\n",
        ")\n",
        "y_pred = np.reshape(y_pred, -1)"
      ]
    },
    {
      "cell_type": "code",
      "execution_count": null,
      "metadata": {
        "id": "FUs67HbpCbpO"
      },
      "outputs": [],
      "source": [
        "import pandas as pd \n",
        "submission = pd.DataFrame({'label':y_pred})\n",
        "submission.index.name = 'id'\n",
        "submission.to_csv('sample_submission_GNN_Edge_MLP.csv')"
      ]
    },
    {
      "cell_type": "code",
      "execution_count": null,
      "metadata": {
        "id": "URpAVdTZCbsU"
      },
      "outputs": [],
      "source": [
        ""
      ]
    },
    {
      "cell_type": "markdown",
      "metadata": {
        "id": "DE3djcftrlYa"
      },
      "source": [
        "## Trial 7\n",
        "\n",
        "thoughts and observations for trial 8: 0.79760  , which is better than of your previous score of 0.71660\n",
        "\n",
        "plan for trial 8: try to use different \"message_calculation_class\", upsampling"
      ]
    },
    {
      "cell_type": "code",
      "execution_count": 18,
      "metadata": {
        "colab": {
          "base_uri": "https://localhost:8080/",
          "height": 49,
          "referenced_widgets": [
            "a0a349ebaab74f06ae2cd0681f086cbd",
            "493a0fd080fe48828d8737d888655013",
            "b8fb9cc309cd4c71b206900d9b85cfd9",
            "82401d06b02543fa9e695ae61a1516ab",
            "2fb7a5b9238f4733b3ad1e59e1a5967d",
            "803921cc3c06417aa05ea03e9a0bbcdf",
            "1e5c261d19bf4204a1a15f8653250be7",
            "3648b1ee459743bc827252df1d61a79d",
            "0dd88d263e2a4df0bf32b83549e1f07d",
            "454746553c964ee3a2340bfd5f60491f",
            "381c156d9ddb40759af90dc62caf6f18"
          ]
        },
        "id": "qlumwo8U1s9i",
        "outputId": "5209f223-74a2-4a2d-f6cb-dd5e89fb1fb2"
      },
      "outputs": [
        {
          "output_type": "display_data",
          "data": {
            "text/plain": [
              "  0%|          | 0/25024 [00:00<?, ?it/s]"
            ],
            "application/vnd.jupyter.widget-view+json": {
              "version_major": 2,
              "version_minor": 0,
              "model_id": "a0a349ebaab74f06ae2cd0681f086cbd"
            }
          },
          "metadata": {}
        }
      ],
      "source": [
        "train = read_sdf('train.sdf')"
      ]
    },
    {
      "cell_type": "code",
      "execution_count": 20,
      "metadata": {
        "id": "ANYxgrR6uQua"
      },
      "outputs": [],
      "source": [
        "zero_class=[]\n",
        "one_class=[]\n",
        "for i in range(len(train)):\n",
        "    if train[i][2]==0:\n",
        "        zero_class.append(train[i])\n",
        "    else:\n",
        "        one_class.append(train[i])"
      ]
    },
    {
      "cell_type": "code",
      "execution_count": 21,
      "metadata": {
        "id": "U1YoGoLWuQyV"
      },
      "outputs": [],
      "source": [
        "from sklearn.utils import resample\n",
        "one_upsample = resample(one_class,\n",
        "                        replace=True,\n",
        "                        n_samples=len(zero_class),\n",
        "                        random_state=42)"
      ]
    },
    {
      "cell_type": "code",
      "execution_count": 22,
      "metadata": {
        "id": "Ljk7M0D5uQ1F"
      },
      "outputs": [],
      "source": [
        "training_balanced = [*zero_class,*one_upsample]"
      ]
    },
    {
      "cell_type": "code",
      "execution_count": 23,
      "metadata": {
        "id": "H1_WnaKtuQ5C"
      },
      "outputs": [],
      "source": [
        "training_balanced, validation_balanced = train_test_split(training_balanced, test_size=0.15)"
      ]
    },
    {
      "cell_type": "code",
      "execution_count": 24,
      "metadata": {
        "id": "QRNU1t7VuQ8P",
        "colab": {
          "base_uri": "https://localhost:8080/"
        },
        "outputId": "0a302f71-99d2-416d-e298-29beafa26c3b"
      },
      "outputs": [
        {
          "output_type": "stream",
          "name": "stdout",
          "text": [
            "gnn_out KerasTensor(type_spec=TensorSpec(shape=(None, 32), dtype=tf.float32, name=None), name='gnn/StatefulPartitionedCall:0', description=\"created by layer 'gnn'\")\n",
            "mean: KerasTensor(type_spec=TensorSpec(shape=(None, 32), dtype=tf.float32, name=None), name='tf.math.segment_mean/SegmentMean:0', description=\"created by layer 'tf.math.segment_mean'\")\n",
            "pred: KerasTensor(type_spec=TensorSpec(shape=(None, 1), dtype=tf.float32, name=None), name='dense/Sigmoid:0', description=\"created by layer 'dense'\")\n",
            "Model: \"model\"\n",
            "__________________________________________________________________________________________________\n",
            " Layer (type)                   Output Shape         Param #     Connected to                     \n",
            "==================================================================================================\n",
            " input_6 (InputLayer)           [(None,)]            0           []                               \n",
            "                                                                                                  \n",
            " input_4 (InputLayer)           [(None,)]            0           []                               \n",
            "                                                                                                  \n",
            " tf.math.reduce_max (TFOpLambda  ()                  0           ['input_6[0][0]']                \n",
            " )                                                                                                \n",
            "                                                                                                  \n",
            " embedding (Embedding)          (None, 20)           10000       ['input_4[0][0]']                \n",
            "                                                                                                  \n",
            " input_5 (InputLayer)           [(None, 2)]          0           []                               \n",
            "                                                                                                  \n",
            " tf.__operators__.add (TFOpLamb  ()                  0           ['tf.math.reduce_max[0][0]']     \n",
            " da)                                                                                              \n",
            "                                                                                                  \n",
            " gnn (GNN)                      (None, 32)           22464       ['embedding[0][0]',              \n",
            "                                                                  'input_5[0][0]',                \n",
            "                                                                  'input_6[0][0]',                \n",
            "                                                                  'tf.__operators__.add[0][0]']   \n",
            "                                                                                                  \n",
            " tf.math.segment_mean (TFOpLamb  (None, 32)          0           ['gnn[0][0]',                    \n",
            " da)                                                              'input_6[0][0]']                \n",
            "                                                                                                  \n",
            " dense (Dense)                  (None, 1)            33          ['tf.math.segment_mean[0][0]']   \n",
            "                                                                                                  \n",
            "==================================================================================================\n",
            "Total params: 32,497\n",
            "Trainable params: 32,497\n",
            "Non-trainable params: 0\n",
            "__________________________________________________________________________________________________\n"
          ]
        }
      ],
      "source": [
        "import tensorflow as tf\n",
        "from tensorflow.math import segment_mean\n",
        "from tensorflow import keras\n",
        "from tensorflow.keras import Input, Model\n",
        "from tensorflow.keras.layers import Embedding, Dense\n",
        "from tensorflow.keras.optimizers import Adam\n",
        "\n",
        "data = keras.Input(batch_shape=(None,))\n",
        "\n",
        "# the first dim is different to the previous one. it is the total number of edges in this batch\n",
        "edge = keras.Input(batch_shape=(None, 2), dtype=tf.int32)\n",
        "node2graph = keras.Input(batch_shape=(None,), dtype=tf.int32)\n",
        "embeded = Embedding(tokenizer.num_words, 20)(data)\n",
        "\n",
        "# number of graphs (number of samples)\n",
        "num_graph = tf.reduce_max(node2graph)+1\n",
        "\n",
        "gnn_input = GNNInput(\n",
        "    node_features=embeded,\n",
        "    adjacency_lists=(edge,),\n",
        "    node_to_graph_map=node2graph, \n",
        "    num_graphs=num_graph,\n",
        ")\n",
        "\n",
        "# https://github.com/microsoft/tf2-gnn/blob/master/tf2_gnn/layers/gnn.py\n",
        "params = GNN.get_default_hyperparameters()\n",
        "params[\"hidden_dim\"] = 32\n",
        "#params(\"message_calculation_class\")\n",
        "gnn_layer = GNN(params)\n",
        "gnn_out = gnn_layer(gnn_input)\n",
        "\n",
        "print('gnn_out', gnn_out)\n",
        "\n",
        "# https://www.tensorflow.org/api_docs/python/tf/math/segment_mean\n",
        "avg = segment_mean(\n",
        "    data=gnn_out,\n",
        "    segment_ids=node2graph\n",
        ")\n",
        "print('mean:', avg)\n",
        "\n",
        "pred = Dense(1, activation='sigmoid')(avg)\n",
        "print('pred:', pred)\n",
        "\n",
        "model = Model(\n",
        "    inputs={\n",
        "        'data': data,\n",
        "        'edges': edge,\n",
        "        'node2grah': node2graph,\n",
        "    },\n",
        "    outputs=pred\n",
        ")\n",
        "model.summary()"
      ]
    },
    {
      "cell_type": "code",
      "source": [
        "model.compile(\n",
        "    loss='BinaryCrossentropy',\n",
        "    metrics=['AUC']\n",
        ")"
      ],
      "metadata": {
        "id": "gLijCNYWU7Lg"
      },
      "execution_count": 25,
      "outputs": []
    },
    {
      "cell_type": "code",
      "execution_count": 28,
      "metadata": {
        "id": "6YY8kH71uQ_a",
        "colab": {
          "base_uri": "https://localhost:8080/"
        },
        "outputId": "c27d922b-83cc-49b0-8676-fe70b5876cfe"
      },
      "outputs": [
        {
          "output_type": "stream",
          "name": "stdout",
          "text": [
            "Epoch 1/5\n"
          ]
        },
        {
          "output_type": "stream",
          "name": "stderr",
          "text": [
            "/usr/local/lib/python3.7/dist-packages/tensorflow/python/framework/indexed_slices.py:446: UserWarning: Converting sparse IndexedSlices(IndexedSlices(indices=Tensor(\"gradients/cond_3_grad/Identity_1:0\", shape=(None,), dtype=int32), values=Tensor(\"gradients/cond_3_grad/Identity:0\", shape=(None, 32), dtype=float32), dense_shape=Tensor(\"gradients/cond_3_grad/Identity_2:0\", shape=(2,), dtype=int32))) to a dense Tensor of unknown shape. This may consume a large amount of memory.\n",
            "  \"shape. This may consume a large amount of memory.\" % value)\n",
            "/usr/local/lib/python3.7/dist-packages/tensorflow/python/framework/indexed_slices.py:446: UserWarning: Converting sparse IndexedSlices(IndexedSlices(indices=Tensor(\"gradients/GatherV2_1_grad/Reshape_1:0\", shape=(None,), dtype=int32), values=Tensor(\"gradients/GatherV2_1_grad/Reshape:0\", shape=(None,), dtype=float32), dense_shape=Tensor(\"gradients/GatherV2_1_grad/Cast:0\", shape=(1,), dtype=int32))) to a dense Tensor of unknown shape. This may consume a large amount of memory.\n",
            "  \"shape. This may consume a large amount of memory.\" % value)\n",
            "/usr/local/lib/python3.7/dist-packages/tensorflow/python/framework/indexed_slices.py:446: UserWarning: Converting sparse IndexedSlices(IndexedSlices(indices=Tensor(\"gradients/GatherV2_grad/Reshape_1:0\", shape=(None,), dtype=int32), values=Tensor(\"gradients/GatherV2_grad/Reshape:0\", shape=(None,), dtype=float32), dense_shape=Tensor(\"gradients/GatherV2_grad/Cast:0\", shape=(1,), dtype=int32))) to a dense Tensor of unknown shape. This may consume a large amount of memory.\n",
            "  \"shape. This may consume a large amount of memory.\" % value)\n",
            "/usr/local/lib/python3.7/dist-packages/tensorflow/python/framework/indexed_slices.py:446: UserWarning: Converting sparse IndexedSlices(IndexedSlices(indices=Tensor(\"gradients/rgcn_2/embedding_lookup_grad/Reshape_1:0\", shape=(None,), dtype=int32), values=Tensor(\"gradients/rgcn_2/embedding_lookup_grad/Reshape:0\", shape=(None, 32), dtype=float32), dense_shape=Tensor(\"gradients/rgcn_2/embedding_lookup_grad/Cast:0\", shape=(2,), dtype=int32))) to a dense Tensor of unknown shape. This may consume a large amount of memory.\n",
            "  \"shape. This may consume a large amount of memory.\" % value)\n",
            "/usr/local/lib/python3.7/dist-packages/tensorflow/python/framework/indexed_slices.py:446: UserWarning: Converting sparse IndexedSlices(IndexedSlices(indices=Tensor(\"gradients/cond_1_grad/Identity_1:0\", shape=(None,), dtype=int32), values=Tensor(\"gradients/cond_1_grad/Identity:0\", shape=(None, 32), dtype=float32), dense_shape=Tensor(\"gradients/cond_1_grad/Identity_2:0\", shape=(2,), dtype=int32))) to a dense Tensor of unknown shape. This may consume a large amount of memory.\n",
            "  \"shape. This may consume a large amount of memory.\" % value)\n",
            "/usr/local/lib/python3.7/dist-packages/tensorflow/python/framework/indexed_slices.py:446: UserWarning: Converting sparse IndexedSlices(IndexedSlices(indices=Tensor(\"gradients/rgcn/embedding_lookup_grad/Reshape_1:0\", shape=(None,), dtype=int32), values=Tensor(\"gradients/rgcn/embedding_lookup_grad/Reshape:0\", shape=(None, 32), dtype=float32), dense_shape=Tensor(\"gradients/rgcn/embedding_lookup_grad/Cast:0\", shape=(2,), dtype=int32))) to a dense Tensor of unknown shape. This may consume a large amount of memory.\n",
            "  \"shape. This may consume a large amount of memory.\" % value)\n"
          ]
        },
        {
          "output_type": "stream",
          "name": "stdout",
          "text": [
            "2530/2530 [==============================] - 59s 22ms/step - loss: 0.6259 - auc: 0.7065 - val_loss: 0.6020 - val_auc: 0.7366\n",
            "Epoch 2/5\n",
            "2530/2530 [==============================] - 55s 22ms/step - loss: 0.5959 - auc: 0.7443 - val_loss: 0.5778 - val_auc: 0.7688\n",
            "Epoch 3/5\n",
            "2530/2530 [==============================] - 55s 22ms/step - loss: 0.5769 - auc: 0.7687 - val_loss: 0.5560 - val_auc: 0.7876\n",
            "Epoch 4/5\n",
            "2530/2530 [==============================] - 55s 22ms/step - loss: 0.5586 - auc: 0.7890 - val_loss: 0.5485 - val_auc: 0.8000\n",
            "Epoch 5/5\n",
            "2530/2530 [==============================] - 58s 23ms/step - loss: 0.5471 - auc: 0.8000 - val_loss: 0.5402 - val_auc: 0.8143\n"
          ]
        },
        {
          "output_type": "execute_result",
          "data": {
            "text/plain": [
              "<keras.callbacks.History at 0x7ff9e89b3690>"
            ]
          },
          "metadata": {},
          "execution_count": 28
        }
      ],
      "source": [
        "import math\n",
        "\n",
        "batch_size = 16\n",
        "num_batchs = math.ceil(len(training_balanced) / batch_size)\n",
        "num_batchs_validation = math.ceil(len(validation_balanced) / batch_size)\n",
        "\n",
        "model.fit(\n",
        "    gen_batch(\n",
        "        training_balanced, batch_size=batch_size, repeat=True\n",
        "    ),\n",
        "    steps_per_epoch=num_batchs,\n",
        "    epochs=5,\n",
        "    validation_data=gen_batch(\n",
        "        validation_balanced, batch_size=16, repeat=True\n",
        "    ),\n",
        "    validation_steps=num_batchs_validation,\n",
        ")"
      ]
    },
    {
      "cell_type": "code",
      "execution_count": 29,
      "metadata": {
        "id": "PLZPs2IluRC9"
      },
      "outputs": [],
      "source": [
        "y_pred = model.predict(\n",
        "    gen_batch(testing_set, batch_size=16, shuffle=False)\n",
        ")\n",
        "y_pred = np.reshape(y_pred, -1)"
      ]
    },
    {
      "cell_type": "code",
      "execution_count": 30,
      "metadata": {
        "id": "5kOF1ffCuRGe"
      },
      "outputs": [],
      "source": [
        "import pandas as pd \n",
        "submission = pd.DataFrame({'label':y_pred})\n",
        "submission.index.name = 'id'\n",
        "submission.to_csv('sample_submission_balanced.csv')"
      ]
    },
    {
      "cell_type": "markdown",
      "source": [
        "## Trial 8\n",
        "\n",
        "thoughts and observations for trial 7:  0.79760 , which is better than of your previous score of 0.71062\n",
        "\n",
        "plan for trial 8: try to use different \"message_calculation_class\", upsampling"
      ],
      "metadata": {
        "id": "ljColg6TZVxr"
      }
    },
    {
      "cell_type": "code",
      "execution_count": 31,
      "metadata": {
        "id": "46loNGzTuRJn",
        "colab": {
          "base_uri": "https://localhost:8080/"
        },
        "outputId": "ee3d5b3a-a414-44c2-af03-2e0a1f987e9f"
      },
      "outputs": [
        {
          "output_type": "stream",
          "name": "stdout",
          "text": [
            "gnn_out KerasTensor(type_spec=TensorSpec(shape=(None, 32), dtype=tf.float32, name=None), name='gnn_1/StatefulPartitionedCall:0', description=\"created by layer 'gnn_1'\")\n",
            "mean: KerasTensor(type_spec=TensorSpec(shape=(None, 32), dtype=tf.float32, name=None), name='tf.math.segment_mean_1/SegmentMean:0', description=\"created by layer 'tf.math.segment_mean_1'\")\n",
            "pred: KerasTensor(type_spec=TensorSpec(shape=(None, 1), dtype=tf.float32, name=None), name='dense_1/Sigmoid:0', description=\"created by layer 'dense_1'\")\n",
            "Model: \"model_1\"\n",
            "__________________________________________________________________________________________________\n",
            " Layer (type)                   Output Shape         Param #     Connected to                     \n",
            "==================================================================================================\n",
            " input_9 (InputLayer)           [(None,)]            0           []                               \n",
            "                                                                                                  \n",
            " input_7 (InputLayer)           [(None,)]            0           []                               \n",
            "                                                                                                  \n",
            " tf.math.reduce_max_1 (TFOpLamb  ()                  0           ['input_9[0][0]']                \n",
            " da)                                                                                              \n",
            "                                                                                                  \n",
            " embedding_1 (Embedding)        (None, 20)           10000       ['input_7[0][0]']                \n",
            "                                                                                                  \n",
            " input_8 (InputLayer)           [(None, 2)]          0           []                               \n",
            "                                                                                                  \n",
            " tf.__operators__.add_1 (TFOpLa  ()                  0           ['tf.math.reduce_max_1[0][0]']   \n",
            " mbda)                                                                                            \n",
            "                                                                                                  \n",
            " gnn_1 (GNN)                    (None, 32)           47808       ['embedding_1[0][0]',            \n",
            "                                                                  'input_8[0][0]',                \n",
            "                                                                  'input_9[0][0]',                \n",
            "                                                                  'tf.__operators__.add_1[0][0]'] \n",
            "                                                                                                  \n",
            " tf.math.segment_mean_1 (TFOpLa  (None, 32)          0           ['gnn_1[0][0]',                  \n",
            " mbda)                                                            'input_9[0][0]']                \n",
            "                                                                                                  \n",
            " dense_1 (Dense)                (None, 1)            33          ['tf.math.segment_mean_1[0][0]'] \n",
            "                                                                                                  \n",
            "==================================================================================================\n",
            "Total params: 57,841\n",
            "Trainable params: 57,841\n",
            "Non-trainable params: 0\n",
            "__________________________________________________________________________________________________\n"
          ]
        }
      ],
      "source": [
        "import tensorflow as tf\n",
        "from tensorflow.math import segment_mean\n",
        "from tensorflow import keras\n",
        "from tensorflow.keras import Input, Model\n",
        "from tensorflow.keras.layers import Embedding, Dense\n",
        "from tensorflow.keras.optimizers import Adam\n",
        "\n",
        "data = keras.Input(batch_shape=(None,))\n",
        "\n",
        "# the first dim is different to the previous one. it is the total number of edges in this batch\n",
        "edge = keras.Input(batch_shape=(None, 2), dtype=tf.int32)\n",
        "node2graph = keras.Input(batch_shape=(None,), dtype=tf.int32)\n",
        "embeded = Embedding(tokenizer.num_words, 20)(data)\n",
        "\n",
        "# number of graphs (number of samples)\n",
        "num_graph = tf.reduce_max(node2graph)+1\n",
        "\n",
        "gnn_input = GNNInput(\n",
        "    node_features=embeded,\n",
        "    adjacency_lists=(edge,),\n",
        "    node_to_graph_map=node2graph, \n",
        "    num_graphs=num_graph,\n",
        ")\n",
        "\n",
        "# https://github.com/microsoft/tf2-gnn/blob/master/tf2_gnn/layers/gnn.py\n",
        "params = GNN.get_default_hyperparameters()\n",
        "params[\"hidden_dim\"] = 32\n",
        "#params(\"message_calculation_class\")\n",
        "params['message_calculation_class'] = 'GGNN'\n",
        "gnn_layer = GNN(params)\n",
        "gnn_out = gnn_layer(gnn_input)\n",
        "\n",
        "print('gnn_out', gnn_out)\n",
        "\n",
        "# https://www.tensorflow.org/api_docs/python/tf/math/segment_mean\n",
        "avg = segment_mean(\n",
        "    data=gnn_out,\n",
        "    segment_ids=node2graph\n",
        ")\n",
        "print('mean:', avg)\n",
        "\n",
        "pred = Dense(1, activation='sigmoid')(avg)\n",
        "print('pred:', pred)\n",
        "\n",
        "model = Model(\n",
        "    inputs={\n",
        "        'data': data,\n",
        "        'edges': edge,\n",
        "        'node2grah': node2graph,\n",
        "    },\n",
        "    outputs=pred\n",
        ")\n",
        "model.summary()"
      ]
    },
    {
      "cell_type": "code",
      "execution_count": 32,
      "metadata": {
        "id": "4Q118g-ouRM-"
      },
      "outputs": [],
      "source": [
        "model.compile(\n",
        "    loss='BinaryCrossentropy',\n",
        "    metrics=['AUC']\n",
        ")"
      ]
    },
    {
      "cell_type": "code",
      "source": [
        "import math\n",
        "\n",
        "batch_size = 16\n",
        "num_batchs = math.ceil(len(training_balanced) / batch_size)\n",
        "num_batchs_validation = math.ceil(len(validation_balanced) / batch_size)\n",
        "\n",
        "model.fit(\n",
        "    gen_batch(\n",
        "        training_balanced, batch_size=batch_size, repeat=True\n",
        "    ),\n",
        "    steps_per_epoch=num_batchs,\n",
        "    epochs=5,\n",
        "    validation_data=gen_batch(\n",
        "        validation_balanced, batch_size=16, repeat=True\n",
        "    ),\n",
        "    validation_steps=num_batchs_validation,\n",
        ")"
      ],
      "metadata": {
        "colab": {
          "base_uri": "https://localhost:8080/"
        },
        "id": "XsiROJkPmDlC",
        "outputId": "d4483645-cda2-4701-f323-133e7ccea509"
      },
      "execution_count": 33,
      "outputs": [
        {
          "output_type": "stream",
          "name": "stdout",
          "text": [
            "Epoch 1/5\n"
          ]
        },
        {
          "output_type": "stream",
          "name": "stderr",
          "text": [
            "/usr/local/lib/python3.7/dist-packages/tensorflow/python/framework/indexed_slices.py:446: UserWarning: Converting sparse IndexedSlices(IndexedSlices(indices=Tensor(\"gradients/ggnn_3/embedding_lookup_grad/Reshape_1:0\", shape=(None,), dtype=int32), values=Tensor(\"gradients/ggnn_3/embedding_lookup_grad/Reshape:0\", shape=(None, 32), dtype=float32), dense_shape=Tensor(\"gradients/ggnn_3/embedding_lookup_grad/Cast:0\", shape=(2,), dtype=int32))) to a dense Tensor of unknown shape. This may consume a large amount of memory.\n",
            "  \"shape. This may consume a large amount of memory.\" % value)\n",
            "/usr/local/lib/python3.7/dist-packages/tensorflow/python/framework/indexed_slices.py:446: UserWarning: Converting sparse IndexedSlices(IndexedSlices(indices=Tensor(\"gradients/ggnn_2/embedding_lookup_grad/Reshape_1:0\", shape=(None,), dtype=int32), values=Tensor(\"gradients/ggnn_2/embedding_lookup_grad/Reshape:0\", shape=(None, 32), dtype=float32), dense_shape=Tensor(\"gradients/ggnn_2/embedding_lookup_grad/Cast:0\", shape=(2,), dtype=int32))) to a dense Tensor of unknown shape. This may consume a large amount of memory.\n",
            "  \"shape. This may consume a large amount of memory.\" % value)\n",
            "/usr/local/lib/python3.7/dist-packages/tensorflow/python/framework/indexed_slices.py:446: UserWarning: Converting sparse IndexedSlices(IndexedSlices(indices=Tensor(\"gradients/ggnn_1/embedding_lookup_grad/Reshape_1:0\", shape=(None,), dtype=int32), values=Tensor(\"gradients/ggnn_1/embedding_lookup_grad/Reshape:0\", shape=(None, 32), dtype=float32), dense_shape=Tensor(\"gradients/ggnn_1/embedding_lookup_grad/Cast:0\", shape=(2,), dtype=int32))) to a dense Tensor of unknown shape. This may consume a large amount of memory.\n",
            "  \"shape. This may consume a large amount of memory.\" % value)\n",
            "/usr/local/lib/python3.7/dist-packages/tensorflow/python/framework/indexed_slices.py:446: UserWarning: Converting sparse IndexedSlices(IndexedSlices(indices=Tensor(\"gradients/ggnn/embedding_lookup_grad/Reshape_1:0\", shape=(None,), dtype=int32), values=Tensor(\"gradients/ggnn/embedding_lookup_grad/Reshape:0\", shape=(None, 32), dtype=float32), dense_shape=Tensor(\"gradients/ggnn/embedding_lookup_grad/Cast:0\", shape=(2,), dtype=int32))) to a dense Tensor of unknown shape. This may consume a large amount of memory.\n",
            "  \"shape. This may consume a large amount of memory.\" % value)\n"
          ]
        },
        {
          "output_type": "stream",
          "name": "stdout",
          "text": [
            "2530/2530 [==============================] - 107s 40ms/step - loss: 0.6271 - auc: 0.6973 - val_loss: 0.6056 - val_auc: 0.7400\n",
            "Epoch 2/5\n",
            "2530/2530 [==============================] - 99s 39ms/step - loss: 0.5696 - auc: 0.7746 - val_loss: 0.5416 - val_auc: 0.8034\n",
            "Epoch 3/5\n",
            "2530/2530 [==============================] - 99s 39ms/step - loss: 0.5401 - auc: 0.8033 - val_loss: 0.5187 - val_auc: 0.8237\n",
            "Epoch 4/5\n",
            "2530/2530 [==============================] - 84s 33ms/step - loss: 0.5112 - auc: 0.8282 - val_loss: 0.4893 - val_auc: 0.8468\n",
            "Epoch 5/5\n",
            "2530/2530 [==============================] - 86s 34ms/step - loss: 0.4814 - auc: 0.8506 - val_loss: 0.4560 - val_auc: 0.8677\n"
          ]
        },
        {
          "output_type": "execute_result",
          "data": {
            "text/plain": [
              "<keras.callbacks.History at 0x7ff9e0b9f150>"
            ]
          },
          "metadata": {},
          "execution_count": 33
        }
      ]
    },
    {
      "cell_type": "code",
      "source": [
        "y_pred = model.predict(\n",
        "    gen_batch(testing_set, batch_size=16, shuffle=False)\n",
        ")\n",
        "y_pred = np.reshape(y_pred, -1)"
      ],
      "metadata": {
        "id": "c80_OJpYmDoX"
      },
      "execution_count": 34,
      "outputs": []
    },
    {
      "cell_type": "code",
      "source": [
        "import pandas as pd \n",
        "submission = pd.DataFrame({'label':y_pred})\n",
        "submission.index.name = 'id'\n",
        "submission.to_csv('sample_submission_balanced_GGNN.csv')"
      ],
      "metadata": {
        "id": "-mPh6fFLmDr2"
      },
      "execution_count": 35,
      "outputs": []
    },
    {
      "cell_type": "code",
      "source": [
        ""
      ],
      "metadata": {
        "id": "g5rpOlQpmDuf"
      },
      "execution_count": null,
      "outputs": []
    },
    {
      "cell_type": "markdown",
      "source": [
        "## Trial 9\n",
        "\n",
        "thoughts and observations for trial 8: 0.83539 , which is better than of your previous score of 0.79760\n",
        "\n",
        "plan for trial 8: try to use different \"message_calculation_class\", upsampling"
      ],
      "metadata": {
        "id": "v6asP1jBmYEW"
      }
    },
    {
      "cell_type": "code",
      "source": [
        "import tensorflow as tf\n",
        "from tensorflow.math import segment_mean\n",
        "from tensorflow import keras\n",
        "from tensorflow.keras import Input, Model\n",
        "from tensorflow.keras.layers import Embedding, Dense\n",
        "from tensorflow.keras.optimizers import Adam\n",
        "\n",
        "data = keras.Input(batch_shape=(None,))\n",
        "\n",
        "# the first dim is different to the previous one. it is the total number of edges in this batch\n",
        "edge = keras.Input(batch_shape=(None, 2), dtype=tf.int32)\n",
        "node2graph = keras.Input(batch_shape=(None,), dtype=tf.int32)\n",
        "embeded = Embedding(tokenizer.num_words, 20)(data)\n",
        "\n",
        "# number of graphs (number of samples)\n",
        "num_graph = tf.reduce_max(node2graph)+1\n",
        "\n",
        "gnn_input = GNNInput(\n",
        "    node_features=embeded,\n",
        "    adjacency_lists=(edge,),\n",
        "    node_to_graph_map=node2graph, \n",
        "    num_graphs=num_graph,\n",
        ")\n",
        "\n",
        "# https://github.com/microsoft/tf2-gnn/blob/master/tf2_gnn/layers/gnn.py\n",
        "params = GNN.get_default_hyperparameters()\n",
        "params[\"hidden_dim\"] = 32\n",
        "#params(\"message_calculation_class\")\n",
        "params['message_calculation_class'] = 'RGAT'\n",
        "params['num_heads'] = 4\n",
        "gnn_layer = GNN(params)\n",
        "gnn_out = gnn_layer(gnn_input)\n",
        "\n",
        "print('gnn_out', gnn_out)\n",
        "\n",
        "# https://www.tensorflow.org/api_docs/python/tf/math/segment_mean\n",
        "avg = segment_mean(\n",
        "    data=gnn_out,\n",
        "    segment_ids=node2graph\n",
        ")\n",
        "print('mean:', avg)\n",
        "\n",
        "pred = Dense(1, activation='sigmoid')(avg)\n",
        "print('pred:', pred)\n",
        "\n",
        "model = Model(\n",
        "    inputs={\n",
        "        'data': data,\n",
        "        'edges': edge,\n",
        "        'node2grah': node2graph,\n",
        "    },\n",
        "    outputs=pred\n",
        ")\n",
        "model.summary()"
      ],
      "metadata": {
        "colab": {
          "base_uri": "https://localhost:8080/"
        },
        "id": "vaG4ViJlmDxd",
        "outputId": "8881e900-3663-4e4d-b972-e9400a173652"
      },
      "execution_count": 36,
      "outputs": [
        {
          "output_type": "stream",
          "name": "stdout",
          "text": [
            "gnn_out KerasTensor(type_spec=TensorSpec(shape=(None, 32), dtype=tf.float32, name=None), name='gnn_2/StatefulPartitionedCall:0', description=\"created by layer 'gnn_2'\")\n",
            "mean: KerasTensor(type_spec=TensorSpec(shape=(None, 32), dtype=tf.float32, name=None), name='tf.math.segment_mean_2/SegmentMean:0', description=\"created by layer 'tf.math.segment_mean_2'\")\n",
            "pred: KerasTensor(type_spec=TensorSpec(shape=(None, 1), dtype=tf.float32, name=None), name='dense_2/Sigmoid:0', description=\"created by layer 'dense_2'\")\n",
            "Model: \"model_2\"\n",
            "__________________________________________________________________________________________________\n",
            " Layer (type)                   Output Shape         Param #     Connected to                     \n",
            "==================================================================================================\n",
            " input_12 (InputLayer)          [(None,)]            0           []                               \n",
            "                                                                                                  \n",
            " input_10 (InputLayer)          [(None,)]            0           []                               \n",
            "                                                                                                  \n",
            " tf.math.reduce_max_2 (TFOpLamb  ()                  0           ['input_12[0][0]']               \n",
            " da)                                                                                              \n",
            "                                                                                                  \n",
            " embedding_2 (Embedding)        (None, 20)           10000       ['input_10[0][0]']               \n",
            "                                                                                                  \n",
            " input_11 (InputLayer)          [(None, 2)]          0           []                               \n",
            "                                                                                                  \n",
            " tf.__operators__.add_2 (TFOpLa  ()                  0           ['tf.math.reduce_max_2[0][0]']   \n",
            " mbda)                                                                                            \n",
            "                                                                                                  \n",
            " gnn_2 (GNN)                    (None, 32)           22720       ['embedding_2[0][0]',            \n",
            "                                                                  'input_11[0][0]',               \n",
            "                                                                  'input_12[0][0]',               \n",
            "                                                                  'tf.__operators__.add_2[0][0]'] \n",
            "                                                                                                  \n",
            " tf.math.segment_mean_2 (TFOpLa  (None, 32)          0           ['gnn_2[0][0]',                  \n",
            " mbda)                                                            'input_12[0][0]']               \n",
            "                                                                                                  \n",
            " dense_2 (Dense)                (None, 1)            33          ['tf.math.segment_mean_2[0][0]'] \n",
            "                                                                                                  \n",
            "==================================================================================================\n",
            "Total params: 32,753\n",
            "Trainable params: 32,753\n",
            "Non-trainable params: 0\n",
            "__________________________________________________________________________________________________\n"
          ]
        }
      ]
    },
    {
      "cell_type": "code",
      "source": [
        "model.compile(\n",
        "    loss='BinaryCrossentropy',\n",
        "    metrics=['AUC']\n",
        ")"
      ],
      "metadata": {
        "id": "87SAx6qzmD0v"
      },
      "execution_count": 37,
      "outputs": []
    },
    {
      "cell_type": "code",
      "source": [
        "import math\n",
        "\n",
        "batch_size = 16\n",
        "num_batchs = math.ceil(len(training_balanced) / batch_size)\n",
        "num_batchs_validation = math.ceil(len(validation_balanced) / batch_size)\n",
        "\n",
        "model.fit(\n",
        "    gen_batch(\n",
        "        training_balanced, batch_size=batch_size, repeat=True\n",
        "    ),\n",
        "    steps_per_epoch=num_batchs,\n",
        "    epochs=5,\n",
        "    validation_data=gen_batch(\n",
        "        validation_balanced, batch_size=16, repeat=True\n",
        "    ),\n",
        "    validation_steps=num_batchs_validation,\n",
        ")"
      ],
      "metadata": {
        "colab": {
          "base_uri": "https://localhost:8080/"
        },
        "id": "1EVaEam5mD4d",
        "outputId": "36ed1309-6f15-4f62-ce2f-b485c9fb8b4e"
      },
      "execution_count": 38,
      "outputs": [
        {
          "output_type": "stream",
          "name": "stdout",
          "text": [
            "Epoch 1/5\n"
          ]
        },
        {
          "output_type": "stream",
          "name": "stderr",
          "text": [
            "/usr/local/lib/python3.7/dist-packages/tensorflow/python/framework/indexed_slices.py:446: UserWarning: Converting sparse IndexedSlices(IndexedSlices(indices=Tensor(\"gradients/GatherV2_1_grad/Reshape_1:0\", shape=(None,), dtype=int32), values=Tensor(\"gradients/GatherV2_1_grad/Reshape:0\", shape=(None,), dtype=float32), dense_shape=Tensor(\"gradients/GatherV2_1_grad/Cast:0\", shape=(1,), dtype=int32))) to a dense Tensor of unknown shape. This may consume a large amount of memory.\n",
            "  \"shape. This may consume a large amount of memory.\" % value)\n",
            "/usr/local/lib/python3.7/dist-packages/tensorflow/python/framework/indexed_slices.py:446: UserWarning: Converting sparse IndexedSlices(IndexedSlices(indices=Tensor(\"gradients/GatherV2_grad/Reshape_1:0\", shape=(None,), dtype=int32), values=Tensor(\"gradients/GatherV2_grad/Reshape:0\", shape=(None,), dtype=float32), dense_shape=Tensor(\"gradients/GatherV2_grad/Cast:0\", shape=(1,), dtype=int32))) to a dense Tensor of unknown shape. This may consume a large amount of memory.\n",
            "  \"shape. This may consume a large amount of memory.\" % value)\n",
            "/usr/local/lib/python3.7/dist-packages/tensorflow/python/framework/indexed_slices.py:446: UserWarning: Converting sparse IndexedSlices(IndexedSlices(indices=Tensor(\"gradients/cond_3_grad/Identity_1:0\", shape=(None,), dtype=int32), values=Tensor(\"gradients/cond_3_grad/Identity:0\", shape=(None, 32), dtype=float32), dense_shape=Tensor(\"gradients/cond_3_grad/Identity_2:0\", shape=(2,), dtype=int32))) to a dense Tensor of unknown shape. This may consume a large amount of memory.\n",
            "  \"shape. This may consume a large amount of memory.\" % value)\n",
            "/usr/local/lib/python3.7/dist-packages/tensorflow/python/framework/indexed_slices.py:446: UserWarning: Converting sparse IndexedSlices(IndexedSlices(indices=Tensor(\"gradients/concat_3:0\", shape=(None,), dtype=int32), values=Tensor(\"gradients/concat_2:0\", shape=(None, 32), dtype=float32), dense_shape=Tensor(\"gradients/rgat_2/embedding_lookup_grad/Cast:0\", shape=(2,), dtype=int32))) to a dense Tensor of unknown shape. This may consume a large amount of memory.\n",
            "  \"shape. This may consume a large amount of memory.\" % value)\n",
            "/usr/local/lib/python3.7/dist-packages/tensorflow/python/framework/indexed_slices.py:446: UserWarning: Converting sparse IndexedSlices(IndexedSlices(indices=Tensor(\"gradients/cond_1_grad/Identity_1:0\", shape=(None,), dtype=int32), values=Tensor(\"gradients/cond_1_grad/Identity:0\", shape=(None, 32), dtype=float32), dense_shape=Tensor(\"gradients/cond_1_grad/Identity_2:0\", shape=(2,), dtype=int32))) to a dense Tensor of unknown shape. This may consume a large amount of memory.\n",
            "  \"shape. This may consume a large amount of memory.\" % value)\n",
            "/usr/local/lib/python3.7/dist-packages/tensorflow/python/framework/indexed_slices.py:446: UserWarning: Converting sparse IndexedSlices(IndexedSlices(indices=Tensor(\"gradients/rgat/embedding_lookup_grad/Reshape_1:0\", shape=(None,), dtype=int32), values=Tensor(\"gradients/rgat/embedding_lookup_grad/Reshape:0\", shape=(None, 32), dtype=float32), dense_shape=Tensor(\"gradients/rgat/embedding_lookup_grad/Cast:0\", shape=(2,), dtype=int32))) to a dense Tensor of unknown shape. This may consume a large amount of memory.\n",
            "  \"shape. This may consume a large amount of memory.\" % value)\n",
            "/usr/local/lib/python3.7/dist-packages/tensorflow/python/framework/indexed_slices.py:446: UserWarning: Converting sparse IndexedSlices(IndexedSlices(indices=Tensor(\"gradients/rgat/embedding_lookup_1_grad/Reshape_1:0\", shape=(None,), dtype=int32), values=Tensor(\"gradients/rgat/embedding_lookup_1_grad/Reshape:0\", shape=(None, 32), dtype=float32), dense_shape=Tensor(\"gradients/rgat/embedding_lookup_1_grad/Cast:0\", shape=(2,), dtype=int32))) to a dense Tensor of unknown shape. This may consume a large amount of memory.\n",
            "  \"shape. This may consume a large amount of memory.\" % value)\n"
          ]
        },
        {
          "output_type": "stream",
          "name": "stdout",
          "text": [
            "2530/2530 [==============================] - 90s 32ms/step - loss: 0.6227 - auc: 0.7122 - val_loss: 0.6188 - val_auc: 0.7335\n",
            "Epoch 2/5\n",
            "2530/2530 [==============================] - 96s 38ms/step - loss: 0.5925 - auc: 0.7521 - val_loss: 0.5869 - val_auc: 0.7591\n",
            "Epoch 3/5\n",
            "2530/2530 [==============================] - 71s 28ms/step - loss: 0.5787 - auc: 0.7688 - val_loss: 0.5566 - val_auc: 0.7937\n",
            "Epoch 4/5\n",
            "2530/2530 [==============================] - 71s 28ms/step - loss: 0.5621 - auc: 0.7864 - val_loss: 0.5477 - val_auc: 0.8001\n",
            "Epoch 5/5\n",
            "2530/2530 [==============================] - 72s 28ms/step - loss: 0.5487 - auc: 0.7994 - val_loss: 0.5294 - val_auc: 0.8169\n"
          ]
        },
        {
          "output_type": "execute_result",
          "data": {
            "text/plain": [
              "<keras.callbacks.History at 0x7ff9ded42c90>"
            ]
          },
          "metadata": {},
          "execution_count": 38
        }
      ]
    },
    {
      "cell_type": "code",
      "source": [
        "y_pred = model.predict(\n",
        "    gen_batch(testing_set, batch_size=16, shuffle=False)\n",
        ")\n",
        "y_pred = np.reshape(y_pred, -1)"
      ],
      "metadata": {
        "id": "bEons4k9mD7L"
      },
      "execution_count": 39,
      "outputs": []
    },
    {
      "cell_type": "code",
      "source": [
        "import pandas as pd \n",
        "submission = pd.DataFrame({'label':y_pred})\n",
        "submission.index.name = 'id'\n",
        "submission.to_csv('sample_submission_balanced_RGAT.csv')"
      ],
      "metadata": {
        "id": "PcHqv4VemD9w"
      },
      "execution_count": 40,
      "outputs": []
    },
    {
      "cell_type": "markdown",
      "source": [
        "## Trial 10\n",
        "\n",
        "thoughts and observations for trial 8: 0.79613 , which is worse than of your previous score of 0.83539\n",
        "\n",
        "plan for trial 8: try to use different \"message_calculation_class\", upsampling"
      ],
      "metadata": {
        "id": "vBJv-eVGsfOM"
      }
    },
    {
      "cell_type": "code",
      "source": [
        "import tensorflow as tf\n",
        "from tensorflow.math import segment_mean\n",
        "from tensorflow import keras\n",
        "from tensorflow.keras import Input, Model\n",
        "from tensorflow.keras.layers import Embedding, Dense\n",
        "from tensorflow.keras.optimizers import Adam\n",
        "\n",
        "data = keras.Input(batch_shape=(None,))\n",
        "\n",
        "# the first dim is different to the previous one. it is the total number of edges in this batch\n",
        "edge = keras.Input(batch_shape=(None, 2), dtype=tf.int32)\n",
        "node2graph = keras.Input(batch_shape=(None,), dtype=tf.int32)\n",
        "embeded = Embedding(tokenizer.num_words, 20)(data)\n",
        "\n",
        "# number of graphs (number of samples)\n",
        "num_graph = tf.reduce_max(node2graph)+1\n",
        "\n",
        "gnn_input = GNNInput(\n",
        "    node_features=embeded,\n",
        "    adjacency_lists=(edge,),\n",
        "    node_to_graph_map=node2graph, \n",
        "    num_graphs=num_graph,\n",
        ")\n",
        "\n",
        "# https://github.com/microsoft/tf2-gnn/blob/master/tf2_gnn/layers/gnn.py\n",
        "params = GNN.get_default_hyperparameters()\n",
        "params[\"hidden_dim\"] = 32\n",
        "#params(\"message_calculation_class\")\n",
        "params['message_calculation_class'] = 'GNN_FiLM'\n",
        "params['film_parameter_MLP_hidden_layers'] = 0\n",
        "gnn_layer = GNN(params)\n",
        "gnn_out = gnn_layer(gnn_input)\n",
        "\n",
        "print('gnn_out', gnn_out)\n",
        "\n",
        "# https://www.tensorflow.org/api_docs/python/tf/math/segment_mean\n",
        "avg = segment_mean(\n",
        "    data=gnn_out,\n",
        "    segment_ids=node2graph\n",
        ")\n",
        "print('mean:', avg)\n",
        "\n",
        "pred = Dense(1, activation='sigmoid')(avg)\n",
        "print('pred:', pred)\n",
        "\n",
        "model = Model(\n",
        "    inputs={\n",
        "        'data': data,\n",
        "        'edges': edge,\n",
        "        'node2grah': node2graph,\n",
        "    },\n",
        "    outputs=pred\n",
        ")\n",
        "model.summary()"
      ],
      "metadata": {
        "colab": {
          "base_uri": "https://localhost:8080/"
        },
        "id": "yemJVU_xmEHs",
        "outputId": "91f3543e-9097-427e-e2cc-e838cdcdd50d"
      },
      "execution_count": 41,
      "outputs": [
        {
          "output_type": "stream",
          "name": "stdout",
          "text": [
            "gnn_out KerasTensor(type_spec=TensorSpec(shape=(None, 32), dtype=tf.float32, name=None), name='gnn_3/StatefulPartitionedCall:0', description=\"created by layer 'gnn_3'\")\n",
            "mean: KerasTensor(type_spec=TensorSpec(shape=(None, 32), dtype=tf.float32, name=None), name='tf.math.segment_mean_3/SegmentMean:0', description=\"created by layer 'tf.math.segment_mean_3'\")\n",
            "pred: KerasTensor(type_spec=TensorSpec(shape=(None, 1), dtype=tf.float32, name=None), name='dense_3/Sigmoid:0', description=\"created by layer 'dense_3'\")\n",
            "Model: \"model_3\"\n",
            "__________________________________________________________________________________________________\n",
            " Layer (type)                   Output Shape         Param #     Connected to                     \n",
            "==================================================================================================\n",
            " input_15 (InputLayer)          [(None,)]            0           []                               \n",
            "                                                                                                  \n",
            " input_13 (InputLayer)          [(None,)]            0           []                               \n",
            "                                                                                                  \n",
            " tf.math.reduce_max_3 (TFOpLamb  ()                  0           ['input_15[0][0]']               \n",
            " da)                                                                                              \n",
            "                                                                                                  \n",
            " embedding_3 (Embedding)        (None, 20)           10000       ['input_13[0][0]']               \n",
            "                                                                                                  \n",
            " input_14 (InputLayer)          [(None, 2)]          0           []                               \n",
            "                                                                                                  \n",
            " tf.__operators__.add_3 (TFOpLa  ()                  0           ['tf.math.reduce_max_3[0][0]']   \n",
            " mbda)                                                                                            \n",
            "                                                                                                  \n",
            " gnn_3 (GNN)                    (None, 32)           30656       ['embedding_3[0][0]',            \n",
            "                                                                  'input_14[0][0]',               \n",
            "                                                                  'input_15[0][0]',               \n",
            "                                                                  'tf.__operators__.add_3[0][0]'] \n",
            "                                                                                                  \n",
            " tf.math.segment_mean_3 (TFOpLa  (None, 32)          0           ['gnn_3[0][0]',                  \n",
            " mbda)                                                            'input_15[0][0]']               \n",
            "                                                                                                  \n",
            " dense_3 (Dense)                (None, 1)            33          ['tf.math.segment_mean_3[0][0]'] \n",
            "                                                                                                  \n",
            "==================================================================================================\n",
            "Total params: 40,689\n",
            "Trainable params: 40,689\n",
            "Non-trainable params: 0\n",
            "__________________________________________________________________________________________________\n"
          ]
        }
      ]
    },
    {
      "cell_type": "code",
      "source": [
        "model.compile(\n",
        "    loss='BinaryCrossentropy',\n",
        "    metrics=['AUC']\n",
        ")"
      ],
      "metadata": {
        "id": "hZgF3iT_swgu"
      },
      "execution_count": 42,
      "outputs": []
    },
    {
      "cell_type": "code",
      "source": [
        "import math\n",
        "\n",
        "batch_size = 16\n",
        "num_batchs = math.ceil(len(training_balanced) / batch_size)\n",
        "num_batchs_validation = math.ceil(len(validation_balanced) / batch_size)\n",
        "\n",
        "model.fit(\n",
        "    gen_batch(\n",
        "        training_balanced, batch_size=batch_size, repeat=True\n",
        "    ),\n",
        "    steps_per_epoch=num_batchs,\n",
        "    epochs=5,\n",
        "    validation_data=gen_batch(\n",
        "        validation_balanced, batch_size=16, repeat=True\n",
        "    ),\n",
        "    validation_steps=num_batchs_validation,\n",
        ")"
      ],
      "metadata": {
        "colab": {
          "base_uri": "https://localhost:8080/"
        },
        "id": "LK7MWzhasw3v",
        "outputId": "c768a2cd-2bc4-40a3-9536-e34557b8c32b"
      },
      "execution_count": 43,
      "outputs": [
        {
          "output_type": "stream",
          "name": "stdout",
          "text": [
            "Epoch 1/5\n"
          ]
        },
        {
          "output_type": "stream",
          "name": "stderr",
          "text": [
            "/usr/local/lib/python3.7/dist-packages/tensorflow/python/framework/indexed_slices.py:446: UserWarning: Converting sparse IndexedSlices(IndexedSlices(indices=Tensor(\"gradients/cond_3_grad/Identity_1:0\", shape=(None,), dtype=int32), values=Tensor(\"gradients/cond_3_grad/Identity:0\", shape=(None, 32), dtype=float32), dense_shape=Tensor(\"gradients/cond_3_grad/Identity_2:0\", shape=(2,), dtype=int32))) to a dense Tensor of unknown shape. This may consume a large amount of memory.\n",
            "  \"shape. This may consume a large amount of memory.\" % value)\n",
            "/usr/local/lib/python3.7/dist-packages/tensorflow/python/framework/indexed_slices.py:446: UserWarning: Converting sparse IndexedSlices(IndexedSlices(indices=Tensor(\"gradients/concat_3:0\", shape=(None,), dtype=int32), values=Tensor(\"gradients/concat_2:0\", shape=(None, 32), dtype=float32), dense_shape=Tensor(\"gradients/gnn__fi_lm_2/embedding_lookup_1_grad/Cast:0\", shape=(2,), dtype=int32))) to a dense Tensor of unknown shape. This may consume a large amount of memory.\n",
            "  \"shape. This may consume a large amount of memory.\" % value)\n",
            "/usr/local/lib/python3.7/dist-packages/tensorflow/python/framework/indexed_slices.py:446: UserWarning: Converting sparse IndexedSlices(IndexedSlices(indices=Tensor(\"gradients/cond_1_grad/Identity_1:0\", shape=(None,), dtype=int32), values=Tensor(\"gradients/cond_1_grad/Identity:0\", shape=(None, 32), dtype=float32), dense_shape=Tensor(\"gradients/cond_1_grad/Identity_2:0\", shape=(2,), dtype=int32))) to a dense Tensor of unknown shape. This may consume a large amount of memory.\n",
            "  \"shape. This may consume a large amount of memory.\" % value)\n",
            "/usr/local/lib/python3.7/dist-packages/tensorflow/python/framework/indexed_slices.py:446: UserWarning: Converting sparse IndexedSlices(IndexedSlices(indices=Tensor(\"gradients/gnn__fi_lm/embedding_lookup_1_grad/Reshape_1:0\", shape=(None,), dtype=int32), values=Tensor(\"gradients/gnn__fi_lm/embedding_lookup_1_grad/Reshape:0\", shape=(None, 32), dtype=float32), dense_shape=Tensor(\"gradients/gnn__fi_lm/embedding_lookup_1_grad/Cast:0\", shape=(2,), dtype=int32))) to a dense Tensor of unknown shape. This may consume a large amount of memory.\n",
            "  \"shape. This may consume a large amount of memory.\" % value)\n",
            "/usr/local/lib/python3.7/dist-packages/tensorflow/python/framework/indexed_slices.py:446: UserWarning: Converting sparse IndexedSlices(IndexedSlices(indices=Tensor(\"gradients/gnn__fi_lm/embedding_lookup_grad/Reshape_1:0\", shape=(None,), dtype=int32), values=Tensor(\"gradients/gnn__fi_lm/embedding_lookup_grad/Reshape:0\", shape=(None, 32), dtype=float32), dense_shape=Tensor(\"gradients/gnn__fi_lm/embedding_lookup_grad/Cast:0\", shape=(2,), dtype=int32))) to a dense Tensor of unknown shape. This may consume a large amount of memory.\n",
            "  \"shape. This may consume a large amount of memory.\" % value)\n"
          ]
        },
        {
          "output_type": "stream",
          "name": "stdout",
          "text": [
            "2530/2530 [==============================] - 67s 25ms/step - loss: 0.5926 - auc: 0.7495 - val_loss: 0.5671 - val_auc: 0.7924\n",
            "Epoch 2/5\n",
            "2530/2530 [==============================] - 60s 24ms/step - loss: 0.5424 - auc: 0.8035 - val_loss: 0.5463 - val_auc: 0.8271\n",
            "Epoch 3/5\n",
            "2530/2530 [==============================] - 60s 24ms/step - loss: 0.5101 - auc: 0.8309 - val_loss: 0.5053 - val_auc: 0.8406\n",
            "Epoch 4/5\n",
            "2530/2530 [==============================] - 61s 24ms/step - loss: 0.4847 - auc: 0.8492 - val_loss: 0.4651 - val_auc: 0.8636\n",
            "Epoch 5/5\n",
            "2530/2530 [==============================] - 60s 24ms/step - loss: 0.4565 - auc: 0.8681 - val_loss: 0.4338 - val_auc: 0.8822\n"
          ]
        },
        {
          "output_type": "execute_result",
          "data": {
            "text/plain": [
              "<keras.callbacks.History at 0x7ff9dc17f790>"
            ]
          },
          "metadata": {},
          "execution_count": 43
        }
      ]
    },
    {
      "cell_type": "code",
      "source": [
        "y_pred = model.predict(\n",
        "    gen_batch(testing_set, batch_size=16, shuffle=False)\n",
        ")\n",
        "y_pred = np.reshape(y_pred, -1)"
      ],
      "metadata": {
        "id": "aD7cXKzrsxHR"
      },
      "execution_count": 44,
      "outputs": []
    },
    {
      "cell_type": "code",
      "source": [
        "import pandas as pd \n",
        "submission = pd.DataFrame({'label':y_pred})\n",
        "submission.index.name = 'id'\n",
        "submission.to_csv('sample_submission_balanced_GNN-FiLM.csv')"
      ],
      "metadata": {
        "id": "pXgMsvmOs5gF"
      },
      "execution_count": 45,
      "outputs": []
    },
    {
      "cell_type": "markdown",
      "source": [
        "0.84947 which is even better that the best one of the previous models"
      ],
      "metadata": {
        "id": "T-9Vx-6FycRR"
      }
    },
    {
      "cell_type": "markdown",
      "source": [
        "##GCN"
      ],
      "metadata": {
        "id": "pKZX7XlXN-EF"
      }
    },
    {
      "cell_type": "code",
      "source": [
        "!pip install stellargraph"
      ],
      "metadata": {
        "colab": {
          "base_uri": "https://localhost:8080/"
        },
        "id": "dlKxCYD-OWaS",
        "outputId": "966c8d78-59c3-42f2-9b1f-b4597b2e5d29"
      },
      "execution_count": 5,
      "outputs": [
        {
          "output_type": "stream",
          "name": "stdout",
          "text": [
            "Collecting stellargraph\n",
            "  Downloading stellargraph-1.2.1-py3-none-any.whl (435 kB)\n",
            "\u001b[?25l\r\u001b[K     |▊                               | 10 kB 24.1 MB/s eta 0:00:01\r\u001b[K     |█▌                              | 20 kB 29.0 MB/s eta 0:00:01\r\u001b[K     |██▎                             | 30 kB 14.5 MB/s eta 0:00:01\r\u001b[K     |███                             | 40 kB 8.4 MB/s eta 0:00:01\r\u001b[K     |███▊                            | 51 kB 7.1 MB/s eta 0:00:01\r\u001b[K     |████▌                           | 61 kB 8.3 MB/s eta 0:00:01\r\u001b[K     |█████▎                          | 71 kB 8.9 MB/s eta 0:00:01\r\u001b[K     |██████                          | 81 kB 9.3 MB/s eta 0:00:01\r\u001b[K     |██████▊                         | 92 kB 10.3 MB/s eta 0:00:01\r\u001b[K     |███████▌                        | 102 kB 10.5 MB/s eta 0:00:01\r\u001b[K     |████████▎                       | 112 kB 10.5 MB/s eta 0:00:01\r\u001b[K     |█████████                       | 122 kB 10.5 MB/s eta 0:00:01\r\u001b[K     |█████████▉                      | 133 kB 10.5 MB/s eta 0:00:01\r\u001b[K     |██████████▌                     | 143 kB 10.5 MB/s eta 0:00:01\r\u001b[K     |███████████▎                    | 153 kB 10.5 MB/s eta 0:00:01\r\u001b[K     |████████████                    | 163 kB 10.5 MB/s eta 0:00:01\r\u001b[K     |████████████▉                   | 174 kB 10.5 MB/s eta 0:00:01\r\u001b[K     |█████████████▌                  | 184 kB 10.5 MB/s eta 0:00:01\r\u001b[K     |██████████████▎                 | 194 kB 10.5 MB/s eta 0:00:01\r\u001b[K     |███████████████                 | 204 kB 10.5 MB/s eta 0:00:01\r\u001b[K     |███████████████▉                | 215 kB 10.5 MB/s eta 0:00:01\r\u001b[K     |████████████████▋               | 225 kB 10.5 MB/s eta 0:00:01\r\u001b[K     |█████████████████▎              | 235 kB 10.5 MB/s eta 0:00:01\r\u001b[K     |██████████████████              | 245 kB 10.5 MB/s eta 0:00:01\r\u001b[K     |██████████████████▉             | 256 kB 10.5 MB/s eta 0:00:01\r\u001b[K     |███████████████████▋            | 266 kB 10.5 MB/s eta 0:00:01\r\u001b[K     |████████████████████▎           | 276 kB 10.5 MB/s eta 0:00:01\r\u001b[K     |█████████████████████           | 286 kB 10.5 MB/s eta 0:00:01\r\u001b[K     |█████████████████████▉          | 296 kB 10.5 MB/s eta 0:00:01\r\u001b[K     |██████████████████████▋         | 307 kB 10.5 MB/s eta 0:00:01\r\u001b[K     |███████████████████████▍        | 317 kB 10.5 MB/s eta 0:00:01\r\u001b[K     |████████████████████████        | 327 kB 10.5 MB/s eta 0:00:01\r\u001b[K     |████████████████████████▉       | 337 kB 10.5 MB/s eta 0:00:01\r\u001b[K     |█████████████████████████▋      | 348 kB 10.5 MB/s eta 0:00:01\r\u001b[K     |██████████████████████████▍     | 358 kB 10.5 MB/s eta 0:00:01\r\u001b[K     |███████████████████████████     | 368 kB 10.5 MB/s eta 0:00:01\r\u001b[K     |███████████████████████████▉    | 378 kB 10.5 MB/s eta 0:00:01\r\u001b[K     |████████████████████████████▋   | 389 kB 10.5 MB/s eta 0:00:01\r\u001b[K     |█████████████████████████████▍  | 399 kB 10.5 MB/s eta 0:00:01\r\u001b[K     |██████████████████████████████▏ | 409 kB 10.5 MB/s eta 0:00:01\r\u001b[K     |██████████████████████████████▉ | 419 kB 10.5 MB/s eta 0:00:01\r\u001b[K     |███████████████████████████████▋| 430 kB 10.5 MB/s eta 0:00:01\r\u001b[K     |████████████████████████████████| 435 kB 10.5 MB/s \n",
            "\u001b[?25hRequirement already satisfied: pandas>=0.24 in /usr/local/lib/python3.7/dist-packages (from stellargraph) (1.3.5)\n",
            "Requirement already satisfied: tensorflow>=2.1.0 in /usr/local/lib/python3.7/dist-packages (from stellargraph) (2.8.0)\n",
            "Requirement already satisfied: numpy>=1.14 in /usr/local/lib/python3.7/dist-packages (from stellargraph) (1.21.5)\n",
            "Requirement already satisfied: scikit-learn>=0.20 in /usr/local/lib/python3.7/dist-packages (from stellargraph) (1.0.2)\n",
            "Requirement already satisfied: gensim>=3.4.0 in /usr/local/lib/python3.7/dist-packages (from stellargraph) (3.6.0)\n",
            "Requirement already satisfied: scipy>=1.1.0 in /usr/local/lib/python3.7/dist-packages (from stellargraph) (1.4.1)\n",
            "Requirement already satisfied: networkx>=2.2 in /usr/local/lib/python3.7/dist-packages (from stellargraph) (2.6.3)\n",
            "Requirement already satisfied: matplotlib>=2.2 in /usr/local/lib/python3.7/dist-packages (from stellargraph) (3.2.2)\n",
            "Requirement already satisfied: six>=1.5.0 in /usr/local/lib/python3.7/dist-packages (from gensim>=3.4.0->stellargraph) (1.15.0)\n",
            "Requirement already satisfied: smart-open>=1.2.1 in /usr/local/lib/python3.7/dist-packages (from gensim>=3.4.0->stellargraph) (5.2.1)\n",
            "Requirement already satisfied: cycler>=0.10 in /usr/local/lib/python3.7/dist-packages (from matplotlib>=2.2->stellargraph) (0.11.0)\n",
            "Requirement already satisfied: pyparsing!=2.0.4,!=2.1.2,!=2.1.6,>=2.0.1 in /usr/local/lib/python3.7/dist-packages (from matplotlib>=2.2->stellargraph) (3.0.7)\n",
            "Requirement already satisfied: kiwisolver>=1.0.1 in /usr/local/lib/python3.7/dist-packages (from matplotlib>=2.2->stellargraph) (1.4.0)\n",
            "Requirement already satisfied: python-dateutil>=2.1 in /usr/local/lib/python3.7/dist-packages (from matplotlib>=2.2->stellargraph) (2.8.2)\n",
            "Requirement already satisfied: typing-extensions in /usr/local/lib/python3.7/dist-packages (from kiwisolver>=1.0.1->matplotlib>=2.2->stellargraph) (3.10.0.2)\n",
            "Requirement already satisfied: pytz>=2017.3 in /usr/local/lib/python3.7/dist-packages (from pandas>=0.24->stellargraph) (2018.9)\n",
            "Requirement already satisfied: joblib>=0.11 in /usr/local/lib/python3.7/dist-packages (from scikit-learn>=0.20->stellargraph) (1.1.0)\n",
            "Requirement already satisfied: threadpoolctl>=2.0.0 in /usr/local/lib/python3.7/dist-packages (from scikit-learn>=0.20->stellargraph) (3.1.0)\n",
            "Requirement already satisfied: wrapt>=1.11.0 in /usr/local/lib/python3.7/dist-packages (from tensorflow>=2.1.0->stellargraph) (1.14.0)\n",
            "Requirement already satisfied: flatbuffers>=1.12 in /usr/local/lib/python3.7/dist-packages (from tensorflow>=2.1.0->stellargraph) (2.0)\n",
            "Collecting tf-estimator-nightly==2.8.0.dev2021122109\n",
            "  Downloading tf_estimator_nightly-2.8.0.dev2021122109-py2.py3-none-any.whl (462 kB)\n",
            "\u001b[K     |████████████████████████████████| 462 kB 33.0 MB/s \n",
            "\u001b[?25hRequirement already satisfied: keras<2.9,>=2.8.0rc0 in /usr/local/lib/python3.7/dist-packages (from tensorflow>=2.1.0->stellargraph) (2.8.0)\n",
            "Requirement already satisfied: opt-einsum>=2.3.2 in /usr/local/lib/python3.7/dist-packages (from tensorflow>=2.1.0->stellargraph) (3.3.0)\n",
            "Requirement already satisfied: libclang>=9.0.1 in /usr/local/lib/python3.7/dist-packages (from tensorflow>=2.1.0->stellargraph) (13.0.0)\n",
            "Requirement already satisfied: keras-preprocessing>=1.1.1 in /usr/local/lib/python3.7/dist-packages (from tensorflow>=2.1.0->stellargraph) (1.1.2)\n",
            "Requirement already satisfied: h5py>=2.9.0 in /usr/local/lib/python3.7/dist-packages (from tensorflow>=2.1.0->stellargraph) (3.1.0)\n",
            "Requirement already satisfied: absl-py>=0.4.0 in /usr/local/lib/python3.7/dist-packages (from tensorflow>=2.1.0->stellargraph) (1.0.0)\n",
            "Requirement already satisfied: setuptools in /usr/local/lib/python3.7/dist-packages (from tensorflow>=2.1.0->stellargraph) (57.4.0)\n",
            "Requirement already satisfied: tensorflow-io-gcs-filesystem>=0.23.1 in /usr/local/lib/python3.7/dist-packages (from tensorflow>=2.1.0->stellargraph) (0.24.0)\n",
            "Requirement already satisfied: grpcio<2.0,>=1.24.3 in /usr/local/lib/python3.7/dist-packages (from tensorflow>=2.1.0->stellargraph) (1.44.0)\n",
            "Requirement already satisfied: termcolor>=1.1.0 in /usr/local/lib/python3.7/dist-packages (from tensorflow>=2.1.0->stellargraph) (1.1.0)\n",
            "Requirement already satisfied: google-pasta>=0.1.1 in /usr/local/lib/python3.7/dist-packages (from tensorflow>=2.1.0->stellargraph) (0.2.0)\n",
            "Requirement already satisfied: protobuf>=3.9.2 in /usr/local/lib/python3.7/dist-packages (from tensorflow>=2.1.0->stellargraph) (3.17.3)\n",
            "Requirement already satisfied: tensorboard<2.9,>=2.8 in /usr/local/lib/python3.7/dist-packages (from tensorflow>=2.1.0->stellargraph) (2.8.0)\n",
            "Requirement already satisfied: gast>=0.2.1 in /usr/local/lib/python3.7/dist-packages (from tensorflow>=2.1.0->stellargraph) (0.5.3)\n",
            "Requirement already satisfied: astunparse>=1.6.0 in /usr/local/lib/python3.7/dist-packages (from tensorflow>=2.1.0->stellargraph) (1.6.3)\n",
            "Requirement already satisfied: wheel<1.0,>=0.23.0 in /usr/local/lib/python3.7/dist-packages (from astunparse>=1.6.0->tensorflow>=2.1.0->stellargraph) (0.37.1)\n",
            "Requirement already satisfied: cached-property in /usr/local/lib/python3.7/dist-packages (from h5py>=2.9.0->tensorflow>=2.1.0->stellargraph) (1.5.2)\n",
            "Requirement already satisfied: tensorboard-data-server<0.7.0,>=0.6.0 in /usr/local/lib/python3.7/dist-packages (from tensorboard<2.9,>=2.8->tensorflow>=2.1.0->stellargraph) (0.6.1)\n",
            "Requirement already satisfied: tensorboard-plugin-wit>=1.6.0 in /usr/local/lib/python3.7/dist-packages (from tensorboard<2.9,>=2.8->tensorflow>=2.1.0->stellargraph) (1.8.1)\n",
            "Requirement already satisfied: markdown>=2.6.8 in /usr/local/lib/python3.7/dist-packages (from tensorboard<2.9,>=2.8->tensorflow>=2.1.0->stellargraph) (3.3.6)\n",
            "Requirement already satisfied: google-auth<3,>=1.6.3 in /usr/local/lib/python3.7/dist-packages (from tensorboard<2.9,>=2.8->tensorflow>=2.1.0->stellargraph) (1.35.0)\n",
            "Requirement already satisfied: requests<3,>=2.21.0 in /usr/local/lib/python3.7/dist-packages (from tensorboard<2.9,>=2.8->tensorflow>=2.1.0->stellargraph) (2.23.0)\n",
            "Requirement already satisfied: werkzeug>=0.11.15 in /usr/local/lib/python3.7/dist-packages (from tensorboard<2.9,>=2.8->tensorflow>=2.1.0->stellargraph) (1.0.1)\n",
            "Requirement already satisfied: google-auth-oauthlib<0.5,>=0.4.1 in /usr/local/lib/python3.7/dist-packages (from tensorboard<2.9,>=2.8->tensorflow>=2.1.0->stellargraph) (0.4.6)\n",
            "Requirement already satisfied: rsa<5,>=3.1.4 in /usr/local/lib/python3.7/dist-packages (from google-auth<3,>=1.6.3->tensorboard<2.9,>=2.8->tensorflow>=2.1.0->stellargraph) (4.8)\n",
            "Requirement already satisfied: pyasn1-modules>=0.2.1 in /usr/local/lib/python3.7/dist-packages (from google-auth<3,>=1.6.3->tensorboard<2.9,>=2.8->tensorflow>=2.1.0->stellargraph) (0.2.8)\n",
            "Requirement already satisfied: cachetools<5.0,>=2.0.0 in /usr/local/lib/python3.7/dist-packages (from google-auth<3,>=1.6.3->tensorboard<2.9,>=2.8->tensorflow>=2.1.0->stellargraph) (4.2.4)\n",
            "Requirement already satisfied: requests-oauthlib>=0.7.0 in /usr/local/lib/python3.7/dist-packages (from google-auth-oauthlib<0.5,>=0.4.1->tensorboard<2.9,>=2.8->tensorflow>=2.1.0->stellargraph) (1.3.1)\n",
            "Requirement already satisfied: importlib-metadata>=4.4 in /usr/local/lib/python3.7/dist-packages (from markdown>=2.6.8->tensorboard<2.9,>=2.8->tensorflow>=2.1.0->stellargraph) (4.11.3)\n",
            "Requirement already satisfied: zipp>=0.5 in /usr/local/lib/python3.7/dist-packages (from importlib-metadata>=4.4->markdown>=2.6.8->tensorboard<2.9,>=2.8->tensorflow>=2.1.0->stellargraph) (3.7.0)\n",
            "Requirement already satisfied: pyasn1<0.5.0,>=0.4.6 in /usr/local/lib/python3.7/dist-packages (from pyasn1-modules>=0.2.1->google-auth<3,>=1.6.3->tensorboard<2.9,>=2.8->tensorflow>=2.1.0->stellargraph) (0.4.8)\n",
            "Requirement already satisfied: urllib3!=1.25.0,!=1.25.1,<1.26,>=1.21.1 in /usr/local/lib/python3.7/dist-packages (from requests<3,>=2.21.0->tensorboard<2.9,>=2.8->tensorflow>=2.1.0->stellargraph) (1.24.3)\n",
            "Requirement already satisfied: chardet<4,>=3.0.2 in /usr/local/lib/python3.7/dist-packages (from requests<3,>=2.21.0->tensorboard<2.9,>=2.8->tensorflow>=2.1.0->stellargraph) (3.0.4)\n",
            "Requirement already satisfied: idna<3,>=2.5 in /usr/local/lib/python3.7/dist-packages (from requests<3,>=2.21.0->tensorboard<2.9,>=2.8->tensorflow>=2.1.0->stellargraph) (2.10)\n",
            "Requirement already satisfied: certifi>=2017.4.17 in /usr/local/lib/python3.7/dist-packages (from requests<3,>=2.21.0->tensorboard<2.9,>=2.8->tensorflow>=2.1.0->stellargraph) (2021.10.8)\n",
            "Requirement already satisfied: oauthlib>=3.0.0 in /usr/local/lib/python3.7/dist-packages (from requests-oauthlib>=0.7.0->google-auth-oauthlib<0.5,>=0.4.1->tensorboard<2.9,>=2.8->tensorflow>=2.1.0->stellargraph) (3.2.0)\n",
            "Installing collected packages: tf-estimator-nightly, stellargraph\n",
            "Successfully installed stellargraph-1.2.1 tf-estimator-nightly-2.8.0.dev2021122109\n"
          ]
        }
      ]
    },
    {
      "cell_type": "code",
      "source": [
        "from stellargraph.layer.gcn import GraphConvolution, GatherIndices\n",
        "\n",
        "# Initialise GCN parameters\n",
        "kernel_initializer=\"glorot_uniform\"\n",
        "bias = True\n",
        "bias_initializer=\"zeros\"\n",
        "n_layers = 2\n",
        "layer_sizes = [32, 32]\n",
        "dropout = 0.5\n"
      ],
      "metadata": {
        "id": "4oczyxclOC40"
      },
      "execution_count": 6,
      "outputs": []
    },
    {
      "cell_type": "markdown",
      "metadata": {
        "id": "fdYywkwbCWrS"
      },
      "source": [
        "#Questions"
      ]
    },
    {
      "cell_type": "markdown",
      "metadata": {
        "id": "9mS8j9ShA6eN"
      },
      "source": [
        "## describe the format of the input file (sdf file).\n",
        "\n",
        "the data contains a bunch of numbers and characters where characters represent nodes or components of the drug for example O-> oxygen, N ->neutrogena and so on. after each sample there is a number either 1 or -1 which is the label. we extract the links or edges that connect nodes with each others"
      ]
    },
    {
      "cell_type": "markdown",
      "source": [
        "### What are the input tensors to the neural network model (their meaning, not just symbol)? What is each of their dims and their meaning (e.g. batch_size)?\n",
        "\n",
        "embeded, edge,node2graph,num_graph\n",
        "\n",
        "embedded: represent the index of each feature or node instead of doing one-hot encoding\n",
        "\n",
        "edge : is the link between the nodes\n",
        "\n",
        "node2graph: order of the sample repetted with number of samples\n",
        "\n",
        "num_graph: number of samples, which came from the maximum of each array \n",
        "\n",
        "dim\n",
        "\n",
        "embedded : 20\n",
        "edge: 2\n",
        "node2graph: 1"
      ],
      "metadata": {
        "id": "Ph94irW1ru-N"
      }
    },
    {
      "cell_type": "markdown",
      "source": [
        "### For each dim of gnn_out, what does it symbolize? For each dim of avg, what does it symbolize?\n",
        "\n",
        "gnn_out take the input of gnn which is embeded data, edges , node2graph and num_graph beside parameters/ hyperparameters to apply gnn on them \n",
        "\n",
        "avg : use that gnn_out as an input to the segment_avg and node2graph as an index\n",
        "\n",
        "![segment_mean.PNG](data:image/png;base64,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)"
      ],
      "metadata": {
        "id": "xvsVr5MV1bXK"
      }
    },
    {
      "cell_type": "markdown",
      "source": [
        "### What is the difference between segment_mean and tf.reduce_mean? For each dim of pred, what does it symbolize?\n",
        "\n",
        "reduce_mean: Computes the mean of elements across dimensions of a tensor\n",
        "\n",
        "segment_mean: it compute the mean over each the segment \n",
        "\n",
        "pred: has a node represent the positive case or negative case and with sigmoid as an activation so if the output of the avg layer larger than .5 pred predict positive 1 and if not pred predict negative 0 "
      ],
      "metadata": {
        "id": "Zf3nA8dt9_nK"
      }
    },
    {
      "cell_type": "code",
      "source": [
        ""
      ],
      "metadata": {
        "id": "DliJLHq1-BiK"
      },
      "execution_count": null,
      "outputs": []
    },
    {
      "cell_type": "markdown",
      "source": [
        "### What is the motivation/theory/idea to use multiple gcn layers comparing to just one? How many layers were used in the template?\n",
        "\n",
        "Compressing a trained deep GCN into a compact GCN is of great importance for implementing the model to environments such as mobile or embedded systems, which have limited computing resources. almost none"
      ],
      "metadata": {
        "id": "fgSxTVI9INtr"
      }
    },
    {
      "cell_type": "code",
      "source": [
        ""
      ],
      "metadata": {
        "id": "sypDBrZRIO7j"
      },
      "execution_count": null,
      "outputs": []
    }
  ],
  "metadata": {
    "colab": {
      "collapsed_sections": [],
      "name": "Anti-Cancer Drug Activity Prediction",
      "provenance": []
    },
    "kernelspec": {
      "display_name": "Python 3",
      "name": "python3"
    },
    "widgets": {
      "application/vnd.jupyter.widget-state+json": {
        "63c6717b0ba143a5bc7e0239ef16b08f": {
          "model_module": "@jupyter-widgets/controls",
          "model_name": "HBoxModel",
          "model_module_version": "1.5.0",
          "state": {
            "_dom_classes": [],
            "_model_module": "@jupyter-widgets/controls",
            "_model_module_version": "1.5.0",
            "_model_name": "HBoxModel",
            "_view_count": null,
            "_view_module": "@jupyter-widgets/controls",
            "_view_module_version": "1.5.0",
            "_view_name": "HBoxView",
            "box_style": "",
            "children": [
              "IPY_MODEL_85410043fcd44f6c93d4045dc61743b0",
              "IPY_MODEL_c47d3188971c4534a474ab51d68ae31b",
              "IPY_MODEL_d17a9a54caad49dca2b7e020208b921f"
            ],
            "layout": "IPY_MODEL_ef7503bf494c437e86d5542414ff9279"
          }
        },
        "85410043fcd44f6c93d4045dc61743b0": {
          "model_module": "@jupyter-widgets/controls",
          "model_name": "HTMLModel",
          "model_module_version": "1.5.0",
          "state": {
            "_dom_classes": [],
            "_model_module": "@jupyter-widgets/controls",
            "_model_module_version": "1.5.0",
            "_model_name": "HTMLModel",
            "_view_count": null,
            "_view_module": "@jupyter-widgets/controls",
            "_view_module_version": "1.5.0",
            "_view_name": "HTMLView",
            "description": "",
            "description_tooltip": null,
            "layout": "IPY_MODEL_4f7bf4aa24d941b6bdb0f6c226ae9886",
            "placeholder": "​",
            "style": "IPY_MODEL_3f70be8ff0c6488b9dcc85ac49c8e8ab",
            "value": "100%"
          }
        },
        "c47d3188971c4534a474ab51d68ae31b": {
          "model_module": "@jupyter-widgets/controls",
          "model_name": "FloatProgressModel",
          "model_module_version": "1.5.0",
          "state": {
            "_dom_classes": [],
            "_model_module": "@jupyter-widgets/controls",
            "_model_module_version": "1.5.0",
            "_model_name": "FloatProgressModel",
            "_view_count": null,
            "_view_module": "@jupyter-widgets/controls",
            "_view_module_version": "1.5.0",
            "_view_name": "ProgressView",
            "bar_style": "success",
            "description": "",
            "description_tooltip": null,
            "layout": "IPY_MODEL_4337413347b943acb2381c91abd93fc5",
            "max": 25024,
            "min": 0,
            "orientation": "horizontal",
            "style": "IPY_MODEL_3dbe1f253535402584da24588a14667d",
            "value": 25024
          }
        },
        "d17a9a54caad49dca2b7e020208b921f": {
          "model_module": "@jupyter-widgets/controls",
          "model_name": "HTMLModel",
          "model_module_version": "1.5.0",
          "state": {
            "_dom_classes": [],
            "_model_module": "@jupyter-widgets/controls",
            "_model_module_version": "1.5.0",
            "_model_name": "HTMLModel",
            "_view_count": null,
            "_view_module": "@jupyter-widgets/controls",
            "_view_module_version": "1.5.0",
            "_view_name": "HTMLView",
            "description": "",
            "description_tooltip": null,
            "layout": "IPY_MODEL_609cf80f7e1c4a399caf205ec18d3b1a",
            "placeholder": "​",
            "style": "IPY_MODEL_0d34b279235c4ad397a07c260770f6c3",
            "value": " 25024/25024 [00:03&lt;00:00, 8254.59it/s]"
          }
        },
        "ef7503bf494c437e86d5542414ff9279": {
          "model_module": "@jupyter-widgets/base",
          "model_name": "LayoutModel",
          "model_module_version": "1.2.0",
          "state": {
            "_model_module": "@jupyter-widgets/base",
            "_model_module_version": "1.2.0",
            "_model_name": "LayoutModel",
            "_view_count": null,
            "_view_module": "@jupyter-widgets/base",
            "_view_module_version": "1.2.0",
            "_view_name": "LayoutView",
            "align_content": null,
            "align_items": null,
            "align_self": null,
            "border": null,
            "bottom": null,
            "display": null,
            "flex": null,
            "flex_flow": null,
            "grid_area": null,
            "grid_auto_columns": null,
            "grid_auto_flow": null,
            "grid_auto_rows": null,
            "grid_column": null,
            "grid_gap": null,
            "grid_row": null,
            "grid_template_areas": null,
            "grid_template_columns": null,
            "grid_template_rows": null,
            "height": null,
            "justify_content": null,
            "justify_items": null,
            "left": null,
            "margin": null,
            "max_height": null,
            "max_width": null,
            "min_height": null,
            "min_width": null,
            "object_fit": null,
            "object_position": null,
            "order": null,
            "overflow": null,
            "overflow_x": null,
            "overflow_y": null,
            "padding": null,
            "right": null,
            "top": null,
            "visibility": null,
            "width": null
          }
        },
        "4f7bf4aa24d941b6bdb0f6c226ae9886": {
          "model_module": "@jupyter-widgets/base",
          "model_name": "LayoutModel",
          "model_module_version": "1.2.0",
          "state": {
            "_model_module": "@jupyter-widgets/base",
            "_model_module_version": "1.2.0",
            "_model_name": "LayoutModel",
            "_view_count": null,
            "_view_module": "@jupyter-widgets/base",
            "_view_module_version": "1.2.0",
            "_view_name": "LayoutView",
            "align_content": null,
            "align_items": null,
            "align_self": null,
            "border": null,
            "bottom": null,
            "display": null,
            "flex": null,
            "flex_flow": null,
            "grid_area": null,
            "grid_auto_columns": null,
            "grid_auto_flow": null,
            "grid_auto_rows": null,
            "grid_column": null,
            "grid_gap": null,
            "grid_row": null,
            "grid_template_areas": null,
            "grid_template_columns": null,
            "grid_template_rows": null,
            "height": null,
            "justify_content": null,
            "justify_items": null,
            "left": null,
            "margin": null,
            "max_height": null,
            "max_width": null,
            "min_height": null,
            "min_width": null,
            "object_fit": null,
            "object_position": null,
            "order": null,
            "overflow": null,
            "overflow_x": null,
            "overflow_y": null,
            "padding": null,
            "right": null,
            "top": null,
            "visibility": null,
            "width": null
          }
        },
        "3f70be8ff0c6488b9dcc85ac49c8e8ab": {
          "model_module": "@jupyter-widgets/controls",
          "model_name": "DescriptionStyleModel",
          "model_module_version": "1.5.0",
          "state": {
            "_model_module": "@jupyter-widgets/controls",
            "_model_module_version": "1.5.0",
            "_model_name": "DescriptionStyleModel",
            "_view_count": null,
            "_view_module": "@jupyter-widgets/base",
            "_view_module_version": "1.2.0",
            "_view_name": "StyleView",
            "description_width": ""
          }
        },
        "4337413347b943acb2381c91abd93fc5": {
          "model_module": "@jupyter-widgets/base",
          "model_name": "LayoutModel",
          "model_module_version": "1.2.0",
          "state": {
            "_model_module": "@jupyter-widgets/base",
            "_model_module_version": "1.2.0",
            "_model_name": "LayoutModel",
            "_view_count": null,
            "_view_module": "@jupyter-widgets/base",
            "_view_module_version": "1.2.0",
            "_view_name": "LayoutView",
            "align_content": null,
            "align_items": null,
            "align_self": null,
            "border": null,
            "bottom": null,
            "display": null,
            "flex": null,
            "flex_flow": null,
            "grid_area": null,
            "grid_auto_columns": null,
            "grid_auto_flow": null,
            "grid_auto_rows": null,
            "grid_column": null,
            "grid_gap": null,
            "grid_row": null,
            "grid_template_areas": null,
            "grid_template_columns": null,
            "grid_template_rows": null,
            "height": null,
            "justify_content": null,
            "justify_items": null,
            "left": null,
            "margin": null,
            "max_height": null,
            "max_width": null,
            "min_height": null,
            "min_width": null,
            "object_fit": null,
            "object_position": null,
            "order": null,
            "overflow": null,
            "overflow_x": null,
            "overflow_y": null,
            "padding": null,
            "right": null,
            "top": null,
            "visibility": null,
            "width": null
          }
        },
        "3dbe1f253535402584da24588a14667d": {
          "model_module": "@jupyter-widgets/controls",
          "model_name": "ProgressStyleModel",
          "model_module_version": "1.5.0",
          "state": {
            "_model_module": "@jupyter-widgets/controls",
            "_model_module_version": "1.5.0",
            "_model_name": "ProgressStyleModel",
            "_view_count": null,
            "_view_module": "@jupyter-widgets/base",
            "_view_module_version": "1.2.0",
            "_view_name": "StyleView",
            "bar_color": null,
            "description_width": ""
          }
        },
        "609cf80f7e1c4a399caf205ec18d3b1a": {
          "model_module": "@jupyter-widgets/base",
          "model_name": "LayoutModel",
          "model_module_version": "1.2.0",
          "state": {
            "_model_module": "@jupyter-widgets/base",
            "_model_module_version": "1.2.0",
            "_model_name": "LayoutModel",
            "_view_count": null,
            "_view_module": "@jupyter-widgets/base",
            "_view_module_version": "1.2.0",
            "_view_name": "LayoutView",
            "align_content": null,
            "align_items": null,
            "align_self": null,
            "border": null,
            "bottom": null,
            "display": null,
            "flex": null,
            "flex_flow": null,
            "grid_area": null,
            "grid_auto_columns": null,
            "grid_auto_flow": null,
            "grid_auto_rows": null,
            "grid_column": null,
            "grid_gap": null,
            "grid_row": null,
            "grid_template_areas": null,
            "grid_template_columns": null,
            "grid_template_rows": null,
            "height": null,
            "justify_content": null,
            "justify_items": null,
            "left": null,
            "margin": null,
            "max_height": null,
            "max_width": null,
            "min_height": null,
            "min_width": null,
            "object_fit": null,
            "object_position": null,
            "order": null,
            "overflow": null,
            "overflow_x": null,
            "overflow_y": null,
            "padding": null,
            "right": null,
            "top": null,
            "visibility": null,
            "width": null
          }
        },
        "0d34b279235c4ad397a07c260770f6c3": {
          "model_module": "@jupyter-widgets/controls",
          "model_name": "DescriptionStyleModel",
          "model_module_version": "1.5.0",
          "state": {
            "_model_module": "@jupyter-widgets/controls",
            "_model_module_version": "1.5.0",
            "_model_name": "DescriptionStyleModel",
            "_view_count": null,
            "_view_module": "@jupyter-widgets/base",
            "_view_module_version": "1.2.0",
            "_view_name": "StyleView",
            "description_width": ""
          }
        },
        "01f4259334684a718cbbfc38d2a29a46": {
          "model_module": "@jupyter-widgets/controls",
          "model_name": "HBoxModel",
          "model_module_version": "1.5.0",
          "state": {
            "_dom_classes": [],
            "_model_module": "@jupyter-widgets/controls",
            "_model_module_version": "1.5.0",
            "_model_name": "HBoxModel",
            "_view_count": null,
            "_view_module": "@jupyter-widgets/controls",
            "_view_module_version": "1.5.0",
            "_view_name": "HBoxView",
            "box_style": "",
            "children": [
              "IPY_MODEL_20436f57c8b848b185353fb1480642a7",
              "IPY_MODEL_600651a54c2e414ea98d369b6fb01306",
              "IPY_MODEL_fef27b9f35764b96bf13b86fff9df6da"
            ],
            "layout": "IPY_MODEL_8b43e45bc67042deb8691dab503130c5"
          }
        },
        "20436f57c8b848b185353fb1480642a7": {
          "model_module": "@jupyter-widgets/controls",
          "model_name": "HTMLModel",
          "model_module_version": "1.5.0",
          "state": {
            "_dom_classes": [],
            "_model_module": "@jupyter-widgets/controls",
            "_model_module_version": "1.5.0",
            "_model_name": "HTMLModel",
            "_view_count": null,
            "_view_module": "@jupyter-widgets/controls",
            "_view_module_version": "1.5.0",
            "_view_name": "HTMLView",
            "description": "",
            "description_tooltip": null,
            "layout": "IPY_MODEL_13d9e7aa84d845bdbc92656441c4b2bd",
            "placeholder": "​",
            "style": "IPY_MODEL_e020ce5f9ffc41aa8cc816bcd57761a9",
            "value": "100%"
          }
        },
        "600651a54c2e414ea98d369b6fb01306": {
          "model_module": "@jupyter-widgets/controls",
          "model_name": "FloatProgressModel",
          "model_module_version": "1.5.0",
          "state": {
            "_dom_classes": [],
            "_model_module": "@jupyter-widgets/controls",
            "_model_module_version": "1.5.0",
            "_model_name": "FloatProgressModel",
            "_view_count": null,
            "_view_module": "@jupyter-widgets/controls",
            "_view_module_version": "1.5.0",
            "_view_name": "ProgressView",
            "bar_style": "success",
            "description": "",
            "description_tooltip": null,
            "layout": "IPY_MODEL_19e6dffca14342c8bbf72256caf16fff",
            "max": 12326,
            "min": 0,
            "orientation": "horizontal",
            "style": "IPY_MODEL_986f94115f544ccd8d1be44a8cfc2640",
            "value": 12326
          }
        },
        "fef27b9f35764b96bf13b86fff9df6da": {
          "model_module": "@jupyter-widgets/controls",
          "model_name": "HTMLModel",
          "model_module_version": "1.5.0",
          "state": {
            "_dom_classes": [],
            "_model_module": "@jupyter-widgets/controls",
            "_model_module_version": "1.5.0",
            "_model_name": "HTMLModel",
            "_view_count": null,
            "_view_module": "@jupyter-widgets/controls",
            "_view_module_version": "1.5.0",
            "_view_name": "HTMLView",
            "description": "",
            "description_tooltip": null,
            "layout": "IPY_MODEL_29885712e01041ca86ffbc4cd6d9840d",
            "placeholder": "​",
            "style": "IPY_MODEL_b17183cf532e47ceb7cb93f7e9bb4d75",
            "value": " 12326/12326 [00:01&lt;00:00, 8748.72it/s]"
          }
        },
        "8b43e45bc67042deb8691dab503130c5": {
          "model_module": "@jupyter-widgets/base",
          "model_name": "LayoutModel",
          "model_module_version": "1.2.0",
          "state": {
            "_model_module": "@jupyter-widgets/base",
            "_model_module_version": "1.2.0",
            "_model_name": "LayoutModel",
            "_view_count": null,
            "_view_module": "@jupyter-widgets/base",
            "_view_module_version": "1.2.0",
            "_view_name": "LayoutView",
            "align_content": null,
            "align_items": null,
            "align_self": null,
            "border": null,
            "bottom": null,
            "display": null,
            "flex": null,
            "flex_flow": null,
            "grid_area": null,
            "grid_auto_columns": null,
            "grid_auto_flow": null,
            "grid_auto_rows": null,
            "grid_column": null,
            "grid_gap": null,
            "grid_row": null,
            "grid_template_areas": null,
            "grid_template_columns": null,
            "grid_template_rows": null,
            "height": null,
            "justify_content": null,
            "justify_items": null,
            "left": null,
            "margin": null,
            "max_height": null,
            "max_width": null,
            "min_height": null,
            "min_width": null,
            "object_fit": null,
            "object_position": null,
            "order": null,
            "overflow": null,
            "overflow_x": null,
            "overflow_y": null,
            "padding": null,
            "right": null,
            "top": null,
            "visibility": null,
            "width": null
          }
        },
        "13d9e7aa84d845bdbc92656441c4b2bd": {
          "model_module": "@jupyter-widgets/base",
          "model_name": "LayoutModel",
          "model_module_version": "1.2.0",
          "state": {
            "_model_module": "@jupyter-widgets/base",
            "_model_module_version": "1.2.0",
            "_model_name": "LayoutModel",
            "_view_count": null,
            "_view_module": "@jupyter-widgets/base",
            "_view_module_version": "1.2.0",
            "_view_name": "LayoutView",
            "align_content": null,
            "align_items": null,
            "align_self": null,
            "border": null,
            "bottom": null,
            "display": null,
            "flex": null,
            "flex_flow": null,
            "grid_area": null,
            "grid_auto_columns": null,
            "grid_auto_flow": null,
            "grid_auto_rows": null,
            "grid_column": null,
            "grid_gap": null,
            "grid_row": null,
            "grid_template_areas": null,
            "grid_template_columns": null,
            "grid_template_rows": null,
            "height": null,
            "justify_content": null,
            "justify_items": null,
            "left": null,
            "margin": null,
            "max_height": null,
            "max_width": null,
            "min_height": null,
            "min_width": null,
            "object_fit": null,
            "object_position": null,
            "order": null,
            "overflow": null,
            "overflow_x": null,
            "overflow_y": null,
            "padding": null,
            "right": null,
            "top": null,
            "visibility": null,
            "width": null
          }
        },
        "e020ce5f9ffc41aa8cc816bcd57761a9": {
          "model_module": "@jupyter-widgets/controls",
          "model_name": "DescriptionStyleModel",
          "model_module_version": "1.5.0",
          "state": {
            "_model_module": "@jupyter-widgets/controls",
            "_model_module_version": "1.5.0",
            "_model_name": "DescriptionStyleModel",
            "_view_count": null,
            "_view_module": "@jupyter-widgets/base",
            "_view_module_version": "1.2.0",
            "_view_name": "StyleView",
            "description_width": ""
          }
        },
        "19e6dffca14342c8bbf72256caf16fff": {
          "model_module": "@jupyter-widgets/base",
          "model_name": "LayoutModel",
          "model_module_version": "1.2.0",
          "state": {
            "_model_module": "@jupyter-widgets/base",
            "_model_module_version": "1.2.0",
            "_model_name": "LayoutModel",
            "_view_count": null,
            "_view_module": "@jupyter-widgets/base",
            "_view_module_version": "1.2.0",
            "_view_name": "LayoutView",
            "align_content": null,
            "align_items": null,
            "align_self": null,
            "border": null,
            "bottom": null,
            "display": null,
            "flex": null,
            "flex_flow": null,
            "grid_area": null,
            "grid_auto_columns": null,
            "grid_auto_flow": null,
            "grid_auto_rows": null,
            "grid_column": null,
            "grid_gap": null,
            "grid_row": null,
            "grid_template_areas": null,
            "grid_template_columns": null,
            "grid_template_rows": null,
            "height": null,
            "justify_content": null,
            "justify_items": null,
            "left": null,
            "margin": null,
            "max_height": null,
            "max_width": null,
            "min_height": null,
            "min_width": null,
            "object_fit": null,
            "object_position": null,
            "order": null,
            "overflow": null,
            "overflow_x": null,
            "overflow_y": null,
            "padding": null,
            "right": null,
            "top": null,
            "visibility": null,
            "width": null
          }
        },
        "986f94115f544ccd8d1be44a8cfc2640": {
          "model_module": "@jupyter-widgets/controls",
          "model_name": "ProgressStyleModel",
          "model_module_version": "1.5.0",
          "state": {
            "_model_module": "@jupyter-widgets/controls",
            "_model_module_version": "1.5.0",
            "_model_name": "ProgressStyleModel",
            "_view_count": null,
            "_view_module": "@jupyter-widgets/base",
            "_view_module_version": "1.2.0",
            "_view_name": "StyleView",
            "bar_color": null,
            "description_width": ""
          }
        },
        "29885712e01041ca86ffbc4cd6d9840d": {
          "model_module": "@jupyter-widgets/base",
          "model_name": "LayoutModel",
          "model_module_version": "1.2.0",
          "state": {
            "_model_module": "@jupyter-widgets/base",
            "_model_module_version": "1.2.0",
            "_model_name": "LayoutModel",
            "_view_count": null,
            "_view_module": "@jupyter-widgets/base",
            "_view_module_version": "1.2.0",
            "_view_name": "LayoutView",
            "align_content": null,
            "align_items": null,
            "align_self": null,
            "border": null,
            "bottom": null,
            "display": null,
            "flex": null,
            "flex_flow": null,
            "grid_area": null,
            "grid_auto_columns": null,
            "grid_auto_flow": null,
            "grid_auto_rows": null,
            "grid_column": null,
            "grid_gap": null,
            "grid_row": null,
            "grid_template_areas": null,
            "grid_template_columns": null,
            "grid_template_rows": null,
            "height": null,
            "justify_content": null,
            "justify_items": null,
            "left": null,
            "margin": null,
            "max_height": null,
            "max_width": null,
            "min_height": null,
            "min_width": null,
            "object_fit": null,
            "object_position": null,
            "order": null,
            "overflow": null,
            "overflow_x": null,
            "overflow_y": null,
            "padding": null,
            "right": null,
            "top": null,
            "visibility": null,
            "width": null
          }
        },
        "b17183cf532e47ceb7cb93f7e9bb4d75": {
          "model_module": "@jupyter-widgets/controls",
          "model_name": "DescriptionStyleModel",
          "model_module_version": "1.5.0",
          "state": {
            "_model_module": "@jupyter-widgets/controls",
            "_model_module_version": "1.5.0",
            "_model_name": "DescriptionStyleModel",
            "_view_count": null,
            "_view_module": "@jupyter-widgets/base",
            "_view_module_version": "1.2.0",
            "_view_name": "StyleView",
            "description_width": ""
          }
        },
        "a0a349ebaab74f06ae2cd0681f086cbd": {
          "model_module": "@jupyter-widgets/controls",
          "model_name": "HBoxModel",
          "model_module_version": "1.5.0",
          "state": {
            "_dom_classes": [],
            "_model_module": "@jupyter-widgets/controls",
            "_model_module_version": "1.5.0",
            "_model_name": "HBoxModel",
            "_view_count": null,
            "_view_module": "@jupyter-widgets/controls",
            "_view_module_version": "1.5.0",
            "_view_name": "HBoxView",
            "box_style": "",
            "children": [
              "IPY_MODEL_493a0fd080fe48828d8737d888655013",
              "IPY_MODEL_b8fb9cc309cd4c71b206900d9b85cfd9",
              "IPY_MODEL_82401d06b02543fa9e695ae61a1516ab"
            ],
            "layout": "IPY_MODEL_2fb7a5b9238f4733b3ad1e59e1a5967d"
          }
        },
        "493a0fd080fe48828d8737d888655013": {
          "model_module": "@jupyter-widgets/controls",
          "model_name": "HTMLModel",
          "model_module_version": "1.5.0",
          "state": {
            "_dom_classes": [],
            "_model_module": "@jupyter-widgets/controls",
            "_model_module_version": "1.5.0",
            "_model_name": "HTMLModel",
            "_view_count": null,
            "_view_module": "@jupyter-widgets/controls",
            "_view_module_version": "1.5.0",
            "_view_name": "HTMLView",
            "description": "",
            "description_tooltip": null,
            "layout": "IPY_MODEL_803921cc3c06417aa05ea03e9a0bbcdf",
            "placeholder": "​",
            "style": "IPY_MODEL_1e5c261d19bf4204a1a15f8653250be7",
            "value": "100%"
          }
        },
        "b8fb9cc309cd4c71b206900d9b85cfd9": {
          "model_module": "@jupyter-widgets/controls",
          "model_name": "FloatProgressModel",
          "model_module_version": "1.5.0",
          "state": {
            "_dom_classes": [],
            "_model_module": "@jupyter-widgets/controls",
            "_model_module_version": "1.5.0",
            "_model_name": "FloatProgressModel",
            "_view_count": null,
            "_view_module": "@jupyter-widgets/controls",
            "_view_module_version": "1.5.0",
            "_view_name": "ProgressView",
            "bar_style": "success",
            "description": "",
            "description_tooltip": null,
            "layout": "IPY_MODEL_3648b1ee459743bc827252df1d61a79d",
            "max": 25024,
            "min": 0,
            "orientation": "horizontal",
            "style": "IPY_MODEL_0dd88d263e2a4df0bf32b83549e1f07d",
            "value": 25024
          }
        },
        "82401d06b02543fa9e695ae61a1516ab": {
          "model_module": "@jupyter-widgets/controls",
          "model_name": "HTMLModel",
          "model_module_version": "1.5.0",
          "state": {
            "_dom_classes": [],
            "_model_module": "@jupyter-widgets/controls",
            "_model_module_version": "1.5.0",
            "_model_name": "HTMLModel",
            "_view_count": null,
            "_view_module": "@jupyter-widgets/controls",
            "_view_module_version": "1.5.0",
            "_view_name": "HTMLView",
            "description": "",
            "description_tooltip": null,
            "layout": "IPY_MODEL_454746553c964ee3a2340bfd5f60491f",
            "placeholder": "​",
            "style": "IPY_MODEL_381c156d9ddb40759af90dc62caf6f18",
            "value": " 25024/25024 [00:03&lt;00:00, 8786.45it/s]"
          }
        },
        "2fb7a5b9238f4733b3ad1e59e1a5967d": {
          "model_module": "@jupyter-widgets/base",
          "model_name": "LayoutModel",
          "model_module_version": "1.2.0",
          "state": {
            "_model_module": "@jupyter-widgets/base",
            "_model_module_version": "1.2.0",
            "_model_name": "LayoutModel",
            "_view_count": null,
            "_view_module": "@jupyter-widgets/base",
            "_view_module_version": "1.2.0",
            "_view_name": "LayoutView",
            "align_content": null,
            "align_items": null,
            "align_self": null,
            "border": null,
            "bottom": null,
            "display": null,
            "flex": null,
            "flex_flow": null,
            "grid_area": null,
            "grid_auto_columns": null,
            "grid_auto_flow": null,
            "grid_auto_rows": null,
            "grid_column": null,
            "grid_gap": null,
            "grid_row": null,
            "grid_template_areas": null,
            "grid_template_columns": null,
            "grid_template_rows": null,
            "height": null,
            "justify_content": null,
            "justify_items": null,
            "left": null,
            "margin": null,
            "max_height": null,
            "max_width": null,
            "min_height": null,
            "min_width": null,
            "object_fit": null,
            "object_position": null,
            "order": null,
            "overflow": null,
            "overflow_x": null,
            "overflow_y": null,
            "padding": null,
            "right": null,
            "top": null,
            "visibility": null,
            "width": null
          }
        },
        "803921cc3c06417aa05ea03e9a0bbcdf": {
          "model_module": "@jupyter-widgets/base",
          "model_name": "LayoutModel",
          "model_module_version": "1.2.0",
          "state": {
            "_model_module": "@jupyter-widgets/base",
            "_model_module_version": "1.2.0",
            "_model_name": "LayoutModel",
            "_view_count": null,
            "_view_module": "@jupyter-widgets/base",
            "_view_module_version": "1.2.0",
            "_view_name": "LayoutView",
            "align_content": null,
            "align_items": null,
            "align_self": null,
            "border": null,
            "bottom": null,
            "display": null,
            "flex": null,
            "flex_flow": null,
            "grid_area": null,
            "grid_auto_columns": null,
            "grid_auto_flow": null,
            "grid_auto_rows": null,
            "grid_column": null,
            "grid_gap": null,
            "grid_row": null,
            "grid_template_areas": null,
            "grid_template_columns": null,
            "grid_template_rows": null,
            "height": null,
            "justify_content": null,
            "justify_items": null,
            "left": null,
            "margin": null,
            "max_height": null,
            "max_width": null,
            "min_height": null,
            "min_width": null,
            "object_fit": null,
            "object_position": null,
            "order": null,
            "overflow": null,
            "overflow_x": null,
            "overflow_y": null,
            "padding": null,
            "right": null,
            "top": null,
            "visibility": null,
            "width": null
          }
        },
        "1e5c261d19bf4204a1a15f8653250be7": {
          "model_module": "@jupyter-widgets/controls",
          "model_name": "DescriptionStyleModel",
          "model_module_version": "1.5.0",
          "state": {
            "_model_module": "@jupyter-widgets/controls",
            "_model_module_version": "1.5.0",
            "_model_name": "DescriptionStyleModel",
            "_view_count": null,
            "_view_module": "@jupyter-widgets/base",
            "_view_module_version": "1.2.0",
            "_view_name": "StyleView",
            "description_width": ""
          }
        },
        "3648b1ee459743bc827252df1d61a79d": {
          "model_module": "@jupyter-widgets/base",
          "model_name": "LayoutModel",
          "model_module_version": "1.2.0",
          "state": {
            "_model_module": "@jupyter-widgets/base",
            "_model_module_version": "1.2.0",
            "_model_name": "LayoutModel",
            "_view_count": null,
            "_view_module": "@jupyter-widgets/base",
            "_view_module_version": "1.2.0",
            "_view_name": "LayoutView",
            "align_content": null,
            "align_items": null,
            "align_self": null,
            "border": null,
            "bottom": null,
            "display": null,
            "flex": null,
            "flex_flow": null,
            "grid_area": null,
            "grid_auto_columns": null,
            "grid_auto_flow": null,
            "grid_auto_rows": null,
            "grid_column": null,
            "grid_gap": null,
            "grid_row": null,
            "grid_template_areas": null,
            "grid_template_columns": null,
            "grid_template_rows": null,
            "height": null,
            "justify_content": null,
            "justify_items": null,
            "left": null,
            "margin": null,
            "max_height": null,
            "max_width": null,
            "min_height": null,
            "min_width": null,
            "object_fit": null,
            "object_position": null,
            "order": null,
            "overflow": null,
            "overflow_x": null,
            "overflow_y": null,
            "padding": null,
            "right": null,
            "top": null,
            "visibility": null,
            "width": null
          }
        },
        "0dd88d263e2a4df0bf32b83549e1f07d": {
          "model_module": "@jupyter-widgets/controls",
          "model_name": "ProgressStyleModel",
          "model_module_version": "1.5.0",
          "state": {
            "_model_module": "@jupyter-widgets/controls",
            "_model_module_version": "1.5.0",
            "_model_name": "ProgressStyleModel",
            "_view_count": null,
            "_view_module": "@jupyter-widgets/base",
            "_view_module_version": "1.2.0",
            "_view_name": "StyleView",
            "bar_color": null,
            "description_width": ""
          }
        },
        "454746553c964ee3a2340bfd5f60491f": {
          "model_module": "@jupyter-widgets/base",
          "model_name": "LayoutModel",
          "model_module_version": "1.2.0",
          "state": {
            "_model_module": "@jupyter-widgets/base",
            "_model_module_version": "1.2.0",
            "_model_name": "LayoutModel",
            "_view_count": null,
            "_view_module": "@jupyter-widgets/base",
            "_view_module_version": "1.2.0",
            "_view_name": "LayoutView",
            "align_content": null,
            "align_items": null,
            "align_self": null,
            "border": null,
            "bottom": null,
            "display": null,
            "flex": null,
            "flex_flow": null,
            "grid_area": null,
            "grid_auto_columns": null,
            "grid_auto_flow": null,
            "grid_auto_rows": null,
            "grid_column": null,
            "grid_gap": null,
            "grid_row": null,
            "grid_template_areas": null,
            "grid_template_columns": null,
            "grid_template_rows": null,
            "height": null,
            "justify_content": null,
            "justify_items": null,
            "left": null,
            "margin": null,
            "max_height": null,
            "max_width": null,
            "min_height": null,
            "min_width": null,
            "object_fit": null,
            "object_position": null,
            "order": null,
            "overflow": null,
            "overflow_x": null,
            "overflow_y": null,
            "padding": null,
            "right": null,
            "top": null,
            "visibility": null,
            "width": null
          }
        },
        "381c156d9ddb40759af90dc62caf6f18": {
          "model_module": "@jupyter-widgets/controls",
          "model_name": "DescriptionStyleModel",
          "model_module_version": "1.5.0",
          "state": {
            "_model_module": "@jupyter-widgets/controls",
            "_model_module_version": "1.5.0",
            "_model_name": "DescriptionStyleModel",
            "_view_count": null,
            "_view_module": "@jupyter-widgets/base",
            "_view_module_version": "1.2.0",
            "_view_name": "StyleView",
            "description_width": ""
          }
        }
      }
    }
  },
  "nbformat": 4,
  "nbformat_minor": 0
}